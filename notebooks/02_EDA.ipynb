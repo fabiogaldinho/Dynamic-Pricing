{
 "cells": [
  {
   "cell_type": "code",
   "execution_count": 59,
   "id": "c317a373-150c-4446-9335-9e93777f2112",
   "metadata": {},
   "outputs": [],
   "source": [
    "import pandas as pd\n",
    "import numpy as np\n",
    "import matplotlib.pyplot as plt\n",
    "import seaborn as sns"
   ]
  },
  {
   "cell_type": "code",
   "execution_count": 2,
   "id": "4418e8a6-8689-4ade-b5fe-35d71a74a47e",
   "metadata": {},
   "outputs": [],
   "source": [
    "def warn(*args, **kwargs):\n",
    "    pass\n",
    "import warnings\n",
    "warnings.warn = warn"
   ]
  },
  {
   "cell_type": "code",
   "execution_count": 62,
   "id": "132b399a-1d17-463d-a3e0-1da0bd337c22",
   "metadata": {},
   "outputs": [],
   "source": [
    "corDefault = \"#6688AA\"\n",
    "corViridis = ['#440154', '#414487', '#2a788e', '#22a884', '#7ad151']\n",
    "\n",
    "def set_plot_style():\n",
    "    # Background colors\n",
    "    plt.figure().patch.set_facecolor(\"0.85\")\n",
    "    plt.axes().set(facecolor=\"0.85\")\n",
    "    \n",
    "    # Hiding grid\n",
    "    plt.grid(False)\n",
    "    \n",
    "    # Setting only left and bottom spines as visible\n",
    "    ax = plt.gca()\n",
    "    ax.spines['bottom'].set_visible(True)\n",
    "    ax.spines['left'].set_visible(True)\n",
    "    ax.spines['top'].set_visible(False)\n",
    "    ax.spines['right'].set_visible(False)\n",
    "    \n",
    "    # Spines color\n",
    "    ax.spines['bottom'].set_color(\"black\")\n",
    "    ax.spines['left'].set_color(\"black\")\n",
    "    \n",
    "    # Plot size\n",
    "    plt.gcf().set_size_inches(6, 5)\n",
    "\n",
    "    # Plot Style\n",
    "    plt.style.use('seaborn-v0_8-colorblind')"
   ]
  },
  {
   "cell_type": "code",
   "execution_count": 68,
   "id": "7e36710f-2c6c-4db5-9be2-e1578a67a491",
   "metadata": {},
   "outputs": [],
   "source": [
    "def PlotLineHue(x, y, hue, title, sx, sy, save):\n",
    "    set_plot_style()\n",
    "               \n",
    "    sns.lineplot(x = x, y = y, hue = hue)\n",
    "\n",
    "    plt.title(title)\n",
    "                    \n",
    "    plt.gcf().set_size_inches(sx, sy)\n",
    "\n",
    "    if (save != \"\"):\n",
    "        plt.tight_layout()\n",
    "        plt.savefig(save)\n",
    "                    \n",
    "    plt.show()\n",
    "    plt.close()"
   ]
  },
  {
   "cell_type": "code",
   "execution_count": 134,
   "id": "30dd9b00-a1a1-4b08-838a-251955f0b0b6",
   "metadata": {},
   "outputs": [],
   "source": [
    "import statsmodels.api as sm\n",
    "\n",
    "\n",
    "def PlotScatterHue(df, x, y, hue, rolling_mean, title, sx, sy, save):\n",
    "    set_plot_style()\n",
    "\n",
    "    lowess = sm.nonparametric.lowess\n",
    "    smoothed = lowess(y.fillna(0), x, frac=0.1)\n",
    "    \n",
    "    sns.scatterplot(x = x, y = y, hue = hue)\n",
    "    #plt.plot(x, rolling_mean, color = 'black')\n",
    "    #plt.plot(x, smoothed[:, 1], color='black', label='LOWESS')\n",
    "    sns.lmplot(x = x, y = y, data = df, ci = None)\n",
    "\n",
    "    plt.title(title)\n",
    "                    \n",
    "    plt.gcf().set_size_inches(sx, sy)\n",
    "\n",
    "    if (save != \"\"):\n",
    "        plt.tight_layout()\n",
    "        plt.savefig(save)\n",
    "                    \n",
    "    plt.show()\n",
    "    plt.close()"
   ]
  },
  {
   "cell_type": "markdown",
   "id": "56bdc081-e0b9-46d0-809f-9356afb4ae5b",
   "metadata": {},
   "source": [
    "# **DATASET LOADING**"
   ]
  },
  {
   "cell_type": "code",
   "execution_count": 4,
   "id": "cec5b557-64b0-47d1-b9d6-85c6f9b6bb78",
   "metadata": {},
   "outputs": [
    {
     "data": {
      "text/html": [
       "<div>\n",
       "<style scoped>\n",
       "    .dataframe tbody tr th:only-of-type {\n",
       "        vertical-align: middle;\n",
       "    }\n",
       "\n",
       "    .dataframe tbody tr th {\n",
       "        vertical-align: top;\n",
       "    }\n",
       "\n",
       "    .dataframe thead th {\n",
       "        text-align: right;\n",
       "    }\n",
       "</style>\n",
       "<table border=\"1\" class=\"dataframe\">\n",
       "  <thead>\n",
       "    <tr style=\"text-align: right;\">\n",
       "      <th></th>\n",
       "      <th>date</th>\n",
       "      <th>sell_quantity</th>\n",
       "      <th>sell_value</th>\n",
       "      <th>buy_quantity</th>\n",
       "      <th>buy_value</th>\n",
       "      <th>daily_balance</th>\n",
       "      <th>inventory</th>\n",
       "      <th>avg_temperature</th>\n",
       "      <th>precipitation</th>\n",
       "      <th>incc</th>\n",
       "      <th>fuel_price</th>\n",
       "      <th>is_holiday</th>\n",
       "    </tr>\n",
       "  </thead>\n",
       "  <tbody>\n",
       "    <tr>\n",
       "      <th>0</th>\n",
       "      <td>2024-01-01</td>\n",
       "      <td>NaN</td>\n",
       "      <td>NaN</td>\n",
       "      <td>NaN</td>\n",
       "      <td>NaN</td>\n",
       "      <td>0</td>\n",
       "      <td>175</td>\n",
       "      <td>24.9</td>\n",
       "      <td>0.1</td>\n",
       "      <td>0.0027</td>\n",
       "      <td>6.04</td>\n",
       "      <td>1</td>\n",
       "    </tr>\n",
       "    <tr>\n",
       "      <th>1</th>\n",
       "      <td>2024-01-02</td>\n",
       "      <td>163.0</td>\n",
       "      <td>32.10</td>\n",
       "      <td>280.0</td>\n",
       "      <td>28.97</td>\n",
       "      <td>117</td>\n",
       "      <td>292</td>\n",
       "      <td>25.0</td>\n",
       "      <td>0.2</td>\n",
       "      <td>0.0027</td>\n",
       "      <td>6.04</td>\n",
       "      <td>0</td>\n",
       "    </tr>\n",
       "    <tr>\n",
       "      <th>2</th>\n",
       "      <td>2024-01-03</td>\n",
       "      <td>215.0</td>\n",
       "      <td>31.13</td>\n",
       "      <td>NaN</td>\n",
       "      <td>28.97</td>\n",
       "      <td>-215</td>\n",
       "      <td>77</td>\n",
       "      <td>24.8</td>\n",
       "      <td>4.9</td>\n",
       "      <td>0.0027</td>\n",
       "      <td>6.04</td>\n",
       "      <td>0</td>\n",
       "    </tr>\n",
       "    <tr>\n",
       "      <th>3</th>\n",
       "      <td>2024-01-04</td>\n",
       "      <td>NaN</td>\n",
       "      <td>NaN</td>\n",
       "      <td>240.0</td>\n",
       "      <td>28.43</td>\n",
       "      <td>240</td>\n",
       "      <td>317</td>\n",
       "      <td>24.8</td>\n",
       "      <td>0.0</td>\n",
       "      <td>0.0027</td>\n",
       "      <td>6.04</td>\n",
       "      <td>0</td>\n",
       "    </tr>\n",
       "    <tr>\n",
       "      <th>4</th>\n",
       "      <td>2024-01-05</td>\n",
       "      <td>55.0</td>\n",
       "      <td>35.50</td>\n",
       "      <td>240.0</td>\n",
       "      <td>28.43</td>\n",
       "      <td>185</td>\n",
       "      <td>502</td>\n",
       "      <td>25.1</td>\n",
       "      <td>0.0</td>\n",
       "      <td>0.0027</td>\n",
       "      <td>6.04</td>\n",
       "      <td>0</td>\n",
       "    </tr>\n",
       "  </tbody>\n",
       "</table>\n",
       "</div>"
      ],
      "text/plain": [
       "        date  sell_quantity  sell_value  buy_quantity  buy_value  \\\n",
       "0 2024-01-01            NaN         NaN           NaN        NaN   \n",
       "1 2024-01-02          163.0       32.10         280.0      28.97   \n",
       "2 2024-01-03          215.0       31.13           NaN      28.97   \n",
       "3 2024-01-04            NaN         NaN         240.0      28.43   \n",
       "4 2024-01-05           55.0       35.50         240.0      28.43   \n",
       "\n",
       "   daily_balance  inventory  avg_temperature  precipitation    incc  \\\n",
       "0              0        175             24.9            0.1  0.0027   \n",
       "1            117        292             25.0            0.2  0.0027   \n",
       "2           -215         77             24.8            4.9  0.0027   \n",
       "3            240        317             24.8            0.0  0.0027   \n",
       "4            185        502             25.1            0.0  0.0027   \n",
       "\n",
       "   fuel_price  is_holiday  \n",
       "0        6.04           1  \n",
       "1        6.04           0  \n",
       "2        6.04           0  \n",
       "3        6.04           0  \n",
       "4        6.04           0  "
      ]
     },
     "execution_count": 4,
     "metadata": {},
     "output_type": "execute_result"
    }
   ],
   "source": [
    "df = pd.read_csv(\"../data/processed/01_Data_Cleaning.csv\")\n",
    "df['date'] = pd.to_datetime(df['date'])\n",
    "\n",
    "df.head()"
   ]
  },
  {
   "cell_type": "markdown",
   "id": "475ee350-56e6-4319-94a3-5f2543d1aa21",
   "metadata": {},
   "source": [
    "# **FEATURE ENGINEERING**"
   ]
  },
  {
   "cell_type": "markdown",
   "id": "27edcb7a-8f33-4112-aa35-531396a3d701",
   "metadata": {},
   "source": [
    "## **DEMAND, SUPPLY AND STOCK DYNAMICS**"
   ]
  },
  {
   "cell_type": "markdown",
   "id": "13bda1f4-5779-49d2-ab52-dcd207da6ff3",
   "metadata": {},
   "source": [
    "<br>\n",
    "Gross margin per unit (selling price / buying price) to measure profitability. It will be the primary target variable for profit optimization."
   ]
  },
  {
   "cell_type": "code",
   "execution_count": 8,
   "id": "16937903-7d89-4dcf-aef0-4e5d0660571f",
   "metadata": {},
   "outputs": [],
   "source": [
    "df['price_margin'] = df.apply(lambda row: (row['sell_value'] / row['buy_value']) if row['sell_value'] != 0 else np.nan, axis = 1)"
   ]
  },
  {
   "cell_type": "markdown",
   "id": "5cdc86be-32f1-4f3b-8e81-116881bb5296",
   "metadata": {},
   "source": [
    "3-day rolling average of the daily selling and buying prices, used to smooth out short-term fluctuations and highlight trends.  \n",
    "The 3-day standard deviation captures short-term volatility in selling prices."
   ]
  },
  {
   "cell_type": "code",
   "execution_count": 10,
   "id": "5e43dc28-ee11-4afc-87dc-cb79b088235a",
   "metadata": {},
   "outputs": [],
   "source": [
    "df['rolling_mean_sell_value'] = df['sell_value'].rolling(window = 3, min_periods = 1).mean()\n",
    "df['rolling_mean_buy_value'] = df['buy_value'].rolling(window = 3, min_periods = 1).mean()\n",
    "\n",
    "df['rolling_std_sell_value'] = df['sell_value'].rolling(window = 3).std()"
   ]
  },
  {
   "cell_type": "markdown",
   "id": "2b9490b8-7570-4a52-b2c8-0f2726e719a1",
   "metadata": {},
   "source": [
    "<br>\n",
    "Lag features of daily quantity sold (1-day and 7-day), allowing the model to detect temporal patterns or autocorrelation in demand. As well as, previous day’s inventory value, to help understand dynamic stock variation, and 7-day rolling average of inventory, reflecting smoothed stock availability."
   ]
  },
  {
   "cell_type": "code",
   "execution_count": 12,
   "id": "f71ad7b3-1460-43e5-9d47-955de025f81f",
   "metadata": {},
   "outputs": [],
   "source": [
    "df['sell_quantity_lag_1'] = df['sell_quantity'].shift(1)\n",
    "df['sell_quantity_lag_7'] = df['sell_quantity'].shift(7)\n",
    "\n",
    "df['inventory_lag_1'] = df['inventory'].shift(1)\n",
    "df['avg_inventory_rolling'] = df['inventory'].rolling(window = 7).mean()"
   ]
  },
  {
   "cell_type": "markdown",
   "id": "cf3f39d7-295c-4577-b9ad-7255537a665c",
   "metadata": {},
   "source": [
    "<br>\n",
    "To measure how quickly inventory is being sold relative to the previous day's stock level."
   ]
  },
  {
   "cell_type": "code",
   "execution_count": 14,
   "id": "e889e11b-defd-4cab-b9d3-f580ffda3068",
   "metadata": {},
   "outputs": [],
   "source": [
    "df['inventory_turnover'] = df['sell_quantity'] / (df['inventory_lag_1'] + 1e-6)"
   ]
  },
  {
   "cell_type": "markdown",
   "id": "d205f438-e509-402e-94b7-4b78a9df1dfd",
   "metadata": {},
   "source": [
    "<br>\n",
    "7-day average of quantity sold."
   ]
  },
  {
   "cell_type": "code",
   "execution_count": 16,
   "id": "c6ed673f-1fce-477b-8cfb-0e13c42e009c",
   "metadata": {},
   "outputs": [],
   "source": [
    "df['avg_sell_quantity_last_7d'] = df['sell_quantity'].rolling(window = 7).mean()"
   ]
  },
  {
   "cell_type": "markdown",
   "id": "edb335c8-d42f-4ed0-8c43-5ecae75139d8",
   "metadata": {},
   "source": [
    "<br>\n",
    "Daily percentage change in selling and buying prices, indicating price volatility."
   ]
  },
  {
   "cell_type": "code",
   "execution_count": 18,
   "id": "052a11d3-ab48-4c58-9295-0c994b6b10b9",
   "metadata": {},
   "outputs": [],
   "source": [
    "df['sell_value_pct_change'] = df['sell_value'].pct_change().replace([np.inf, -np.inf], np.nan)\n",
    "df['buy_value_pct_change'] = df['buy_value'].pct_change().replace([np.inf, -np.inf], np.nan)"
   ]
  },
  {
   "cell_type": "markdown",
   "id": "1aa0bb9b-e056-422a-acee-2daff560d71b",
   "metadata": {},
   "source": [
    "## **EXOGENOUS VARIABLES: WEATHER AND HOLIDAYS**"
   ]
  },
  {
   "cell_type": "markdown",
   "id": "cff7bc32-53c2-4c5c-bc30-6b82b4460ab6",
   "metadata": {},
   "source": [
    "Flags for moderate (2.5–10 mm) and heavy (≥10 mm) daily rainfall, based on Brazilian climate thresholds, which may affect sales of construction materials like cement."
   ]
  },
  {
   "cell_type": "code",
   "execution_count": 21,
   "id": "c02f5da6-7e53-47fb-a2ef-2f8c1cfda5b0",
   "metadata": {},
   "outputs": [],
   "source": [
    "df['is_moderate_rain'] = (df['precipitation'] >= 2.5) & (df['precipitation'] < 10)\n",
    "df['is_heavy_rain'] = df['precipitation'] >= 10"
   ]
  },
  {
   "cell_type": "code",
   "execution_count": 86,
   "id": "b6275d89-3e10-4fe4-b1b2-899335c5f226",
   "metadata": {},
   "outputs": [],
   "source": [
    "df['precip_bin'] = pd.cut(\n",
    "    df['precipitation'],\n",
    "    bins = [-float('inf'), 0.1, 2.5, 10, 50, float('inf')],\n",
    "    labels = ['no rain', 'light', 'moderate', 'heavy', 'torrential']\n",
    ")"
   ]
  },
  {
   "cell_type": "markdown",
   "id": "ecfb4574-cc75-4d08-83e1-c05e9798001a",
   "metadata": {},
   "source": [
    "<br>\n",
    "Temperature bins that categorize daily average temperature into three ranges based on cement curing guidelines:\n",
    "\n",
    "- **low**: below 10 °C. May slow down or impair proper curing; \n",
    "- **optimal**: between 10 °C and 25 °C. Ideal range for cement setting and strength development;\n",
    "- **high**: above 25 °C. May accelerate drying and reduce surface quality."
   ]
  },
  {
   "cell_type": "code",
   "execution_count": 23,
   "id": "924a3eef-8f44-4bb9-ae4e-4d23a8c02e01",
   "metadata": {},
   "outputs": [],
   "source": [
    "df['temperature_bin'] = pd.cut(\n",
    "    df['avg_temperature'],\n",
    "    bins = [-float('inf'), 10, 25, float('inf')],\n",
    "    labels = ['low', 'optimal', 'high']\n",
    ")"
   ]
  },
  {
   "cell_type": "markdown",
   "id": "1e0c1a01-e2e6-4b4e-9ccd-8cfa60ef2ec0",
   "metadata": {},
   "source": [
    "<br>\n",
    "Date-based time features that help the model capture seasonal patterns in demand and pricing."
   ]
  },
  {
   "cell_type": "code",
   "execution_count": 25,
   "id": "aaaf8105-3cf3-4337-986b-48b9102fc2e7",
   "metadata": {},
   "outputs": [],
   "source": [
    "df['month'] = df['date'].dt.month\n",
    "df['is_weekend'] = df['date'].dt.dayofweek\n",
    "df['is_weekend'] = df['is_weekend'].apply(lambda x: True if x > 4 else False)\n",
    "df['quarter'] = df['date'].dt.quarter"
   ]
  },
  {
   "cell_type": "markdown",
   "id": "722e3062-8a6b-415a-83cf-4b98df5bc177",
   "metadata": {},
   "source": [
    "<br>\n",
    "Incorporate anticipation effect."
   ]
  },
  {
   "cell_type": "code",
   "execution_count": 27,
   "id": "60aad63f-efed-4f12-a201-279b6a471222",
   "metadata": {},
   "outputs": [],
   "source": [
    "k = 1\n",
    "df.loc[0, 'days_until_holiday'] = 0\n",
    "\n",
    "for i in range(1, len(df)):\n",
    "    if (df.loc[i, 'is_holiday'] == 1):\n",
    "        h = df.loc[i, 'date']\n",
    "\n",
    "        for j in range(k, i):\n",
    "            df.loc[j, 'days_until_holiday'] = abs((h - df.loc[j, 'date']).days)\n",
    "\n",
    "        k = i + 1\n",
    "\n",
    "df['days_until_holiday'] = df['days_until_holiday'].fillna(0)"
   ]
  },
  {
   "cell_type": "markdown",
   "id": "0cc743f4-b62c-4993-921f-862470711bf2",
   "metadata": {},
   "source": [
    "## **INFLATION-AJUSTED FEATURES**"
   ]
  },
  {
   "cell_type": "markdown",
   "id": "e85e82bd-f398-4d61-b160-7969eba54f1a",
   "metadata": {},
   "source": [
    "Lagged values of monthly INCC inflation rate, allowing the model to capture inflation trends and their delayed effects on pricing."
   ]
  },
  {
   "cell_type": "code",
   "execution_count": 30,
   "id": "6583162e-b572-4166-a57f-41bae3b2a097",
   "metadata": {},
   "outputs": [],
   "source": [
    "df['incc_lag_month'] = df['incc'].shift(30)\n",
    "df['incc_lag_2_month'] = df['incc'].shift(60)"
   ]
  },
  {
   "cell_type": "markdown",
   "id": "54666820-7e4e-47dd-bdd4-f741b8e376c1",
   "metadata": {},
   "source": [
    "<br>\n",
    "Month-over-month change in the INCC inflation rate."
   ]
  },
  {
   "cell_type": "code",
   "execution_count": 32,
   "id": "1951282c-72ec-4a79-a496-ea22f9e297a0",
   "metadata": {},
   "outputs": [],
   "source": [
    "df['incc_monthly_change'] = df['incc'] - df['incc'].shift(30)"
   ]
  },
  {
   "cell_type": "markdown",
   "id": "09137762-4ac0-4aa0-a232-5c0ad3089fb1",
   "metadata": {},
   "source": [
    "<br>\n",
    "\n",
    "The `sell_value_pct_vs_incc` feature represents the difference between the daily percentage change in selling price and the INCC inflation rate.\n",
    "  - A positive value means the selling price increased more than inflation on that day, indicating a potential real price gain;\n",
    "  - A negative value means the price increased less than inflation, or even decreased, indicating a real loss in value;\n",
    "  - A value close to zero means the price kept pace with inflation, a neutral adjustment."
   ]
  },
  {
   "cell_type": "code",
   "execution_count": 34,
   "id": "718e02c1-72c4-43e1-966d-46a0a9d91e30",
   "metadata": {},
   "outputs": [],
   "source": [
    "df['sell_value_pct_vs_incc'] = df['sell_value_pct_change'] - df['incc']"
   ]
  },
  {
   "cell_type": "markdown",
   "id": "9b4ee058-1935-4e9a-a08c-dae5852c3142",
   "metadata": {},
   "source": [
    "# **EXPLORATORY DATA ANALYSIS**"
   ]
  },
  {
   "cell_type": "code",
   "execution_count": 138,
   "id": "fbbdf352-cc91-4f3d-a8e3-5bed3824ecf0",
   "metadata": {},
   "outputs": [
    {
     "ename": "TypeError",
     "evalue": "float() argument must be a string or a real number, not 'Timestamp'",
     "output_type": "error",
     "traceback": [
      "\u001b[0;31m---------------------------------------------------------------------------\u001b[0m",
      "\u001b[0;31mTypeError\u001b[0m                                 Traceback (most recent call last)",
      "Cell \u001b[0;32mIn[138], line 6\u001b[0m\n\u001b[1;32m      3\u001b[0m df[\u001b[38;5;124m'\u001b[39m\u001b[38;5;124msell_quantity_\u001b[39m\u001b[38;5;124m'\u001b[39m] \u001b[38;5;241m=\u001b[39m df[\u001b[38;5;124m'\u001b[39m\u001b[38;5;124msell_quantity\u001b[39m\u001b[38;5;124m'\u001b[39m]\u001b[38;5;241m.\u001b[39mcopy()\u001b[38;5;241m.\u001b[39mfillna(\u001b[38;5;241m0\u001b[39m)\n\u001b[1;32m      5\u001b[0m sns\u001b[38;5;241m.\u001b[39mscatterplot(x \u001b[38;5;241m=\u001b[39m df[\u001b[38;5;124m'\u001b[39m\u001b[38;5;124mdate\u001b[39m\u001b[38;5;124m'\u001b[39m], y \u001b[38;5;241m=\u001b[39m df[\u001b[38;5;124m'\u001b[39m\u001b[38;5;124msell_quantity\u001b[39m\u001b[38;5;124m'\u001b[39m], hue \u001b[38;5;241m=\u001b[39m df[\u001b[38;5;124m'\u001b[39m\u001b[38;5;124mprecip_bin\u001b[39m\u001b[38;5;124m'\u001b[39m])\n\u001b[0;32m----> 6\u001b[0m sns\u001b[38;5;241m.\u001b[39mlmplot(x \u001b[38;5;241m=\u001b[39m \u001b[38;5;124m'\u001b[39m\u001b[38;5;124mdate\u001b[39m\u001b[38;5;124m'\u001b[39m, y \u001b[38;5;241m=\u001b[39m \u001b[38;5;124m'\u001b[39m\u001b[38;5;124msell_quantity_\u001b[39m\u001b[38;5;124m'\u001b[39m, data \u001b[38;5;241m=\u001b[39m df, ci \u001b[38;5;241m=\u001b[39m \u001b[38;5;28;01mNone\u001b[39;00m)\n\u001b[1;32m      8\u001b[0m plt\u001b[38;5;241m.\u001b[39mgcf()\u001b[38;5;241m.\u001b[39mset_size_inches(\u001b[38;5;241m12\u001b[39m, \u001b[38;5;241m6\u001b[39m)\n\u001b[1;32m     10\u001b[0m plt\u001b[38;5;241m.\u001b[39mshow()\n",
      "File \u001b[0;32m/opt/anaconda3/lib/python3.12/site-packages/seaborn/regression.py:640\u001b[0m, in \u001b[0;36mlmplot\u001b[0;34m(data, x, y, hue, col, row, palette, col_wrap, height, aspect, markers, sharex, sharey, hue_order, col_order, row_order, legend, legend_out, x_estimator, x_bins, x_ci, scatter, fit_reg, ci, n_boot, units, seed, order, logistic, lowess, robust, logx, x_partial, y_partial, truncate, x_jitter, y_jitter, scatter_kws, line_kws, facet_kws)\u001b[0m\n\u001b[1;32m    637\u001b[0m     ax\u001b[38;5;241m.\u001b[39mupdate_datalim(xys, updatey\u001b[38;5;241m=\u001b[39m\u001b[38;5;28;01mFalse\u001b[39;00m)\n\u001b[1;32m    638\u001b[0m     ax\u001b[38;5;241m.\u001b[39mautoscale_view(scaley\u001b[38;5;241m=\u001b[39m\u001b[38;5;28;01mFalse\u001b[39;00m)\n\u001b[0;32m--> 640\u001b[0m facets\u001b[38;5;241m.\u001b[39mmap_dataframe(update_datalim, x\u001b[38;5;241m=\u001b[39mx, y\u001b[38;5;241m=\u001b[39my)\n\u001b[1;32m    642\u001b[0m \u001b[38;5;66;03m# Draw the regression plot on each facet\u001b[39;00m\n\u001b[1;32m    643\u001b[0m regplot_kws \u001b[38;5;241m=\u001b[39m \u001b[38;5;28mdict\u001b[39m(\n\u001b[1;32m    644\u001b[0m     x_estimator\u001b[38;5;241m=\u001b[39mx_estimator, x_bins\u001b[38;5;241m=\u001b[39mx_bins, x_ci\u001b[38;5;241m=\u001b[39mx_ci,\n\u001b[1;32m    645\u001b[0m     scatter\u001b[38;5;241m=\u001b[39mscatter, fit_reg\u001b[38;5;241m=\u001b[39mfit_reg, ci\u001b[38;5;241m=\u001b[39mci, n_boot\u001b[38;5;241m=\u001b[39mn_boot, units\u001b[38;5;241m=\u001b[39munits,\n\u001b[0;32m   (...)\u001b[0m\n\u001b[1;32m    649\u001b[0m     scatter_kws\u001b[38;5;241m=\u001b[39mscatter_kws, line_kws\u001b[38;5;241m=\u001b[39mline_kws,\n\u001b[1;32m    650\u001b[0m )\n",
      "File \u001b[0;32m/opt/anaconda3/lib/python3.12/site-packages/seaborn/axisgrid.py:825\u001b[0m, in \u001b[0;36mFacetGrid.map_dataframe\u001b[0;34m(self, func, *args, **kwargs)\u001b[0m\n\u001b[1;32m    822\u001b[0m     kwargs[\u001b[38;5;124m\"\u001b[39m\u001b[38;5;124mdata\u001b[39m\u001b[38;5;124m\"\u001b[39m] \u001b[38;5;241m=\u001b[39m data_ijk\n\u001b[1;32m    824\u001b[0m     \u001b[38;5;66;03m# Draw the plot\u001b[39;00m\n\u001b[0;32m--> 825\u001b[0m     \u001b[38;5;28mself\u001b[39m\u001b[38;5;241m.\u001b[39m_facet_plot(func, ax, args, kwargs)\n\u001b[1;32m    827\u001b[0m \u001b[38;5;66;03m# For axis labels, prefer to use positional args for backcompat\u001b[39;00m\n\u001b[1;32m    828\u001b[0m \u001b[38;5;66;03m# but also extract the x/y kwargs and use if no corresponding arg\u001b[39;00m\n\u001b[1;32m    829\u001b[0m axis_labels \u001b[38;5;241m=\u001b[39m [kwargs\u001b[38;5;241m.\u001b[39mget(\u001b[38;5;124m\"\u001b[39m\u001b[38;5;124mx\u001b[39m\u001b[38;5;124m\"\u001b[39m, \u001b[38;5;28;01mNone\u001b[39;00m), kwargs\u001b[38;5;241m.\u001b[39mget(\u001b[38;5;124m\"\u001b[39m\u001b[38;5;124my\u001b[39m\u001b[38;5;124m\"\u001b[39m, \u001b[38;5;28;01mNone\u001b[39;00m)]\n",
      "File \u001b[0;32m/opt/anaconda3/lib/python3.12/site-packages/seaborn/axisgrid.py:854\u001b[0m, in \u001b[0;36mFacetGrid._facet_plot\u001b[0;34m(self, func, ax, plot_args, plot_kwargs)\u001b[0m\n\u001b[1;32m    852\u001b[0m     plot_args \u001b[38;5;241m=\u001b[39m []\n\u001b[1;32m    853\u001b[0m     plot_kwargs[\u001b[38;5;124m\"\u001b[39m\u001b[38;5;124max\u001b[39m\u001b[38;5;124m\"\u001b[39m] \u001b[38;5;241m=\u001b[39m ax\n\u001b[0;32m--> 854\u001b[0m func(\u001b[38;5;241m*\u001b[39mplot_args, \u001b[38;5;241m*\u001b[39m\u001b[38;5;241m*\u001b[39mplot_kwargs)\n\u001b[1;32m    856\u001b[0m \u001b[38;5;66;03m# Sort out the supporting information\u001b[39;00m\n\u001b[1;32m    857\u001b[0m \u001b[38;5;28mself\u001b[39m\u001b[38;5;241m.\u001b[39m_update_legend_data(ax)\n",
      "File \u001b[0;32m/opt/anaconda3/lib/python3.12/site-packages/seaborn/regression.py:636\u001b[0m, in \u001b[0;36mlmplot.<locals>.update_datalim\u001b[0;34m(data, x, y, ax, **kws)\u001b[0m\n\u001b[1;32m    635\u001b[0m \u001b[38;5;28;01mdef\u001b[39;00m \u001b[38;5;21mupdate_datalim\u001b[39m(data, x, y, ax, \u001b[38;5;241m*\u001b[39m\u001b[38;5;241m*\u001b[39mkws):\n\u001b[0;32m--> 636\u001b[0m     xys \u001b[38;5;241m=\u001b[39m data[[x, y]]\u001b[38;5;241m.\u001b[39mto_numpy()\u001b[38;5;241m.\u001b[39mastype(\u001b[38;5;28mfloat\u001b[39m)\n\u001b[1;32m    637\u001b[0m     ax\u001b[38;5;241m.\u001b[39mupdate_datalim(xys, updatey\u001b[38;5;241m=\u001b[39m\u001b[38;5;28;01mFalse\u001b[39;00m)\n\u001b[1;32m    638\u001b[0m     ax\u001b[38;5;241m.\u001b[39mautoscale_view(scaley\u001b[38;5;241m=\u001b[39m\u001b[38;5;28;01mFalse\u001b[39;00m)\n",
      "\u001b[0;31mTypeError\u001b[0m: float() argument must be a string or a real number, not 'Timestamp'"
     ]
    },
    {
     "data": {
      "image/png": "[encoded data removed]",
      "text/plain": [
       "<Figure size 600x500 with 1 Axes>"
      ]
     },
     "metadata": {},
     "output_type": "display_data"
    },
    {
     "data": {
      "image/png": "[encoded data removed]",
      "text/plain": [
       "<Figure size 500x500 with 1 Axes>"
      ]
     },
     "metadata": {},
     "output_type": "display_data"
    }
   ],
   "source": [
    "set_plot_style()\n",
    "\n",
    "df['sell_quantity_'] = df['sell_quantity'].copy().fillna(0)\n",
    "\n",
    "sns.scatterplot(x = df['date'], y = df['sell_quantity'], hue = df['precip_bin'])\n",
    "sns.lmplot(x = 'date', y = 'sell_quantity_', data = df, ci = None)\n",
    "                    \n",
    "plt.gcf().set_size_inches(12, 6)\n",
    "                    \n",
    "plt.show()\n",
    "plt.close()\n",
    "\n",
    "#PlotScatterHue(df, df['date'], df['sell_quantity'], df['precip_bin'], df['avg_sell_quantity_last_7d'], \"\", 12, 6, \"\")"
   ]
  },
  {
   "cell_type": "code",
   "execution_count": 35,
   "id": "cb26f4e8-fb4d-440c-97cd-e1c538e61e03",
   "metadata": {},
   "outputs": [],
   "source": [
    "df.to_csv(\"../data/processed/02_EDA.csv\", index = False)"
   ]
  },
  {
   "cell_type": "code",
   "execution_count": 36,
   "id": "13203dbe-62cf-4279-9bb2-78b8741d3613",
   "metadata": {},
   "outputs": [
    {
     "name": "stdout",
     "output_type": "stream",
     "text": [
      "<class 'pandas.core.frame.DataFrame'>\n",
      "RangeIndex: 486 entries, 0 to 485\n",
      "Data columns (total 35 columns):\n",
      " #   Column                     Non-Null Count  Dtype         \n",
      "---  ------                     --------------  -----         \n",
      " 0   date                       486 non-null    datetime64[ns]\n",
      " 1   sell_quantity              379 non-null    float64       \n",
      " 2   sell_value                 379 non-null    float64       \n",
      " 3   buy_quantity               164 non-null    float64       \n",
      " 4   buy_value                  485 non-null    float64       \n",
      " 5   daily_balance              486 non-null    int64         \n",
      " 6   inventory                  486 non-null    int64         \n",
      " 7   avg_temperature            486 non-null    float64       \n",
      " 8   precipitation              461 non-null    float64       \n",
      " 9   incc                       486 non-null    float64       \n",
      " 10  fuel_price                 486 non-null    float64       \n",
      " 11  is_holiday                 486 non-null    int64         \n",
      " 12  price_margin               379 non-null    float64       \n",
      " 13  rolling_mean_sell_value    478 non-null    float64       \n",
      " 14  rolling_mean_buy_value     485 non-null    float64       \n",
      " 15  rolling_std_sell_value     226 non-null    float64       \n",
      " 16  sell_quantity_lag_1        378 non-null    float64       \n",
      " 17  sell_quantity_lag_7        374 non-null    float64       \n",
      " 18  inventory_lag_1            485 non-null    float64       \n",
      " 19  avg_inventory_rolling      480 non-null    float64       \n",
      " 20  inventory_turnover         379 non-null    float64       \n",
      " 21  avg_sell_quantity_last_7d  0 non-null      float64       \n",
      " 22  sell_value_pct_change      484 non-null    float64       \n",
      " 23  buy_value_pct_change       484 non-null    float64       \n",
      " 24  is_moderate_rain           486 non-null    bool          \n",
      " 25  is_heavy_rain              486 non-null    bool          \n",
      " 26  temperature_bin            486 non-null    category      \n",
      " 27  month                      486 non-null    int32         \n",
      " 28  is_weekend                 486 non-null    bool          \n",
      " 29  quarter                    486 non-null    int32         \n",
      " 30  days_until_holiday         486 non-null    float64       \n",
      " 31  incc_lag_month             456 non-null    float64       \n",
      " 32  incc_lag_2_month           426 non-null    float64       \n",
      " 33  incc_monthly_change        456 non-null    float64       \n",
      " 34  sell_value_pct_vs_incc     484 non-null    float64       \n",
      "dtypes: bool(3), category(1), datetime64[ns](1), float64(25), int32(2), int64(3)\n",
      "memory usage: 116.1 KB\n"
     ]
    }
   ],
   "source": [
    "df.info()"
   ]
  },
  {
   "cell_type": "code",
   "execution_count": null,
   "id": "3af5db7f-94dc-40a4-a47e-200c033650c0",
   "metadata": {},
   "outputs": [],
   "source": []
  }
 ],
 "metadata": {
  "kernelspec": {
   "display_name": "Python [conda env:base] *",
   "language": "python",
   "name": "conda-base-py"
  },
  "language_info": {
   "codemirror_mode": {
    "name": "ipython",
    "version": 3
   },
   "file_extension": ".py",
   "mimetype": "text/x-python",
   "name": "python",
   "nbconvert_exporter": "python",
   "pygments_lexer": "ipython3",
   "version": "3.12.8"
  }
 },
 "nbformat": 4,
 "nbformat_minor": 5
}
