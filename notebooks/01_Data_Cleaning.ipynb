{
 "cells": [
  {
   "cell_type": "code",
   "execution_count": 346,
   "id": "945651d9-0b7d-421b-868f-4840c18d9924",
   "metadata": {},
   "outputs": [],
   "source": [
    "import pandas as pd\n",
    "import numpy as np\n",
    "from datetime import datetime\n",
    "import requests\n",
    "import matplotlib.pyplot as plt\n",
    "import seaborn as sns\n",
    "\n",
    "!pip install -q holidays\n",
    "import holidays\n",
    "\n",
    "!pip install -q meteostat\n",
    "from meteostat import Point, Daily"
   ]
  },
  {
   "cell_type": "code",
   "execution_count": 347,
   "id": "ac045622-d9d0-49cb-85bd-3f4b9f89a593",
   "metadata": {},
   "outputs": [],
   "source": [
    "def warn(*args, **kwargs):\n",
    "    pass\n",
    "import warnings\n",
    "warnings.warn = warn"
   ]
  },
  {
   "cell_type": "markdown",
   "id": "886b9cd6-e88d-4799-b79f-d969a8aa3a11",
   "metadata": {},
   "source": [
    "# **FUNCTIONS**"
   ]
  },
  {
   "cell_type": "markdown",
   "id": "89fcba1c-99e4-41df-a171-d1ec32a1648e",
   "metadata": {
    "jp-MarkdownHeadingCollapsed": true
   },
   "source": [
    "## **Set Plot Style**"
   ]
  },
  {
   "cell_type": "code",
   "execution_count": 350,
   "id": "1072588d-2402-4500-9304-009c42730982",
   "metadata": {},
   "outputs": [],
   "source": [
    "def set_plot_style():\n",
    "    # Background colors\n",
    "    plt.figure().patch.set_facecolor(\"0.85\")\n",
    "    plt.axes().set(facecolor=\"0.85\")\n",
    "    \n",
    "    # Hiding grid\n",
    "    plt.grid(False)\n",
    "    \n",
    "    # Setting only left and bottom spines as visible\n",
    "    ax = plt.gca()\n",
    "    ax.spines['bottom'].set_visible(True)\n",
    "    ax.spines['left'].set_visible(True)\n",
    "    ax.spines['top'].set_visible(False)\n",
    "    ax.spines['right'].set_visible(False)\n",
    "    \n",
    "    # Spines color\n",
    "    ax.spines['bottom'].set_color(\"black\")\n",
    "    ax.spines['left'].set_color(\"black\")\n",
    "    \n",
    "    # Plot size\n",
    "    plt.gcf().set_size_inches(6, 5)"
   ]
  },
  {
   "cell_type": "markdown",
   "id": "754deaef-c2a0-4ca2-bb1f-3bb67b2452ea",
   "metadata": {
    "jp-MarkdownHeadingCollapsed": true
   },
   "source": [
    "## **Scatter Plot**"
   ]
  },
  {
   "cell_type": "code",
   "execution_count": 352,
   "id": "7043d2a3-e177-4589-ab36-bc7928e3832a",
   "metadata": {},
   "outputs": [],
   "source": [
    "def PlotScatter(x, y, title, xunit, yunit, x_size):\n",
    "    set_plot_style()\n",
    "    \n",
    "    plt.title(title)\n",
    "    plt.scatter(x, y, alpha=0.7)\n",
    "\n",
    "    plt.gca().set_xlabel(xunit, fontsize = 10)\n",
    "    plt.gca().xaxis.set_label_coords(1.05, -0.025)\n",
    "    plt.gca().set_ylabel(yunit, fontsize = 10)\n",
    "    plt.gca().yaxis.set_label_coords(-0.16, .98)\n",
    "\n",
    "    if (x_size == 0):\n",
    "        plt.gcf().set_size_inches(6, 5)\n",
    "    else:\n",
    "        plt.gcf().set_size_inches(x_size, 5)\n",
    "    plt.show()\n",
    "    plt.close()"
   ]
  },
  {
   "cell_type": "markdown",
   "id": "b8033d38-d2d8-4440-86a0-9ee05eb6bae8",
   "metadata": {
    "jp-MarkdownHeadingCollapsed": true
   },
   "source": [
    "## **Box Plot**"
   ]
  },
  {
   "cell_type": "code",
   "execution_count": 354,
   "id": "94390922-d1a1-48fd-a693-a8245056a6e2",
   "metadata": {},
   "outputs": [],
   "source": [
    "def PlotBoxPlotV3(df_x, df_y, title, size_x, size_y, save):\n",
    "    set_plot_style()\n",
    "\n",
    "    plt.title(title)\n",
    "    sns.boxplot(x = df_x, y = df_y, palette = \"mako\")\n",
    "\n",
    "    plt.xlabel(\"\")\n",
    "    plt.ylabel(\"\")\n",
    "\n",
    "    plt.gcf().set_size_inches(size_x, size_y)\n",
    "\n",
    "    if (save != \"\"):\n",
    "        plt.savefig(save)\n",
    "\n",
    "    plt.show()\n",
    "    plt.close()"
   ]
  },
  {
   "cell_type": "code",
   "execution_count": 355,
   "id": "8ba13504-afdf-4882-a117-524187773293",
   "metadata": {},
   "outputs": [],
   "source": [
    "def PlotBoxPlotV3_y(df_y, title, size_x, size_y, save):\n",
    "    set_plot_style()\n",
    "\n",
    "    plt.title(title)\n",
    "    sns.boxplot(y = df_y, palette = \"mako\")\n",
    "\n",
    "    plt.xlabel(\"\")\n",
    "    plt.ylabel(\"\")\n",
    "\n",
    "    plt.gcf().set_size_inches(size_x, size_y)\n",
    "\n",
    "    #plt.ylim(0,)\n",
    "\n",
    "    if (save != \"\"):\n",
    "        plt.savefig(save)\n",
    "\n",
    "    plt.show()\n",
    "    plt.close()"
   ]
  },
  {
   "cell_type": "markdown",
   "id": "99bb0c5f-c7d3-455b-bacf-552f5d6a555d",
   "metadata": {
    "jp-MarkdownHeadingCollapsed": true
   },
   "source": [
    "## **IQR Outlier Method**"
   ]
  },
  {
   "cell_type": "code",
   "execution_count": 357,
   "id": "799fd981-6d9f-4a47-a0a7-26eec395532b",
   "metadata": {},
   "outputs": [],
   "source": [
    "def IQR_Method(df, column):\n",
    "    Q1 = df[column].quantile(0.25)\n",
    "    Q3 = df[column].quantile(0.75)\n",
    "    \n",
    "    IQR = Q3 - Q1\n",
    "    \n",
    "    lower_limit = Q1 - 1.5 * IQR\n",
    "    upper_limit = Q3 + 1.5 * IQR\n",
    "    \n",
    "    return df[(df[column] >= lower_limit) & (df[column] <= upper_limit)]"
   ]
  },
  {
   "cell_type": "markdown",
   "id": "1b39f6d6-ffb8-44b7-b776-c24b44bbf4ea",
   "metadata": {
    "jp-MarkdownHeadingCollapsed": true
   },
   "source": [
    "## **Regression Plot**"
   ]
  },
  {
   "cell_type": "code",
   "execution_count": 359,
   "id": "3871634b-a45e-4ce9-b020-32a690a91f51",
   "metadata": {},
   "outputs": [],
   "source": [
    "def PlotRegPlot(df_x, df_y, title, xunit, yunit):\n",
    "    set_plot_style()\n",
    "\n",
    "    plt.title(title)\n",
    "    sns.regplot(x = df_x, y = df_y, line_kws={\"color\": \"#31273F\"})\n",
    "\n",
    "    plt.gca().set_ylabel(yunit, fontsize = 10)\n",
    "    plt.gca().yaxis.set_label_coords(-0.07, .98)\n",
    "\n",
    "    plt.gca().set_xlabel(xunit, fontsize = 10)\n",
    "    plt.gca().xaxis.set_label_coords(1.05, -0.025)\n",
    "\n",
    "    plt.gca().set_yticklabels(['{:,.0f}'.format(x) for x in plt.gca().get_yticks()])\n",
    "    #plt.gca().set_xticklabels(['{:,.0f}'.format(x) for x in plt.gca().get_xticks()])\n",
    "\n",
    "    plt.show()\n",
    "    plt.close()"
   ]
  },
  {
   "cell_type": "markdown",
   "id": "c37c5a8a-d15d-4f8a-855b-acad18fb996c",
   "metadata": {},
   "source": [
    "## **Line Plot**"
   ]
  },
  {
   "cell_type": "code",
   "execution_count": 454,
   "id": "36b0c5af-9376-4c60-aa5a-45d5a444d7e6",
   "metadata": {},
   "outputs": [],
   "source": [
    "def PlotLine_y(y, title, yunit, x_size, y_size):\n",
    "  set_plot_style()\n",
    "\n",
    "  plt.title(title)\n",
    "  plt.plot(y)\n",
    "\n",
    "  plt.gca().set_xlabel(\"\", fontsize = 0)\n",
    "  #plt.gca().xaxis.set_label_coords(1.05, -0.025)\n",
    "  plt.gca().set_ylabel(yunit, fontsize = 10)\n",
    "  plt.gca().yaxis.set_label_coords(-0.16, .98)\n",
    "\n",
    "  #plt.gca().set_yticklabels(['{:,.0f}'.format(x) for x in plt.gca().get_yticks()])\n",
    "\n",
    "  plt.gcf().set_size_inches(x_size, y_size)\n",
    "\n",
    "  plt.show()\n",
    "  plt.close()"
   ]
  },
  {
   "cell_type": "code",
   "execution_count": 456,
   "id": "855054b6-6282-4854-9450-ce68e0f1561d",
   "metadata": {},
   "outputs": [],
   "source": [
    "def PlotLine(x, y, title, yunit, x_size, y_size):\n",
    "  set_plot_style()\n",
    "\n",
    "  plt.title(title)\n",
    "  plt.plot(x, y)\n",
    "\n",
    "  plt.gca().set_xlabel(\"\", fontsize = 0)\n",
    "  #plt.gca().xaxis.set_label_coords(1.05, -0.025)\n",
    "  plt.gca().set_ylabel(yunit, fontsize = 10)\n",
    "  plt.gca().yaxis.set_label_coords(-0.16, .98)\n",
    "\n",
    "  #plt.gca().set_yticklabels(['{:,.0f}'.format(x) for x in plt.gca().get_yticks()])\n",
    "\n",
    "  plt.gcf().set_size_inches(x_size, y_size)\n",
    "\n",
    "  plt.show()\n",
    "  plt.close()"
   ]
  },
  {
   "cell_type": "markdown",
   "id": "66305d45-d17d-4301-b595-198f2f1f088f",
   "metadata": {
    "jp-MarkdownHeadingCollapsed": true
   },
   "source": [
    "# **DATASET LOADING**"
   ]
  },
  {
   "cell_type": "markdown",
   "id": "7819bdfd-51ba-427f-bd89-e7835af28fb4",
   "metadata": {},
   "source": [
    "For this project, we will import three datasets extracted from the company's database:\n",
    "- `sell_df`: contains records of all sales transactions for the product;\n",
    "- `buy_df`: contains records of product purchase transactions;\n",
    "- `inventory_count_df`: contains inventory count records over time."
   ]
  },
  {
   "cell_type": "code",
   "execution_count": 364,
   "id": "4883b84a-fd10-4975-af7e-7b75b25534a8",
   "metadata": {},
   "outputs": [
    {
     "data": {
      "text/html": [
       "<div>\n",
       "<style scoped>\n",
       "    .dataframe tbody tr th:only-of-type {\n",
       "        vertical-align: middle;\n",
       "    }\n",
       "\n",
       "    .dataframe tbody tr th {\n",
       "        vertical-align: top;\n",
       "    }\n",
       "\n",
       "    .dataframe thead th {\n",
       "        text-align: right;\n",
       "    }\n",
       "</style>\n",
       "<table border=\"1\" class=\"dataframe\">\n",
       "  <thead>\n",
       "    <tr style=\"text-align: right;\">\n",
       "      <th></th>\n",
       "      <th>date</th>\n",
       "      <th>sell_quantity</th>\n",
       "      <th>sell_value</th>\n",
       "      <th>sell_final_value</th>\n",
       "    </tr>\n",
       "  </thead>\n",
       "  <tbody>\n",
       "    <tr>\n",
       "      <th>0</th>\n",
       "      <td>2024-01-02</td>\n",
       "      <td>280.0</td>\n",
       "      <td>28.97</td>\n",
       "      <td>30.93</td>\n",
       "    </tr>\n",
       "    <tr>\n",
       "      <th>1</th>\n",
       "      <td>2024-01-04</td>\n",
       "      <td>240.0</td>\n",
       "      <td>28.43</td>\n",
       "      <td>30.35</td>\n",
       "    </tr>\n",
       "    <tr>\n",
       "      <th>2</th>\n",
       "      <td>2024-01-05</td>\n",
       "      <td>240.0</td>\n",
       "      <td>28.43</td>\n",
       "      <td>30.35</td>\n",
       "    </tr>\n",
       "    <tr>\n",
       "      <th>3</th>\n",
       "      <td>2024-01-09</td>\n",
       "      <td>240.0</td>\n",
       "      <td>28.43</td>\n",
       "      <td>30.35</td>\n",
       "    </tr>\n",
       "    <tr>\n",
       "      <th>4</th>\n",
       "      <td>2024-01-11</td>\n",
       "      <td>240.0</td>\n",
       "      <td>28.43</td>\n",
       "      <td>30.35</td>\n",
       "    </tr>\n",
       "    <tr>\n",
       "      <th>...</th>\n",
       "      <td>...</td>\n",
       "      <td>...</td>\n",
       "      <td>...</td>\n",
       "      <td>...</td>\n",
       "    </tr>\n",
       "    <tr>\n",
       "      <th>159</th>\n",
       "      <td>2025-04-14</td>\n",
       "      <td>200.0</td>\n",
       "      <td>30.49</td>\n",
       "      <td>32.55</td>\n",
       "    </tr>\n",
       "    <tr>\n",
       "      <th>160</th>\n",
       "      <td>2025-04-15</td>\n",
       "      <td>220.0</td>\n",
       "      <td>30.49</td>\n",
       "      <td>32.55</td>\n",
       "    </tr>\n",
       "    <tr>\n",
       "      <th>161</th>\n",
       "      <td>2025-04-16</td>\n",
       "      <td>200.0</td>\n",
       "      <td>30.49</td>\n",
       "      <td>32.55</td>\n",
       "    </tr>\n",
       "    <tr>\n",
       "      <th>162</th>\n",
       "      <td>2025-04-22</td>\n",
       "      <td>200.0</td>\n",
       "      <td>30.49</td>\n",
       "      <td>32.55</td>\n",
       "    </tr>\n",
       "    <tr>\n",
       "      <th>163</th>\n",
       "      <td>2025-04-25</td>\n",
       "      <td>450.0</td>\n",
       "      <td>30.22</td>\n",
       "      <td>32.26</td>\n",
       "    </tr>\n",
       "  </tbody>\n",
       "</table>\n",
       "<p>164 rows × 4 columns</p>\n",
       "</div>"
      ],
      "text/plain": [
       "          date  sell_quantity  sell_value  sell_final_value\n",
       "0   2024-01-02          280.0       28.97             30.93\n",
       "1   2024-01-04          240.0       28.43             30.35\n",
       "2   2024-01-05          240.0       28.43             30.35\n",
       "3   2024-01-09          240.0       28.43             30.35\n",
       "4   2024-01-11          240.0       28.43             30.35\n",
       "..         ...            ...         ...               ...\n",
       "159 2025-04-14          200.0       30.49             32.55\n",
       "160 2025-04-15          220.0       30.49             32.55\n",
       "161 2025-04-16          200.0       30.49             32.55\n",
       "162 2025-04-22          200.0       30.49             32.55\n",
       "163 2025-04-25          450.0       30.22             32.26\n",
       "\n",
       "[164 rows x 4 columns]"
      ]
     },
     "execution_count": 364,
     "metadata": {},
     "output_type": "execute_result"
    }
   ],
   "source": [
    "sell_df = pd.read_csv(\"../data/raw/Dataset_sell.csv\")\n",
    "sell_df['sell_date'] = pd.to_datetime(sell_df['sell_date']).dt.normalize()\n",
    "sell_df = sell_df[sell_df['sell_date'] < datetime(2025, 5, 1)]\n",
    "sell_df = sell_df.rename(columns = {'sell_date': 'date'})\n",
    "\n",
    "sell_df = sell_df.groupby('date').agg({'sell_quantity': 'sum', 'sell_value': 'mean', 'sell_final_value': 'mean'}).reset_index()\n",
    "sell_df['sell_value'] = np.round(sell_df['sell_value'], 2)\n",
    "sell_df['sell_final_value'] = np.round(sell_df['sell_final_value'], 2)\n",
    "\n",
    "sell_df"
   ]
  },
  {
   "cell_type": "code",
   "execution_count": 365,
   "id": "73291783-1bf6-4811-8120-214eef55173f",
   "metadata": {},
   "outputs": [
    {
     "data": {
      "text/html": [
       "<div>\n",
       "<style scoped>\n",
       "    .dataframe tbody tr th:only-of-type {\n",
       "        vertical-align: middle;\n",
       "    }\n",
       "\n",
       "    .dataframe tbody tr th {\n",
       "        vertical-align: top;\n",
       "    }\n",
       "\n",
       "    .dataframe thead th {\n",
       "        text-align: right;\n",
       "    }\n",
       "</style>\n",
       "<table border=\"1\" class=\"dataframe\">\n",
       "  <thead>\n",
       "    <tr style=\"text-align: right;\">\n",
       "      <th></th>\n",
       "      <th>date</th>\n",
       "      <th>buy_quantity</th>\n",
       "      <th>buy_value</th>\n",
       "    </tr>\n",
       "  </thead>\n",
       "  <tbody>\n",
       "    <tr>\n",
       "      <th>0</th>\n",
       "      <td>2024-01-02</td>\n",
       "      <td>163.0</td>\n",
       "      <td>32.10</td>\n",
       "    </tr>\n",
       "    <tr>\n",
       "      <th>1</th>\n",
       "      <td>2024-01-03</td>\n",
       "      <td>215.0</td>\n",
       "      <td>31.13</td>\n",
       "    </tr>\n",
       "    <tr>\n",
       "      <th>2</th>\n",
       "      <td>2024-01-04</td>\n",
       "      <td>2953.0</td>\n",
       "      <td>34.30</td>\n",
       "    </tr>\n",
       "    <tr>\n",
       "      <th>3</th>\n",
       "      <td>2024-01-05</td>\n",
       "      <td>55.0</td>\n",
       "      <td>35.50</td>\n",
       "    </tr>\n",
       "    <tr>\n",
       "      <th>4</th>\n",
       "      <td>2024-01-06</td>\n",
       "      <td>2.0</td>\n",
       "      <td>33.50</td>\n",
       "    </tr>\n",
       "    <tr>\n",
       "      <th>...</th>\n",
       "      <td>...</td>\n",
       "      <td>...</td>\n",
       "      <td>...</td>\n",
       "    </tr>\n",
       "    <tr>\n",
       "      <th>380</th>\n",
       "      <td>2025-04-24</td>\n",
       "      <td>60.0</td>\n",
       "      <td>34.94</td>\n",
       "    </tr>\n",
       "    <tr>\n",
       "      <th>381</th>\n",
       "      <td>2025-04-25</td>\n",
       "      <td>142.0</td>\n",
       "      <td>34.92</td>\n",
       "    </tr>\n",
       "    <tr>\n",
       "      <th>382</th>\n",
       "      <td>2025-04-28</td>\n",
       "      <td>39.0</td>\n",
       "      <td>35.17</td>\n",
       "    </tr>\n",
       "    <tr>\n",
       "      <th>383</th>\n",
       "      <td>2025-04-29</td>\n",
       "      <td>107.0</td>\n",
       "      <td>34.71</td>\n",
       "    </tr>\n",
       "    <tr>\n",
       "      <th>384</th>\n",
       "      <td>2025-04-30</td>\n",
       "      <td>11.0</td>\n",
       "      <td>35.20</td>\n",
       "    </tr>\n",
       "  </tbody>\n",
       "</table>\n",
       "<p>385 rows × 3 columns</p>\n",
       "</div>"
      ],
      "text/plain": [
       "          date  buy_quantity  buy_value\n",
       "0   2024-01-02         163.0      32.10\n",
       "1   2024-01-03         215.0      31.13\n",
       "2   2024-01-04        2953.0      34.30\n",
       "3   2024-01-05          55.0      35.50\n",
       "4   2024-01-06           2.0      33.50\n",
       "..         ...           ...        ...\n",
       "380 2025-04-24          60.0      34.94\n",
       "381 2025-04-25         142.0      34.92\n",
       "382 2025-04-28          39.0      35.17\n",
       "383 2025-04-29         107.0      34.71\n",
       "384 2025-04-30          11.0      35.20\n",
       "\n",
       "[385 rows x 3 columns]"
      ]
     },
     "execution_count": 365,
     "metadata": {},
     "output_type": "execute_result"
    }
   ],
   "source": [
    "buy_df = pd.read_csv(\"../data/raw/Dataset_buy.csv\")\n",
    "buy_df['buy_date'] = pd.to_datetime(buy_df['buy_date']).dt.normalize()\n",
    "buy_df = buy_df[buy_df['buy_date'] < datetime(2025, 5, 1)]\n",
    "buy_df = buy_df.rename(columns = {'buy_date': 'date'})\n",
    "buy_df = buy_df.groupby('date').agg({'buy_quantity': 'sum', 'buy_value': 'mean'}).reset_index()\n",
    "buy_df['buy_value'] = np.round(buy_df['buy_value'], 2)\n",
    "buy_df"
   ]
  },
  {
   "cell_type": "code",
   "execution_count": 366,
   "id": "b2f568b9-8437-404d-81ad-45e93cc9bee4",
   "metadata": {},
   "outputs": [
    {
     "data": {
      "text/html": [
       "<div>\n",
       "<style scoped>\n",
       "    .dataframe tbody tr th:only-of-type {\n",
       "        vertical-align: middle;\n",
       "    }\n",
       "\n",
       "    .dataframe tbody tr th {\n",
       "        vertical-align: top;\n",
       "    }\n",
       "\n",
       "    .dataframe thead th {\n",
       "        text-align: right;\n",
       "    }\n",
       "</style>\n",
       "<table border=\"1\" class=\"dataframe\">\n",
       "  <thead>\n",
       "    <tr style=\"text-align: right;\">\n",
       "      <th></th>\n",
       "      <th>inventory</th>\n",
       "      <th>date_inventory</th>\n",
       "    </tr>\n",
       "  </thead>\n",
       "  <tbody>\n",
       "    <tr>\n",
       "      <th>0</th>\n",
       "      <td>175.0</td>\n",
       "      <td>2023-12-29</td>\n",
       "    </tr>\n",
       "    <tr>\n",
       "      <th>1</th>\n",
       "      <td>252.0</td>\n",
       "      <td>2024-03-18</td>\n",
       "    </tr>\n",
       "    <tr>\n",
       "      <th>2</th>\n",
       "      <td>357.0</td>\n",
       "      <td>2024-03-19</td>\n",
       "    </tr>\n",
       "    <tr>\n",
       "      <th>3</th>\n",
       "      <td>-43.0</td>\n",
       "      <td>2024-03-27</td>\n",
       "    </tr>\n",
       "    <tr>\n",
       "      <th>4</th>\n",
       "      <td>-40.0</td>\n",
       "      <td>2024-05-23</td>\n",
       "    </tr>\n",
       "    <tr>\n",
       "      <th>5</th>\n",
       "      <td>144.0</td>\n",
       "      <td>2024-05-28</td>\n",
       "    </tr>\n",
       "    <tr>\n",
       "      <th>6</th>\n",
       "      <td>1330.0</td>\n",
       "      <td>2024-08-30</td>\n",
       "    </tr>\n",
       "    <tr>\n",
       "      <th>7</th>\n",
       "      <td>82.0</td>\n",
       "      <td>2024-12-30</td>\n",
       "    </tr>\n",
       "    <tr>\n",
       "      <th>8</th>\n",
       "      <td>115.0</td>\n",
       "      <td>2025-01-07</td>\n",
       "    </tr>\n",
       "  </tbody>\n",
       "</table>\n",
       "</div>"
      ],
      "text/plain": [
       "   inventory date_inventory\n",
       "0      175.0     2023-12-29\n",
       "1      252.0     2024-03-18\n",
       "2      357.0     2024-03-19\n",
       "3      -43.0     2024-03-27\n",
       "4      -40.0     2024-05-23\n",
       "5      144.0     2024-05-28\n",
       "6     1330.0     2024-08-30\n",
       "7       82.0     2024-12-30\n",
       "8      115.0     2025-01-07"
      ]
     },
     "execution_count": 366,
     "metadata": {},
     "output_type": "execute_result"
    }
   ],
   "source": [
    "inventory_count_df = pd.read_csv(\"../data/raw/Dataset_inventory.csv\")\n",
    "inventory_count_df"
   ]
  },
  {
   "cell_type": "code",
   "execution_count": 367,
   "id": "5be7baf2-f47c-450e-b96f-8b6e0badbe74",
   "metadata": {},
   "outputs": [
    {
     "data": {
      "text/html": [
       "<div>\n",
       "<style scoped>\n",
       "    .dataframe tbody tr th:only-of-type {\n",
       "        vertical-align: middle;\n",
       "    }\n",
       "\n",
       "    .dataframe tbody tr th {\n",
       "        vertical-align: top;\n",
       "    }\n",
       "\n",
       "    .dataframe thead th {\n",
       "        text-align: right;\n",
       "    }\n",
       "</style>\n",
       "<table border=\"1\" class=\"dataframe\">\n",
       "  <thead>\n",
       "    <tr style=\"text-align: right;\">\n",
       "      <th></th>\n",
       "      <th>date</th>\n",
       "      <th>daily_balance</th>\n",
       "      <th>inventory</th>\n",
       "    </tr>\n",
       "  </thead>\n",
       "  <tbody>\n",
       "    <tr>\n",
       "      <th>0</th>\n",
       "      <td>2024-01-01</td>\n",
       "      <td>0.0</td>\n",
       "      <td>175.0</td>\n",
       "    </tr>\n",
       "    <tr>\n",
       "      <th>1</th>\n",
       "      <td>2024-01-02</td>\n",
       "      <td>-117.0</td>\n",
       "      <td>58.0</td>\n",
       "    </tr>\n",
       "    <tr>\n",
       "      <th>2</th>\n",
       "      <td>2024-01-03</td>\n",
       "      <td>215.0</td>\n",
       "      <td>273.0</td>\n",
       "    </tr>\n",
       "    <tr>\n",
       "      <th>3</th>\n",
       "      <td>2024-01-04</td>\n",
       "      <td>2713.0</td>\n",
       "      <td>2986.0</td>\n",
       "    </tr>\n",
       "    <tr>\n",
       "      <th>4</th>\n",
       "      <td>2024-01-05</td>\n",
       "      <td>-185.0</td>\n",
       "      <td>2801.0</td>\n",
       "    </tr>\n",
       "    <tr>\n",
       "      <th>...</th>\n",
       "      <td>...</td>\n",
       "      <td>...</td>\n",
       "      <td>...</td>\n",
       "    </tr>\n",
       "    <tr>\n",
       "      <th>481</th>\n",
       "      <td>2025-04-26</td>\n",
       "      <td>0.0</td>\n",
       "      <td>11387.0</td>\n",
       "    </tr>\n",
       "    <tr>\n",
       "      <th>482</th>\n",
       "      <td>2025-04-27</td>\n",
       "      <td>0.0</td>\n",
       "      <td>11387.0</td>\n",
       "    </tr>\n",
       "    <tr>\n",
       "      <th>483</th>\n",
       "      <td>2025-04-28</td>\n",
       "      <td>39.0</td>\n",
       "      <td>11426.0</td>\n",
       "    </tr>\n",
       "    <tr>\n",
       "      <th>484</th>\n",
       "      <td>2025-04-29</td>\n",
       "      <td>107.0</td>\n",
       "      <td>11533.0</td>\n",
       "    </tr>\n",
       "    <tr>\n",
       "      <th>485</th>\n",
       "      <td>2025-04-30</td>\n",
       "      <td>11.0</td>\n",
       "      <td>11544.0</td>\n",
       "    </tr>\n",
       "  </tbody>\n",
       "</table>\n",
       "<p>486 rows × 3 columns</p>\n",
       "</div>"
      ],
      "text/plain": [
       "          date  daily_balance  inventory\n",
       "0   2024-01-01            0.0      175.0\n",
       "1   2024-01-02         -117.0       58.0\n",
       "2   2024-01-03          215.0      273.0\n",
       "3   2024-01-04         2713.0     2986.0\n",
       "4   2024-01-05         -185.0     2801.0\n",
       "..         ...            ...        ...\n",
       "481 2025-04-26            0.0    11387.0\n",
       "482 2025-04-27            0.0    11387.0\n",
       "483 2025-04-28           39.0    11426.0\n",
       "484 2025-04-29          107.0    11533.0\n",
       "485 2025-04-30           11.0    11544.0\n",
       "\n",
       "[486 rows x 3 columns]"
      ]
     },
     "execution_count": 367,
     "metadata": {},
     "output_type": "execute_result"
    }
   ],
   "source": [
    "inventory_df = pd.date_range(start ='2024-1-1', end ='2025-04-30', freq ='D')\n",
    "inventory_df = pd.DataFrame(inventory_df, columns = ['date_inventory'])\n",
    "inventory_df = inventory_df.rename(columns = {'date_inventory': 'date'})\n",
    "inventory_df['inventory_'] = 0\n",
    "inventory_df.loc[0, 'inventory_'] = inventory_count_df.loc[0,'inventory']\n",
    "inventory_df = inventory_df.merge(sell_df[['date', 'sell_quantity']], on = 'date', how = 'left').fillna(0)\n",
    "inventory_df = inventory_df.merge(buy_df[['date', 'buy_quantity']], on = 'date', how = 'left').fillna(0)\n",
    "inventory_df['daily_balance'] = inventory_df['buy_quantity'] - inventory_df['sell_quantity']\n",
    "inventory_df['inventory'] = inventory_df['daily_balance'].cumsum() + inventory_df.at[0, 'inventory_']\n",
    "inventory_df = inventory_df.drop(columns = {'inventory_', 'sell_quantity', 'buy_quantity'}, axis = 1)\n",
    "inventory_df"
   ]
  },
  {
   "cell_type": "markdown",
   "id": "7d49d6fe-ac96-4ac6-8eda-325a8ed8418a",
   "metadata": {
    "jp-MarkdownHeadingCollapsed": true
   },
   "source": [
    "# **APIs LOADING**"
   ]
  },
  {
   "cell_type": "markdown",
   "id": "57e2362e-8dd2-4b62-84a2-6b06bff9fecc",
   "metadata": {},
   "source": [
    "## **OPEN WEATHER**"
   ]
  },
  {
   "cell_type": "code",
   "execution_count": 370,
   "id": "b90df9ff-bf4b-45e7-b83f-92dee494d298",
   "metadata": {},
   "outputs": [],
   "source": [
    "city = Point(-22.31553, -49.070822)\n",
    "start_date = datetime(2024, 1, 1)\n",
    "end_date = datetime(2025, 5, 8)\n",
    "\n",
    "weather_df = Daily(city, start_date, end_date)\n",
    "weather_df = weather_df.fetch()[['tavg', 'prcp']]\n",
    "weather_df = weather_df.rename_axis('date').reset_index()\n",
    "weather_df = weather_df.rename(columns = {'tavg': 'avg_temperature', 'prcp': 'precipitation'})\n",
    "weather_df = weather_df[weather_df['date'] < datetime(2025, 5, 1)]"
   ]
  },
  {
   "cell_type": "code",
   "execution_count": 371,
   "id": "53492ee2-b2d0-4e96-964c-38a15be0d196",
   "metadata": {},
   "outputs": [
    {
     "data": {
      "text/html": [
       "<div>\n",
       "<style scoped>\n",
       "    .dataframe tbody tr th:only-of-type {\n",
       "        vertical-align: middle;\n",
       "    }\n",
       "\n",
       "    .dataframe tbody tr th {\n",
       "        vertical-align: top;\n",
       "    }\n",
       "\n",
       "    .dataframe thead th {\n",
       "        text-align: right;\n",
       "    }\n",
       "</style>\n",
       "<table border=\"1\" class=\"dataframe\">\n",
       "  <thead>\n",
       "    <tr style=\"text-align: right;\">\n",
       "      <th></th>\n",
       "      <th>date</th>\n",
       "      <th>avg_temperature</th>\n",
       "      <th>precipitation</th>\n",
       "    </tr>\n",
       "  </thead>\n",
       "  <tbody>\n",
       "    <tr>\n",
       "      <th>0</th>\n",
       "      <td>2024-01-01</td>\n",
       "      <td>26.1</td>\n",
       "      <td>0.1</td>\n",
       "    </tr>\n",
       "    <tr>\n",
       "      <th>1</th>\n",
       "      <td>2024-01-02</td>\n",
       "      <td>26.2</td>\n",
       "      <td>0.2</td>\n",
       "    </tr>\n",
       "    <tr>\n",
       "      <th>2</th>\n",
       "      <td>2024-01-03</td>\n",
       "      <td>26.2</td>\n",
       "      <td>5.2</td>\n",
       "    </tr>\n",
       "    <tr>\n",
       "      <th>3</th>\n",
       "      <td>2024-01-04</td>\n",
       "      <td>26.5</td>\n",
       "      <td>0.0</td>\n",
       "    </tr>\n",
       "    <tr>\n",
       "      <th>4</th>\n",
       "      <td>2024-01-05</td>\n",
       "      <td>26.5</td>\n",
       "      <td>0.0</td>\n",
       "    </tr>\n",
       "    <tr>\n",
       "      <th>...</th>\n",
       "      <td>...</td>\n",
       "      <td>...</td>\n",
       "      <td>...</td>\n",
       "    </tr>\n",
       "    <tr>\n",
       "      <th>481</th>\n",
       "      <td>2025-04-26</td>\n",
       "      <td>23.5</td>\n",
       "      <td>1.6</td>\n",
       "    </tr>\n",
       "    <tr>\n",
       "      <th>482</th>\n",
       "      <td>2025-04-27</td>\n",
       "      <td>23.8</td>\n",
       "      <td>0.1</td>\n",
       "    </tr>\n",
       "    <tr>\n",
       "      <th>483</th>\n",
       "      <td>2025-04-28</td>\n",
       "      <td>23.4</td>\n",
       "      <td>7.6</td>\n",
       "    </tr>\n",
       "    <tr>\n",
       "      <th>484</th>\n",
       "      <td>2025-04-29</td>\n",
       "      <td>22.4</td>\n",
       "      <td>0.3</td>\n",
       "    </tr>\n",
       "    <tr>\n",
       "      <th>485</th>\n",
       "      <td>2025-04-30</td>\n",
       "      <td>21.0</td>\n",
       "      <td>0.0</td>\n",
       "    </tr>\n",
       "  </tbody>\n",
       "</table>\n",
       "<p>486 rows × 3 columns</p>\n",
       "</div>"
      ],
      "text/plain": [
       "          date  avg_temperature  precipitation\n",
       "0   2024-01-01             26.1            0.1\n",
       "1   2024-01-02             26.2            0.2\n",
       "2   2024-01-03             26.2            5.2\n",
       "3   2024-01-04             26.5            0.0\n",
       "4   2024-01-05             26.5            0.0\n",
       "..         ...              ...            ...\n",
       "481 2025-04-26             23.5            1.6\n",
       "482 2025-04-27             23.8            0.1\n",
       "483 2025-04-28             23.4            7.6\n",
       "484 2025-04-29             22.4            0.3\n",
       "485 2025-04-30             21.0            0.0\n",
       "\n",
       "[486 rows x 3 columns]"
      ]
     },
     "execution_count": 371,
     "metadata": {},
     "output_type": "execute_result"
    }
   ],
   "source": [
    "weather_df"
   ]
  },
  {
   "cell_type": "code",
   "execution_count": 372,
   "id": "8c9ca53d-db93-4e6b-877f-563ee7fbee3b",
   "metadata": {},
   "outputs": [],
   "source": [
    "weather_df.to_csv('../data/raw/weather_data.csv')"
   ]
  },
  {
   "cell_type": "markdown",
   "id": "2dad9691-34ec-4292-862f-b5d1f5e233b5",
   "metadata": {},
   "source": [
    "## **HOLIDAYS**"
   ]
  },
  {
   "cell_type": "code",
   "execution_count": 374,
   "id": "ca050b80-ef54-4e74-bce2-5d5cfd286143",
   "metadata": {},
   "outputs": [],
   "source": [
    "holidays_df = weather_df[['date']].copy()\n",
    "\n",
    "holidays_df['is_holiday'] = holidays_df['date'].apply(lambda x: 1 if x in holidays.Brazil(state='SP') else 0)\n",
    "holidays_df['holiday_name'] = holidays_df['date'].apply(lambda x: holidays.Brazil(state='SP').get(x) if x in holidays.Brazil(state='SP') else 'None')\n",
    "\n",
    "holidays_df = holidays_df[holidays_df['date'] < datetime(2025, 5, 1)]"
   ]
  },
  {
   "cell_type": "code",
   "execution_count": 375,
   "id": "e199299e-f7a5-4520-b510-845df135e0d7",
   "metadata": {},
   "outputs": [
    {
     "data": {
      "text/html": [
       "<div>\n",
       "<style scoped>\n",
       "    .dataframe tbody tr th:only-of-type {\n",
       "        vertical-align: middle;\n",
       "    }\n",
       "\n",
       "    .dataframe tbody tr th {\n",
       "        vertical-align: top;\n",
       "    }\n",
       "\n",
       "    .dataframe thead th {\n",
       "        text-align: right;\n",
       "    }\n",
       "</style>\n",
       "<table border=\"1\" class=\"dataframe\">\n",
       "  <thead>\n",
       "    <tr style=\"text-align: right;\">\n",
       "      <th></th>\n",
       "      <th>date</th>\n",
       "      <th>is_holiday</th>\n",
       "      <th>holiday_name</th>\n",
       "    </tr>\n",
       "  </thead>\n",
       "  <tbody>\n",
       "    <tr>\n",
       "      <th>0</th>\n",
       "      <td>2024-01-01</td>\n",
       "      <td>1</td>\n",
       "      <td>Confraternização Universal</td>\n",
       "    </tr>\n",
       "    <tr>\n",
       "      <th>1</th>\n",
       "      <td>2024-01-02</td>\n",
       "      <td>0</td>\n",
       "      <td>None</td>\n",
       "    </tr>\n",
       "    <tr>\n",
       "      <th>2</th>\n",
       "      <td>2024-01-03</td>\n",
       "      <td>0</td>\n",
       "      <td>None</td>\n",
       "    </tr>\n",
       "    <tr>\n",
       "      <th>3</th>\n",
       "      <td>2024-01-04</td>\n",
       "      <td>0</td>\n",
       "      <td>None</td>\n",
       "    </tr>\n",
       "    <tr>\n",
       "      <th>4</th>\n",
       "      <td>2024-01-05</td>\n",
       "      <td>0</td>\n",
       "      <td>None</td>\n",
       "    </tr>\n",
       "    <tr>\n",
       "      <th>...</th>\n",
       "      <td>...</td>\n",
       "      <td>...</td>\n",
       "      <td>...</td>\n",
       "    </tr>\n",
       "    <tr>\n",
       "      <th>481</th>\n",
       "      <td>2025-04-26</td>\n",
       "      <td>0</td>\n",
       "      <td>None</td>\n",
       "    </tr>\n",
       "    <tr>\n",
       "      <th>482</th>\n",
       "      <td>2025-04-27</td>\n",
       "      <td>0</td>\n",
       "      <td>None</td>\n",
       "    </tr>\n",
       "    <tr>\n",
       "      <th>483</th>\n",
       "      <td>2025-04-28</td>\n",
       "      <td>0</td>\n",
       "      <td>None</td>\n",
       "    </tr>\n",
       "    <tr>\n",
       "      <th>484</th>\n",
       "      <td>2025-04-29</td>\n",
       "      <td>0</td>\n",
       "      <td>None</td>\n",
       "    </tr>\n",
       "    <tr>\n",
       "      <th>485</th>\n",
       "      <td>2025-04-30</td>\n",
       "      <td>0</td>\n",
       "      <td>None</td>\n",
       "    </tr>\n",
       "  </tbody>\n",
       "</table>\n",
       "<p>486 rows × 3 columns</p>\n",
       "</div>"
      ],
      "text/plain": [
       "          date  is_holiday                holiday_name\n",
       "0   2024-01-01           1  Confraternização Universal\n",
       "1   2024-01-02           0                        None\n",
       "2   2024-01-03           0                        None\n",
       "3   2024-01-04           0                        None\n",
       "4   2024-01-05           0                        None\n",
       "..         ...         ...                         ...\n",
       "481 2025-04-26           0                        None\n",
       "482 2025-04-27           0                        None\n",
       "483 2025-04-28           0                        None\n",
       "484 2025-04-29           0                        None\n",
       "485 2025-04-30           0                        None\n",
       "\n",
       "[486 rows x 3 columns]"
      ]
     },
     "execution_count": 375,
     "metadata": {},
     "output_type": "execute_result"
    }
   ],
   "source": [
    "holidays_df"
   ]
  },
  {
   "cell_type": "code",
   "execution_count": 376,
   "id": "fd09547a-660f-47f3-bf98-aa7ebcd4df35",
   "metadata": {},
   "outputs": [],
   "source": [
    "holidays_df.to_csv('../data/raw/holidays_data.csv')"
   ]
  },
  {
   "cell_type": "markdown",
   "id": "028a1459-3036-43be-8849-b59a8add6e86",
   "metadata": {},
   "source": [
    "## **INFLATION**"
   ]
  },
  {
   "cell_type": "code",
   "execution_count": 378,
   "id": "db5d8555-3a2c-483f-8232-68164d3aabd9",
   "metadata": {},
   "outputs": [],
   "source": [
    "url = \"https://api.bcb.gov.br/dados/serie/bcdata.sgs.433/dados?formato=json\"\n",
    "inflation_df = pd.DataFrame(requests.get(url).json())\n",
    "\n",
    "inflation_df = inflation_df.rename(columns = {'data': 'date', 'valor': 'ipca'})\n",
    "\n",
    "i = [[\"01/05/2025\", np.nan]]\n",
    "i = pd.DataFrame(i, columns = ['date', 'ipca'])\n",
    "inflation_df = pd.concat([inflation_df, i], ignore_index=True)\n",
    "inflation_df['date'] = pd.to_datetime(inflation_df['date'], dayfirst = True)\n",
    "inflation_df = inflation_df[inflation_df['date'] >= datetime(2024, 1, 1)].copy()\n",
    "inflation_df = inflation_df.set_index('date')\n",
    "\n",
    "inflation_df = inflation_df.asfreq('D', method='ffill')\n",
    "inflation_df = inflation_df.rename_axis('date').reset_index()\n",
    "inflation_df = inflation_df[inflation_df['date'] < datetime(2025, 5, 1)].copy()"
   ]
  },
  {
   "cell_type": "code",
   "execution_count": 379,
   "id": "0ad45e6a-8d3a-43d8-b62a-c596a1d1c527",
   "metadata": {},
   "outputs": [
    {
     "data": {
      "text/html": [
       "<div>\n",
       "<style scoped>\n",
       "    .dataframe tbody tr th:only-of-type {\n",
       "        vertical-align: middle;\n",
       "    }\n",
       "\n",
       "    .dataframe tbody tr th {\n",
       "        vertical-align: top;\n",
       "    }\n",
       "\n",
       "    .dataframe thead th {\n",
       "        text-align: right;\n",
       "    }\n",
       "</style>\n",
       "<table border=\"1\" class=\"dataframe\">\n",
       "  <thead>\n",
       "    <tr style=\"text-align: right;\">\n",
       "      <th></th>\n",
       "      <th>date</th>\n",
       "      <th>ipca</th>\n",
       "    </tr>\n",
       "  </thead>\n",
       "  <tbody>\n",
       "    <tr>\n",
       "      <th>0</th>\n",
       "      <td>2024-01-01</td>\n",
       "      <td>0.42</td>\n",
       "    </tr>\n",
       "    <tr>\n",
       "      <th>1</th>\n",
       "      <td>2024-01-02</td>\n",
       "      <td>0.42</td>\n",
       "    </tr>\n",
       "    <tr>\n",
       "      <th>2</th>\n",
       "      <td>2024-01-03</td>\n",
       "      <td>0.42</td>\n",
       "    </tr>\n",
       "    <tr>\n",
       "      <th>3</th>\n",
       "      <td>2024-01-04</td>\n",
       "      <td>0.42</td>\n",
       "    </tr>\n",
       "    <tr>\n",
       "      <th>4</th>\n",
       "      <td>2024-01-05</td>\n",
       "      <td>0.42</td>\n",
       "    </tr>\n",
       "    <tr>\n",
       "      <th>...</th>\n",
       "      <td>...</td>\n",
       "      <td>...</td>\n",
       "    </tr>\n",
       "    <tr>\n",
       "      <th>481</th>\n",
       "      <td>2025-04-26</td>\n",
       "      <td>0.43</td>\n",
       "    </tr>\n",
       "    <tr>\n",
       "      <th>482</th>\n",
       "      <td>2025-04-27</td>\n",
       "      <td>0.43</td>\n",
       "    </tr>\n",
       "    <tr>\n",
       "      <th>483</th>\n",
       "      <td>2025-04-28</td>\n",
       "      <td>0.43</td>\n",
       "    </tr>\n",
       "    <tr>\n",
       "      <th>484</th>\n",
       "      <td>2025-04-29</td>\n",
       "      <td>0.43</td>\n",
       "    </tr>\n",
       "    <tr>\n",
       "      <th>485</th>\n",
       "      <td>2025-04-30</td>\n",
       "      <td>0.43</td>\n",
       "    </tr>\n",
       "  </tbody>\n",
       "</table>\n",
       "<p>486 rows × 2 columns</p>\n",
       "</div>"
      ],
      "text/plain": [
       "          date  ipca\n",
       "0   2024-01-01  0.42\n",
       "1   2024-01-02  0.42\n",
       "2   2024-01-03  0.42\n",
       "3   2024-01-04  0.42\n",
       "4   2024-01-05  0.42\n",
       "..         ...   ...\n",
       "481 2025-04-26  0.43\n",
       "482 2025-04-27  0.43\n",
       "483 2025-04-28  0.43\n",
       "484 2025-04-29  0.43\n",
       "485 2025-04-30  0.43\n",
       "\n",
       "[486 rows x 2 columns]"
      ]
     },
     "execution_count": 379,
     "metadata": {},
     "output_type": "execute_result"
    }
   ],
   "source": [
    "inflation_df"
   ]
  },
  {
   "cell_type": "code",
   "execution_count": 380,
   "id": "355ae233-f828-4f15-abeb-e9910346f1ba",
   "metadata": {},
   "outputs": [],
   "source": [
    "inflation_df.to_csv('../data/raw/inflation_data.csv')"
   ]
  },
  {
   "cell_type": "markdown",
   "id": "358d1463-8a80-4307-876b-a4e4252f7f76",
   "metadata": {},
   "source": [
    "# **DATA CLEANING, PROCESSING, AND CONSOLIDATION**"
   ]
  },
  {
   "cell_type": "markdown",
   "id": "cb1e3601-dfcb-49b6-90f8-2613ac575f15",
   "metadata": {
    "jp-MarkdownHeadingCollapsed": true
   },
   "source": [
    "## **DEALING WITH MISSING DATA**"
   ]
  },
  {
   "cell_type": "code",
   "execution_count": 383,
   "id": "765ac8d8-cf95-4026-9334-bfc10e1ab890",
   "metadata": {},
   "outputs": [
    {
     "data": {
      "text/plain": [
       "date                0\n",
       "sell_quantity       0\n",
       "sell_value          0\n",
       "sell_final_value    0\n",
       "dtype: int64"
      ]
     },
     "execution_count": 383,
     "metadata": {},
     "output_type": "execute_result"
    }
   ],
   "source": [
    "sell_df.isna().sum()"
   ]
  },
  {
   "cell_type": "code",
   "execution_count": 384,
   "id": "559108d5-dd67-4a2e-a1de-e8524b18801a",
   "metadata": {},
   "outputs": [
    {
     "data": {
      "text/plain": [
       "date            0\n",
       "buy_quantity    0\n",
       "buy_value       0\n",
       "dtype: int64"
      ]
     },
     "execution_count": 384,
     "metadata": {},
     "output_type": "execute_result"
    }
   ],
   "source": [
    "buy_df.isna().sum()"
   ]
  },
  {
   "cell_type": "code",
   "execution_count": 385,
   "id": "06d98035-5acf-474c-9199-8cfb8122a5ae",
   "metadata": {},
   "outputs": [
    {
     "data": {
      "text/plain": [
       "date             0\n",
       "daily_balance    0\n",
       "inventory        0\n",
       "dtype: int64"
      ]
     },
     "execution_count": 385,
     "metadata": {},
     "output_type": "execute_result"
    }
   ],
   "source": [
    "inventory_df.isna().sum()"
   ]
  },
  {
   "cell_type": "code",
   "execution_count": 386,
   "id": "156ca15a-8ff2-4b7d-abbe-c4f676a0563b",
   "metadata": {},
   "outputs": [
    {
     "data": {
      "text/plain": [
       "date                0\n",
       "avg_temperature     0\n",
       "precipitation      25\n",
       "dtype: int64"
      ]
     },
     "execution_count": 386,
     "metadata": {},
     "output_type": "execute_result"
    }
   ],
   "source": [
    "weather_df.isna().sum()"
   ]
  },
  {
   "cell_type": "code",
   "execution_count": 387,
   "id": "3b294dc7-efc0-4c99-a75b-252f4b764288",
   "metadata": {},
   "outputs": [
    {
     "data": {
      "text/plain": [
       "date            0\n",
       "is_holiday      0\n",
       "holiday_name    0\n",
       "dtype: int64"
      ]
     },
     "execution_count": 387,
     "metadata": {},
     "output_type": "execute_result"
    }
   ],
   "source": [
    "holidays_df.isna().sum()"
   ]
  },
  {
   "cell_type": "code",
   "execution_count": 388,
   "id": "1e9b21db-8a73-4694-ac0b-f68f1bddbb14",
   "metadata": {},
   "outputs": [
    {
     "data": {
      "text/plain": [
       "date    0\n",
       "ipca    0\n",
       "dtype: int64"
      ]
     },
     "execution_count": 388,
     "metadata": {},
     "output_type": "execute_result"
    }
   ],
   "source": [
    "inflation_df.isna().sum()"
   ]
  },
  {
   "cell_type": "markdown",
   "id": "95dca78a-be42-446c-bd82-940f23400631",
   "metadata": {},
   "source": [
    "## **OUTLIERS**"
   ]
  },
  {
   "cell_type": "markdown",
   "id": "7c2320ce-66ff-47bc-8221-afdf505aa934",
   "metadata": {
    "jp-MarkdownHeadingCollapsed": true
   },
   "source": [
    "### **1. SELL_DF**"
   ]
  },
  {
   "cell_type": "code",
   "execution_count": 391,
   "id": "d7fea362-2921-41aa-ad4f-ad82f2ac07df",
   "metadata": {},
   "outputs": [
    {
     "data": {
      "text/html": [
       "<div>\n",
       "<style scoped>\n",
       "    .dataframe tbody tr th:only-of-type {\n",
       "        vertical-align: middle;\n",
       "    }\n",
       "\n",
       "    .dataframe tbody tr th {\n",
       "        vertical-align: top;\n",
       "    }\n",
       "\n",
       "    .dataframe thead th {\n",
       "        text-align: right;\n",
       "    }\n",
       "</style>\n",
       "<table border=\"1\" class=\"dataframe\">\n",
       "  <thead>\n",
       "    <tr style=\"text-align: right;\">\n",
       "      <th></th>\n",
       "      <th>sell_quantity</th>\n",
       "      <th>sell_value</th>\n",
       "      <th>sell_final_value</th>\n",
       "    </tr>\n",
       "  </thead>\n",
       "  <tbody>\n",
       "    <tr>\n",
       "      <th>count</th>\n",
       "      <td>164.000000</td>\n",
       "      <td>164.000000</td>\n",
       "      <td>164.000000</td>\n",
       "    </tr>\n",
       "    <tr>\n",
       "      <th>mean</th>\n",
       "      <td>278.231707</td>\n",
       "      <td>28.384390</td>\n",
       "      <td>30.302256</td>\n",
       "    </tr>\n",
       "    <tr>\n",
       "      <th>std</th>\n",
       "      <td>93.273830</td>\n",
       "      <td>1.410195</td>\n",
       "      <td>1.505651</td>\n",
       "    </tr>\n",
       "    <tr>\n",
       "      <th>min</th>\n",
       "      <td>54.000000</td>\n",
       "      <td>23.430000</td>\n",
       "      <td>25.010000</td>\n",
       "    </tr>\n",
       "    <tr>\n",
       "      <th>25%</th>\n",
       "      <td>240.000000</td>\n",
       "      <td>27.790000</td>\n",
       "      <td>29.670000</td>\n",
       "    </tr>\n",
       "    <tr>\n",
       "      <th>50%</th>\n",
       "      <td>280.000000</td>\n",
       "      <td>28.300000</td>\n",
       "      <td>30.210000</td>\n",
       "    </tr>\n",
       "    <tr>\n",
       "      <th>75%</th>\n",
       "      <td>280.000000</td>\n",
       "      <td>28.950000</td>\n",
       "      <td>30.910000</td>\n",
       "    </tr>\n",
       "    <tr>\n",
       "      <th>max</th>\n",
       "      <td>640.000000</td>\n",
       "      <td>32.100000</td>\n",
       "      <td>34.270000</td>\n",
       "    </tr>\n",
       "  </tbody>\n",
       "</table>\n",
       "</div>"
      ],
      "text/plain": [
       "       sell_quantity  sell_value  sell_final_value\n",
       "count     164.000000  164.000000        164.000000\n",
       "mean      278.231707   28.384390         30.302256\n",
       "std        93.273830    1.410195          1.505651\n",
       "min        54.000000   23.430000         25.010000\n",
       "25%       240.000000   27.790000         29.670000\n",
       "50%       280.000000   28.300000         30.210000\n",
       "75%       280.000000   28.950000         30.910000\n",
       "max       640.000000   32.100000         34.270000"
      ]
     },
     "execution_count": 391,
     "metadata": {},
     "output_type": "execute_result"
    }
   ],
   "source": [
    "sell_df.describe(include = ['float', 'int'])"
   ]
  },
  {
   "cell_type": "markdown",
   "id": "e0fe0ba8-99cd-4b63-a8ec-3a3a5ef25721",
   "metadata": {},
   "source": [
    "#### **1.1 Sell Quantity**"
   ]
  },
  {
   "cell_type": "code",
   "execution_count": 393,
   "id": "80986785-2287-4049-b9a6-02f785314b24",
   "metadata": {},
   "outputs": [
    {
     "data": {
      "text/html": [
       "<div>\n",
       "<style scoped>\n",
       "    .dataframe tbody tr th:only-of-type {\n",
       "        vertical-align: middle;\n",
       "    }\n",
       "\n",
       "    .dataframe tbody tr th {\n",
       "        vertical-align: top;\n",
       "    }\n",
       "\n",
       "    .dataframe thead th {\n",
       "        text-align: right;\n",
       "    }\n",
       "</style>\n",
       "<table border=\"1\" class=\"dataframe\">\n",
       "  <thead>\n",
       "    <tr style=\"text-align: right;\">\n",
       "      <th></th>\n",
       "      <th>sell_quantity</th>\n",
       "    </tr>\n",
       "  </thead>\n",
       "  <tbody>\n",
       "    <tr>\n",
       "      <th>count</th>\n",
       "      <td>164.000000</td>\n",
       "    </tr>\n",
       "    <tr>\n",
       "      <th>mean</th>\n",
       "      <td>278.231707</td>\n",
       "    </tr>\n",
       "    <tr>\n",
       "      <th>std</th>\n",
       "      <td>93.273830</td>\n",
       "    </tr>\n",
       "    <tr>\n",
       "      <th>min</th>\n",
       "      <td>54.000000</td>\n",
       "    </tr>\n",
       "    <tr>\n",
       "      <th>25%</th>\n",
       "      <td>240.000000</td>\n",
       "    </tr>\n",
       "    <tr>\n",
       "      <th>50%</th>\n",
       "      <td>280.000000</td>\n",
       "    </tr>\n",
       "    <tr>\n",
       "      <th>75%</th>\n",
       "      <td>280.000000</td>\n",
       "    </tr>\n",
       "    <tr>\n",
       "      <th>max</th>\n",
       "      <td>640.000000</td>\n",
       "    </tr>\n",
       "  </tbody>\n",
       "</table>\n",
       "</div>"
      ],
      "text/plain": [
       "       sell_quantity\n",
       "count     164.000000\n",
       "mean      278.231707\n",
       "std        93.273830\n",
       "min        54.000000\n",
       "25%       240.000000\n",
       "50%       280.000000\n",
       "75%       280.000000\n",
       "max       640.000000"
      ]
     },
     "execution_count": 393,
     "metadata": {},
     "output_type": "execute_result"
    }
   ],
   "source": [
    "sell_df.describe(include = ['float', 'int'])[['sell_quantity']]"
   ]
  },
  {
   "cell_type": "code",
   "execution_count": 394,
   "id": "c5057b6e-c9cb-4835-b4e6-3ef4676343c8",
   "metadata": {},
   "outputs": [
    {
     "data": {
      "image/png": "[encoded data removed]",
      "text/plain": [
       "<Figure size 600x500 with 1 Axes>"
      ]
     },
     "metadata": {},
     "output_type": "display_data"
    }
   ],
   "source": [
    "PlotBoxPlotV3_y(sell_df['sell_quantity'], \"Sell Quantity Box Plot\", 6, 5, \"\")"
   ]
  },
  {
   "cell_type": "code",
   "execution_count": 287,
   "id": "a474e2a7-a5c4-40fd-ad53-9e7d0d12283a",
   "metadata": {},
   "outputs": [],
   "source": [
    "sell_df = IQR_Method(sell_df, 'sell_quantity')"
   ]
  },
  {
   "cell_type": "code",
   "execution_count": 288,
   "id": "a5beb4f4-40f6-4dfd-b7b6-ac65dc19f1ff",
   "metadata": {},
   "outputs": [
    {
     "data": {
      "image/png": "[encoded data removed]",
      "text/plain": [
       "<Figure size 600x500 with 1 Axes>"
      ]
     },
     "metadata": {},
     "output_type": "display_data"
    }
   ],
   "source": [
    "PlotBoxPlotV3_y(sell_df['sell_quantity'], \"Sell Quantity Box Plot\", 6, 5, \"\")"
   ]
  },
  {
   "cell_type": "markdown",
   "id": "9d3929ef-32ea-41b2-bf0b-1981c8ab82f9",
   "metadata": {
    "jp-MarkdownHeadingCollapsed": true
   },
   "source": [
    "#### **1.2 Sell Value**"
   ]
  },
  {
   "cell_type": "markdown",
   "id": "95b4bcec-2d74-41ea-8670-300c45e4311a",
   "metadata": {},
   "source": [
    "Although a few data points fall outside the interquartile range, the low standard deviation and the overall consistency of values suggest that no outlier treatment is required at this stage."
   ]
  },
  {
   "cell_type": "code",
   "execution_count": 290,
   "id": "5f2d63ab-72f4-43ee-8e14-f1cfc6635945",
   "metadata": {},
   "outputs": [
    {
     "data": {
      "text/html": [
       "<div>\n",
       "<style scoped>\n",
       "    .dataframe tbody tr th:only-of-type {\n",
       "        vertical-align: middle;\n",
       "    }\n",
       "\n",
       "    .dataframe tbody tr th {\n",
       "        vertical-align: top;\n",
       "    }\n",
       "\n",
       "    .dataframe thead th {\n",
       "        text-align: right;\n",
       "    }\n",
       "</style>\n",
       "<table border=\"1\" class=\"dataframe\">\n",
       "  <thead>\n",
       "    <tr style=\"text-align: right;\">\n",
       "      <th></th>\n",
       "      <th>sell_value</th>\n",
       "    </tr>\n",
       "  </thead>\n",
       "  <tbody>\n",
       "    <tr>\n",
       "      <th>count</th>\n",
       "      <td>131.000000</td>\n",
       "    </tr>\n",
       "    <tr>\n",
       "      <th>mean</th>\n",
       "      <td>28.256489</td>\n",
       "    </tr>\n",
       "    <tr>\n",
       "      <th>std</th>\n",
       "      <td>1.372226</td>\n",
       "    </tr>\n",
       "    <tr>\n",
       "      <th>min</th>\n",
       "      <td>23.430000</td>\n",
       "    </tr>\n",
       "    <tr>\n",
       "      <th>25%</th>\n",
       "      <td>27.790000</td>\n",
       "    </tr>\n",
       "    <tr>\n",
       "      <th>50%</th>\n",
       "      <td>28.300000</td>\n",
       "    </tr>\n",
       "    <tr>\n",
       "      <th>75%</th>\n",
       "      <td>28.880000</td>\n",
       "    </tr>\n",
       "    <tr>\n",
       "      <th>max</th>\n",
       "      <td>32.100000</td>\n",
       "    </tr>\n",
       "  </tbody>\n",
       "</table>\n",
       "</div>"
      ],
      "text/plain": [
       "       sell_value\n",
       "count  131.000000\n",
       "mean    28.256489\n",
       "std      1.372226\n",
       "min     23.430000\n",
       "25%     27.790000\n",
       "50%     28.300000\n",
       "75%     28.880000\n",
       "max     32.100000"
      ]
     },
     "execution_count": 290,
     "metadata": {},
     "output_type": "execute_result"
    }
   ],
   "source": [
    "sell_df.describe(include = ['float', 'int'])[['sell_value']]"
   ]
  },
  {
   "cell_type": "code",
   "execution_count": 325,
   "id": "ace46f21-73fa-4080-a3f1-8a8bafdf08cd",
   "metadata": {},
   "outputs": [
    {
     "data": {
      "image/png": "[encoded data removed]",
      "text/plain": [
       "<Figure size 600x500 with 1 Axes>"
      ]
     },
     "metadata": {},
     "output_type": "display_data"
    }
   ],
   "source": [
    "PlotBoxPlotV3_y(sell_df['sell_value'], \"Sell Value Box Plot\", 6, 5, \"\")"
   ]
  },
  {
   "cell_type": "markdown",
   "id": "76ebdded-bb03-4f2d-b196-4e56cbc9d0ee",
   "metadata": {
    "jp-MarkdownHeadingCollapsed": true
   },
   "source": [
    "### **2. BUY_DF**"
   ]
  },
  {
   "cell_type": "code",
   "execution_count": 334,
   "id": "c3ef73fe-3b13-4b59-83c2-540da24e7085",
   "metadata": {},
   "outputs": [
    {
     "data": {
      "text/html": [
       "<div>\n",
       "<style scoped>\n",
       "    .dataframe tbody tr th:only-of-type {\n",
       "        vertical-align: middle;\n",
       "    }\n",
       "\n",
       "    .dataframe tbody tr th {\n",
       "        vertical-align: top;\n",
       "    }\n",
       "\n",
       "    .dataframe thead th {\n",
       "        text-align: right;\n",
       "    }\n",
       "</style>\n",
       "<table border=\"1\" class=\"dataframe\">\n",
       "  <thead>\n",
       "    <tr style=\"text-align: right;\">\n",
       "      <th></th>\n",
       "      <th>buy_quantity</th>\n",
       "      <th>buy_value</th>\n",
       "    </tr>\n",
       "  </thead>\n",
       "  <tbody>\n",
       "    <tr>\n",
       "      <th>count</th>\n",
       "      <td>385.000000</td>\n",
       "      <td>385.000000</td>\n",
       "    </tr>\n",
       "    <tr>\n",
       "      <th>mean</th>\n",
       "      <td>148.049351</td>\n",
       "      <td>34.896182</td>\n",
       "    </tr>\n",
       "    <tr>\n",
       "      <th>std</th>\n",
       "      <td>346.805203</td>\n",
       "      <td>3.074840</td>\n",
       "    </tr>\n",
       "    <tr>\n",
       "      <th>min</th>\n",
       "      <td>1.000000</td>\n",
       "      <td>4.880000</td>\n",
       "    </tr>\n",
       "    <tr>\n",
       "      <th>25%</th>\n",
       "      <td>53.000000</td>\n",
       "      <td>34.240000</td>\n",
       "    </tr>\n",
       "    <tr>\n",
       "      <th>50%</th>\n",
       "      <td>105.000000</td>\n",
       "      <td>35.330000</td>\n",
       "    </tr>\n",
       "    <tr>\n",
       "      <th>75%</th>\n",
       "      <td>164.000000</td>\n",
       "      <td>36.000000</td>\n",
       "    </tr>\n",
       "    <tr>\n",
       "      <th>max</th>\n",
       "      <td>4869.000000</td>\n",
       "      <td>41.600000</td>\n",
       "    </tr>\n",
       "  </tbody>\n",
       "</table>\n",
       "</div>"
      ],
      "text/plain": [
       "       buy_quantity   buy_value\n",
       "count    385.000000  385.000000\n",
       "mean     148.049351   34.896182\n",
       "std      346.805203    3.074840\n",
       "min        1.000000    4.880000\n",
       "25%       53.000000   34.240000\n",
       "50%      105.000000   35.330000\n",
       "75%      164.000000   36.000000\n",
       "max     4869.000000   41.600000"
      ]
     },
     "execution_count": 334,
     "metadata": {},
     "output_type": "execute_result"
    }
   ],
   "source": [
    "buy_df.describe(include = ['float', 'int'])"
   ]
  },
  {
   "cell_type": "code",
   "execution_count": 340,
   "id": "a1609778-6e35-4f3e-af82-638cd1b7f620",
   "metadata": {},
   "outputs": [
    {
     "data": {
      "image/png": "[encoded data removed]",
      "text/plain": [
       "<Figure size 600x500 with 1 Axes>"
      ]
     },
     "metadata": {},
     "output_type": "display_data"
    }
   ],
   "source": [
    "PlotBoxPlotV3_y(buy_df['buy_quantity'], \"Buy Quantity Box Plot\", 6, 5, \"\")"
   ]
  },
  {
   "cell_type": "code",
   "execution_count": 428,
   "id": "fe25dbde-3ae8-4bb3-a656-2b7efd73fc56",
   "metadata": {},
   "outputs": [
    {
     "data": {
      "image/png": "[encoded data removed]",
      "text/plain": [
       "<Figure size 900x500 with 1 Axes>"
      ]
     },
     "metadata": {},
     "output_type": "display_data"
    }
   ],
   "source": [
    "PlotScatter(buy_df['buy_value'], buy_df['buy_quantity'], \"Quantity bought by Value\", \"\", \"\", 9)"
   ]
  },
  {
   "cell_type": "markdown",
   "id": "70cc7b39-9302-42d9-a05b-434438a63e8f",
   "metadata": {},
   "source": [
    "The initial box plot and scatter plot revealed extreme outliers in `buy_quantity`, some of which were linked to implausibly low purchase values.\n",
    "\n",
    "Upon further inspection, it became clear that these records did not reflect valid business behavior. For instance, some purchases had a unit price below R$15.00, which is not realistic for cement.\n",
    "\n",
    "To address this, we applied a filter to remove records with:\n",
    "- `buy_value` below R$30.00;\n",
    "- `buy_quantity` above 1000 units.\n",
    "\n",
    "After this cleaning step, the distribution of purchase quantities became much more consistent and representative of typical purchasing patterns.\n"
   ]
  },
  {
   "cell_type": "code",
   "execution_count": 438,
   "id": "9c9d5956-5a5a-4c81-8c9e-7e1a1e2edf91",
   "metadata": {},
   "outputs": [],
   "source": [
    "buy_df = buy_df[(buy_df['buy_value'] > 30) & (buy_df['buy_quantity'] < 1000)]"
   ]
  },
  {
   "cell_type": "code",
   "execution_count": 440,
   "id": "125752f2-2d60-465e-99cd-7404a4f4c432",
   "metadata": {},
   "outputs": [
    {
     "data": {
      "image/png": "[encoded data removed]",
      "text/plain": [
       "<Figure size 600x500 with 1 Axes>"
      ]
     },
     "metadata": {},
     "output_type": "display_data"
    }
   ],
   "source": [
    "PlotBoxPlotV3_y(buy_df['buy_quantity'], \"Buy Quantity Box Plot\", 6, 5, \"\")"
   ]
  },
  {
   "cell_type": "code",
   "execution_count": 444,
   "id": "d1fac20e-c90f-4f16-828d-8f3873663d61",
   "metadata": {},
   "outputs": [
    {
     "data": {
      "text/html": [
       "<div>\n",
       "<style scoped>\n",
       "    .dataframe tbody tr th:only-of-type {\n",
       "        vertical-align: middle;\n",
       "    }\n",
       "\n",
       "    .dataframe tbody tr th {\n",
       "        vertical-align: top;\n",
       "    }\n",
       "\n",
       "    .dataframe thead th {\n",
       "        text-align: right;\n",
       "    }\n",
       "</style>\n",
       "<table border=\"1\" class=\"dataframe\">\n",
       "  <thead>\n",
       "    <tr style=\"text-align: right;\">\n",
       "      <th></th>\n",
       "      <th>buy_quantity</th>\n",
       "      <th>buy_value</th>\n",
       "    </tr>\n",
       "  </thead>\n",
       "  <tbody>\n",
       "    <tr>\n",
       "      <th>count</th>\n",
       "      <td>378.000000</td>\n",
       "      <td>378.000000</td>\n",
       "    </tr>\n",
       "    <tr>\n",
       "      <th>mean</th>\n",
       "      <td>111.534392</td>\n",
       "      <td>35.191296</td>\n",
       "    </tr>\n",
       "    <tr>\n",
       "      <th>std</th>\n",
       "      <td>78.619624</td>\n",
       "      <td>1.530459</td>\n",
       "    </tr>\n",
       "    <tr>\n",
       "      <th>min</th>\n",
       "      <td>1.000000</td>\n",
       "      <td>30.800000</td>\n",
       "    </tr>\n",
       "    <tr>\n",
       "      <th>25%</th>\n",
       "      <td>51.500000</td>\n",
       "      <td>34.342500</td>\n",
       "    </tr>\n",
       "    <tr>\n",
       "      <th>50%</th>\n",
       "      <td>103.000000</td>\n",
       "      <td>35.360000</td>\n",
       "    </tr>\n",
       "    <tr>\n",
       "      <th>75%</th>\n",
       "      <td>161.000000</td>\n",
       "      <td>36.035000</td>\n",
       "    </tr>\n",
       "    <tr>\n",
       "      <th>max</th>\n",
       "      <td>484.000000</td>\n",
       "      <td>41.600000</td>\n",
       "    </tr>\n",
       "  </tbody>\n",
       "</table>\n",
       "</div>"
      ],
      "text/plain": [
       "       buy_quantity   buy_value\n",
       "count    378.000000  378.000000\n",
       "mean     111.534392   35.191296\n",
       "std       78.619624    1.530459\n",
       "min        1.000000   30.800000\n",
       "25%       51.500000   34.342500\n",
       "50%      103.000000   35.360000\n",
       "75%      161.000000   36.035000\n",
       "max      484.000000   41.600000"
      ]
     },
     "execution_count": 444,
     "metadata": {},
     "output_type": "execute_result"
    }
   ],
   "source": [
    "buy_df.describe(include = ['float', 'int'])"
   ]
  },
  {
   "cell_type": "markdown",
   "id": "09a22077-f052-416c-97f9-7133a32f0ec4",
   "metadata": {},
   "source": [
    "### **3. INVENTORY_DF**"
   ]
  },
  {
   "cell_type": "code",
   "execution_count": 448,
   "id": "c5bb3eb7-ca2d-4b5b-b838-558495138bcb",
   "metadata": {},
   "outputs": [
    {
     "data": {
      "text/html": [
       "<div>\n",
       "<style scoped>\n",
       "    .dataframe tbody tr th:only-of-type {\n",
       "        vertical-align: middle;\n",
       "    }\n",
       "\n",
       "    .dataframe tbody tr th {\n",
       "        vertical-align: top;\n",
       "    }\n",
       "\n",
       "    .dataframe thead th {\n",
       "        text-align: right;\n",
       "    }\n",
       "</style>\n",
       "<table border=\"1\" class=\"dataframe\">\n",
       "  <thead>\n",
       "    <tr style=\"text-align: right;\">\n",
       "      <th></th>\n",
       "      <th>daily_balance</th>\n",
       "      <th>inventory</th>\n",
       "    </tr>\n",
       "  </thead>\n",
       "  <tbody>\n",
       "    <tr>\n",
       "      <th>count</th>\n",
       "      <td>486.000000</td>\n",
       "      <td>486.000000</td>\n",
       "    </tr>\n",
       "    <tr>\n",
       "      <th>mean</th>\n",
       "      <td>23.393004</td>\n",
       "      <td>6402.197531</td>\n",
       "    </tr>\n",
       "    <tr>\n",
       "      <th>std</th>\n",
       "      <td>325.100860</td>\n",
       "      <td>3732.160048</td>\n",
       "    </tr>\n",
       "    <tr>\n",
       "      <th>min</th>\n",
       "      <td>-585.000000</td>\n",
       "      <td>58.000000</td>\n",
       "    </tr>\n",
       "    <tr>\n",
       "      <th>25%</th>\n",
       "      <td>-71.000000</td>\n",
       "      <td>3056.500000</td>\n",
       "    </tr>\n",
       "    <tr>\n",
       "      <th>50%</th>\n",
       "      <td>1.000000</td>\n",
       "      <td>3987.000000</td>\n",
       "    </tr>\n",
       "    <tr>\n",
       "      <th>75%</th>\n",
       "      <td>82.750000</td>\n",
       "      <td>11126.000000</td>\n",
       "    </tr>\n",
       "    <tr>\n",
       "      <th>max</th>\n",
       "      <td>4869.000000</td>\n",
       "      <td>11828.000000</td>\n",
       "    </tr>\n",
       "  </tbody>\n",
       "</table>\n",
       "</div>"
      ],
      "text/plain": [
       "       daily_balance     inventory\n",
       "count     486.000000    486.000000\n",
       "mean       23.393004   6402.197531\n",
       "std       325.100860   3732.160048\n",
       "min      -585.000000     58.000000\n",
       "25%       -71.000000   3056.500000\n",
       "50%         1.000000   3987.000000\n",
       "75%        82.750000  11126.000000\n",
       "max      4869.000000  11828.000000"
      ]
     },
     "execution_count": 448,
     "metadata": {},
     "output_type": "execute_result"
    }
   ],
   "source": [
    "inventory_df.describe(include = ['float', 'int'])"
   ]
  },
  {
   "cell_type": "code",
   "execution_count": 450,
   "id": "f61342fa-bc43-4e47-9824-29fca9cd7986",
   "metadata": {},
   "outputs": [
    {
     "data": {
      "image/png": "[encoded data removed]",
      "text/plain": [
       "<Figure size 900x500 with 1 Axes>"
      ]
     },
     "metadata": {},
     "output_type": "display_data"
    }
   ],
   "source": [
    "PlotScatter(inventory_df['daily_balance'], inventory_df['inventory'], \"Quantity bought by Value\", \"\", \"\", 9)"
   ]
  },
  {
   "cell_type": "code",
   "execution_count": 452,
   "id": "cd135582-6604-43e7-9d29-3a59c6a3e628",
   "metadata": {},
   "outputs": [
    {
     "data": {
      "image/png": "[encoded data removed]",
      "text/plain": [
       "<Figure size 900x500 with 1 Axes>"
      ]
     },
     "metadata": {},
     "output_type": "display_data"
    }
   ],
   "source": [
    "PlotScatter(inventory_df['inventory'], inventory_df['daily_balance'], \"Quantity bought by Value\", \"\", \"\", 9)"
   ]
  },
  {
   "cell_type": "code",
   "execution_count": 464,
   "id": "2d5bcaae-4127-4e3d-a560-d2c2f8f662d7",
   "metadata": {},
   "outputs": [
    {
     "data": {
      "image/png": "[encoded data removed]",
      "text/plain": [
       "<Figure size 1000x600 with 1 Axes>"
      ]
     },
     "metadata": {},
     "output_type": "display_data"
    }
   ],
   "source": [
    "PlotLine(inventory_df['date'], inventory_df['inventory'], \"\", \"\", 10, 6)"
   ]
  },
  {
   "cell_type": "markdown",
   "id": "9ddbaf94-320e-42d7-a8c5-1b371966895c",
   "metadata": {},
   "source": [
    "## **DATA CONSOLIDATION**"
   ]
  },
  {
   "cell_type": "markdown",
   "id": "b97712e0-f454-4901-a0ef-5fd683d7ed4d",
   "metadata": {},
   "source": [
    "### **sell_df**"
   ]
  },
  {
   "cell_type": "code",
   "execution_count": null,
   "id": "572eaa0a-082d-4a45-b7e1-31950224f643",
   "metadata": {},
   "outputs": [],
   "source": [
    "sell_df = sell_df.drop('product', axis = 1)\n",
    "sell_df.head()"
   ]
  },
  {
   "cell_type": "code",
   "execution_count": null,
   "id": "3f0f15a0-2403-41f8-89f5-8c715109aa04",
   "metadata": {},
   "outputs": [],
   "source": [
    "i = {'quantity':'sell_quantity', 'value':'sell_value'}\n",
    "sell_df_agg = sell_df.groupby('date').agg({'quantity': 'sum', 'value': 'mean'}).rename(columns = i)\n",
    "sell_df_agg = sell_df_agg.astype({'sell_quantity':'int64'})\n",
    "sell_df_agg['sell_value'] = np.round(sell_df_agg['sell_value'], decimals = 2)\n",
    "sell_df_agg"
   ]
  },
  {
   "cell_type": "markdown",
   "id": "bbbaf590-d798-4e22-8101-fc542d0e4643",
   "metadata": {},
   "source": [
    "### **buy_df**"
   ]
  },
  {
   "cell_type": "code",
   "execution_count": null,
   "id": "c1cda6b9-1a38-4a0d-829a-e17e7c0cae96",
   "metadata": {},
   "outputs": [],
   "source": [
    "buy_df = buy_df.drop('product', axis = 1)\n",
    "buy_df.head()"
   ]
  },
  {
   "cell_type": "code",
   "execution_count": null,
   "id": "f98cfa20-0a8f-4f54-9981-cbab9863391f",
   "metadata": {},
   "outputs": [],
   "source": [
    "i = {'quantity':'buy_quantity', 'value':'buy_value','final_value':'buy_final_value'}\n",
    "buy_df_agg = buy_df.groupby('date').agg({'quantity': 'sum', 'value': 'mean', 'final_value': 'mean'}).rename(columns = i)\n",
    "buy_df_agg = buy_df_agg.astype({'buy_quantity':'int64'})\n",
    "buy_df_agg['buy_value'] = np.round(buy_df_agg['buy_value'], decimals = 2)\n",
    "buy_df_agg['buy_final_value'] = np.round(buy_df_agg['buy_final_value'], decimals = 2)\n",
    "buy_df_agg"
   ]
  },
  {
   "cell_type": "markdown",
   "id": "86a0e907-97db-4177-b790-ac8eca3a3406",
   "metadata": {},
   "source": [
    "### **CONSOLIDATE DATAFRAME**"
   ]
  },
  {
   "cell_type": "code",
   "execution_count": null,
   "id": "f7d7f0cf-eb1d-4fed-a018-fb41941401ae",
   "metadata": {},
   "outputs": [],
   "source": [
    "df = pd.date_range(start = '2024-01-01', end = '2025-04-30', freq = 'D')\n",
    "df = pd.DataFrame({'date': df})\n",
    "\n",
    "df = df.merge(sell_df_agg, on = 'date', how = 'left') \\\n",
    "        .merge(buy_df_agg, on = 'date', how = 'left') \\\n",
    "        .merge(weather_df, on = 'date', how = 'left') \\\n",
    "        .merge(inflation_df, on = 'date', how = 'left') \\\n",
    "        .merge(holidays_df, on = 'date', how = 'left')"
   ]
  },
  {
   "cell_type": "code",
   "execution_count": null,
   "id": "e7b16d1b-b7de-4569-b364-5a5c4f256a0c",
   "metadata": {},
   "outputs": [],
   "source": [
    "df"
   ]
  },
  {
   "cell_type": "code",
   "execution_count": null,
   "id": "2de263e5-b641-46ed-928c-1a7e22a290ad",
   "metadata": {},
   "outputs": [],
   "source": [
    "df = df.fillna(0)\n",
    "df.info()"
   ]
  },
  {
   "cell_type": "code",
   "execution_count": null,
   "id": "720771ab-332b-4bf2-b383-2214995a16d7",
   "metadata": {},
   "outputs": [],
   "source": [
    "df = df.astype({'sell_quantity':'int64', 'buy_quantity':'int64'})\n",
    "df"
   ]
  },
  {
   "cell_type": "markdown",
   "id": "99caac47-d746-42ff-bfe5-8dd763b67f32",
   "metadata": {},
   "source": [
    "# **SAVING PROCESSED DATASET**"
   ]
  },
  {
   "cell_type": "code",
   "execution_count": null,
   "id": "075efda3-d1e5-4e63-8cbc-a4c4aa00751d",
   "metadata": {},
   "outputs": [],
   "source": [
    "df.to_csv('../data/processed/01_Data_Cleaning.csv', index = False)"
   ]
  }
 ],
 "metadata": {
  "kernelspec": {
   "display_name": "Python [conda env:base] *",
   "language": "python",
   "name": "conda-base-py"
  },
  "language_info": {
   "codemirror_mode": {
    "name": "ipython",
    "version": 3
   },
   "file_extension": ".py",
   "mimetype": "text/x-python",
   "name": "python",
   "nbconvert_exporter": "python",
   "pygments_lexer": "ipython3",
   "version": "3.12.8"
  }
 },
 "nbformat": 4,
 "nbformat_minor": 5
}
