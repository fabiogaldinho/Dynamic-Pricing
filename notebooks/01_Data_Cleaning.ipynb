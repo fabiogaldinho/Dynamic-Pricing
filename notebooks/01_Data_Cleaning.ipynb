{
 "cells": [
  {
   "cell_type": "code",
   "execution_count": 13,
   "id": "945651d9-0b7d-421b-868f-4840c18d9924",
   "metadata": {},
   "outputs": [],
   "source": [
    "import pandas as pd\n",
    "\n",
    "!pip install meteostat\n",
    "# https://dev.meteostat.net/python/#example"
   ]
  },
  {
   "cell_type": "code",
   "execution_count": 2,
   "id": "ac045622-d9d0-49cb-85bd-3f4b9f89a593",
   "metadata": {},
   "outputs": [],
   "source": [
    "def warn(*args, **kwargs):\n",
    "    pass\n",
    "import warnings\n",
    "warnings.warn = warn"
   ]
  },
  {
   "cell_type": "markdown",
   "id": "66305d45-d17d-4301-b595-198f2f1f088f",
   "metadata": {},
   "source": [
    "# **DATASET LOADING**"
   ]
  },
  {
   "cell_type": "code",
   "execution_count": 7,
   "id": "4883b84a-fd10-4975-af7e-7b75b25534a8",
   "metadata": {},
   "outputs": [
    {
     "data": {
      "text/html": [
       "<div>\n",
       "<style scoped>\n",
       "    .dataframe tbody tr th:only-of-type {\n",
       "        vertical-align: middle;\n",
       "    }\n",
       "\n",
       "    .dataframe tbody tr th {\n",
       "        vertical-align: top;\n",
       "    }\n",
       "\n",
       "    .dataframe thead th {\n",
       "        text-align: right;\n",
       "    }\n",
       "</style>\n",
       "<table border=\"1\" class=\"dataframe\">\n",
       "  <thead>\n",
       "    <tr style=\"text-align: right;\">\n",
       "      <th></th>\n",
       "      <th>date</th>\n",
       "      <th>quantity</th>\n",
       "      <th>value</th>\n",
       "      <th>product</th>\n",
       "    </tr>\n",
       "  </thead>\n",
       "  <tbody>\n",
       "    <tr>\n",
       "      <th>0</th>\n",
       "      <td>2024-01-02T07:48:00</td>\n",
       "      <td>30.0</td>\n",
       "      <td>34.5</td>\n",
       "      <td>CIMENTO VOTORAN TODAS OBRAS 50 KG</td>\n",
       "    </tr>\n",
       "    <tr>\n",
       "      <th>1</th>\n",
       "      <td>2024-01-02T07:52:00</td>\n",
       "      <td>4.0</td>\n",
       "      <td>40.6</td>\n",
       "      <td>CIMENTO VOTORAN TODAS OBRAS 50 KG</td>\n",
       "    </tr>\n",
       "    <tr>\n",
       "      <th>2</th>\n",
       "      <td>2024-01-02T09:09:00</td>\n",
       "      <td>2.0</td>\n",
       "      <td>34.9</td>\n",
       "      <td>CIMENTO VOTORAN TODAS OBRAS 50 KG</td>\n",
       "    </tr>\n",
       "    <tr>\n",
       "      <th>3</th>\n",
       "      <td>2024-01-02T09:22:00</td>\n",
       "      <td>10.0</td>\n",
       "      <td>34.9</td>\n",
       "      <td>CIMENTO VOTORAN TODAS OBRAS 50 KG</td>\n",
       "    </tr>\n",
       "    <tr>\n",
       "      <th>4</th>\n",
       "      <td>2024-01-02T09:50:00</td>\n",
       "      <td>15.0</td>\n",
       "      <td>34.5</td>\n",
       "      <td>CIMENTO VOTORAN TODAS OBRAS 50 KG</td>\n",
       "    </tr>\n",
       "  </tbody>\n",
       "</table>\n",
       "</div>"
      ],
      "text/plain": [
       "                  date  quantity  value                            product\n",
       "0  2024-01-02T07:48:00      30.0   34.5  CIMENTO VOTORAN TODAS OBRAS 50 KG\n",
       "1  2024-01-02T07:52:00       4.0   40.6  CIMENTO VOTORAN TODAS OBRAS 50 KG\n",
       "2  2024-01-02T09:09:00       2.0   34.9  CIMENTO VOTORAN TODAS OBRAS 50 KG\n",
       "3  2024-01-02T09:22:00      10.0   34.9  CIMENTO VOTORAN TODAS OBRAS 50 KG\n",
       "4  2024-01-02T09:50:00      15.0   34.5  CIMENTO VOTORAN TODAS OBRAS 50 KG"
      ]
     },
     "execution_count": 7,
     "metadata": {},
     "output_type": "execute_result"
    }
   ],
   "source": [
    "df1 = pd.read_csv(\"../data/raw/ProductSold.csv\")\n",
    "df1.head()"
   ]
  },
  {
   "cell_type": "code",
   "execution_count": 9,
   "id": "73291783-1bf6-4811-8120-214eef55173f",
   "metadata": {},
   "outputs": [
    {
     "data": {
      "text/html": [
       "<div>\n",
       "<style scoped>\n",
       "    .dataframe tbody tr th:only-of-type {\n",
       "        vertical-align: middle;\n",
       "    }\n",
       "\n",
       "    .dataframe tbody tr th {\n",
       "        vertical-align: top;\n",
       "    }\n",
       "\n",
       "    .dataframe thead th {\n",
       "        text-align: right;\n",
       "    }\n",
       "</style>\n",
       "<table border=\"1\" class=\"dataframe\">\n",
       "  <thead>\n",
       "    <tr style=\"text-align: right;\">\n",
       "      <th></th>\n",
       "      <th>date</th>\n",
       "      <th>quantity</th>\n",
       "      <th>value</th>\n",
       "      <th>final_value</th>\n",
       "      <th>product</th>\n",
       "    </tr>\n",
       "  </thead>\n",
       "  <tbody>\n",
       "    <tr>\n",
       "      <th>0</th>\n",
       "      <td>2024-01-02T08:03:00</td>\n",
       "      <td>280.0</td>\n",
       "      <td>28.97</td>\n",
       "      <td>30.93</td>\n",
       "      <td>CIMENTO VOTORAN TODAS OBRAS 50 KG</td>\n",
       "    </tr>\n",
       "    <tr>\n",
       "      <th>1</th>\n",
       "      <td>2024-01-04T08:05:00</td>\n",
       "      <td>240.0</td>\n",
       "      <td>28.43</td>\n",
       "      <td>30.35</td>\n",
       "      <td>CIMENTO VOTORAN TODAS OBRAS 50 KG</td>\n",
       "    </tr>\n",
       "    <tr>\n",
       "      <th>2</th>\n",
       "      <td>2024-01-05T07:37:00</td>\n",
       "      <td>240.0</td>\n",
       "      <td>28.43</td>\n",
       "      <td>30.35</td>\n",
       "      <td>CIMENTO VOTORAN TODAS OBRAS 50 KG</td>\n",
       "    </tr>\n",
       "    <tr>\n",
       "      <th>3</th>\n",
       "      <td>2024-01-09T16:03:00</td>\n",
       "      <td>240.0</td>\n",
       "      <td>28.43</td>\n",
       "      <td>30.35</td>\n",
       "      <td>CIMENTO VOTORAN TODAS OBRAS 50 KG</td>\n",
       "    </tr>\n",
       "    <tr>\n",
       "      <th>4</th>\n",
       "      <td>2024-01-11T16:47:00</td>\n",
       "      <td>240.0</td>\n",
       "      <td>28.43</td>\n",
       "      <td>30.35</td>\n",
       "      <td>CIMENTO VOTORAN TODAS OBRAS 50 KG</td>\n",
       "    </tr>\n",
       "  </tbody>\n",
       "</table>\n",
       "</div>"
      ],
      "text/plain": [
       "                  date  quantity  value  final_value  \\\n",
       "0  2024-01-02T08:03:00     280.0  28.97        30.93   \n",
       "1  2024-01-04T08:05:00     240.0  28.43        30.35   \n",
       "2  2024-01-05T07:37:00     240.0  28.43        30.35   \n",
       "3  2024-01-09T16:03:00     240.0  28.43        30.35   \n",
       "4  2024-01-11T16:47:00     240.0  28.43        30.35   \n",
       "\n",
       "                             product  \n",
       "0  CIMENTO VOTORAN TODAS OBRAS 50 KG  \n",
       "1  CIMENTO VOTORAN TODAS OBRAS 50 KG  \n",
       "2  CIMENTO VOTORAN TODAS OBRAS 50 KG  \n",
       "3  CIMENTO VOTORAN TODAS OBRAS 50 KG  \n",
       "4  CIMENTO VOTORAN TODAS OBRAS 50 KG  "
      ]
     },
     "execution_count": 9,
     "metadata": {},
     "output_type": "execute_result"
    }
   ],
   "source": [
    "df2 = pd.read_csv(\"../data/raw/ProductBought.csv\")\n",
    "df2.head()"
   ]
  },
  {
   "cell_type": "markdown",
   "id": "7d49d6fe-ac96-4ac6-8eda-325a8ed8418a",
   "metadata": {},
   "source": [
    "# **APIs LOADING**"
   ]
  },
  {
   "cell_type": "markdown",
   "id": "57e2362e-8dd2-4b62-84a2-6b06bff9fecc",
   "metadata": {},
   "source": [
    "## **OPEN WEATHER**"
   ]
  },
  {
   "cell_type": "code",
   "execution_count": 95,
   "id": "8c6f1d6e-3fcb-4234-b43b-048dbc21c63a",
   "metadata": {},
   "outputs": [],
   "source": [
    "API_KEY = \"9fa6ff288c27667d4df0d9dc1d13199a\"\n",
    "lat = \"-22.31553\"\n",
    "lon= \"-49.070822\"\n",
    "start = \"1704078000\"\n",
    "end = \"1704121200\" \n",
    "link = f\"https://history.openweathermap.org/data/2.5/history/city?lat={lat}&lon={lon}&appid={API_KEY}\""
   ]
  },
  {
   "cell_type": "code",
   "execution_count": 97,
   "id": "1c5c9faa-75e7-47fc-984e-9174830a5e0d",
   "metadata": {},
   "outputs": [],
   "source": [
    "request = requests.get(link).json()"
   ]
  },
  {
   "cell_type": "code",
   "execution_count": 98,
   "id": "481153d4-323d-4ae5-9848-750551b696b1",
   "metadata": {},
   "outputs": [
    {
     "name": "stdout",
     "output_type": "stream",
     "text": [
      "{'message': 'Count: 24', 'cod': '200', 'city_id': 1, 'calctime': 0.018974964, 'cnt': 24, 'list': [{'dt': 1746687600, 'main': {'temp': 292.5, 'feels_like': 293.1, 'pressure': 1018, 'humidity': 100, 'temp_min': 292.5, 'temp_max': 292.5}, 'wind': {'speed': 1.77, 'deg': 100, 'gust': 1.94}, 'clouds': {'all': 42}, 'weather': [{'id': 802, 'main': 'Clouds', 'description': 'scattered clouds', 'icon': '03n'}]}, {'dt': 1746691200, 'main': {'temp': 291.94, 'feels_like': 292.49, 'pressure': 1018, 'humidity': 100, 'temp_min': 291.94, 'temp_max': 291.94}, 'wind': {'speed': 1.76, 'deg': 97, 'gust': 2.02}, 'clouds': {'all': 55}, 'weather': [{'id': 803, 'main': 'Clouds', 'description': 'broken clouds', 'icon': '04n'}]}, {'dt': 1746694800, 'main': {'temp': 291.94, 'feels_like': 292.49, 'pressure': 1019, 'humidity': 100, 'temp_min': 291.94, 'temp_max': 291.94}, 'wind': {'speed': 1.71, 'deg': 106, 'gust': 1.83}, 'clouds': {'all': 69}, 'weather': [{'id': 803, 'main': 'Clouds', 'description': 'broken clouds', 'icon': '04n'}]}, {'dt': 1746698400, 'main': {'temp': 294.67, 'feels_like': 294.91, 'pressure': 1019, 'humidity': 78, 'temp_min': 291.94, 'temp_max': 294.67}, 'wind': {'speed': 3.09, 'deg': 120}, 'clouds': {'all': 0}, 'weather': [{'id': 800, 'main': 'Clear', 'description': 'clear sky', 'icon': '01d'}]}, {'dt': 1746702000, 'main': {'temp': 293.67, 'feels_like': 293.94, 'pressure': 1020, 'humidity': 83, 'temp_min': 293.67, 'temp_max': 294.17}, 'wind': {'speed': 3.6, 'deg': 100}, 'clouds': {'all': 0}, 'weather': [{'id': 800, 'main': 'Clear', 'description': 'clear sky', 'icon': '01d'}]}, {'dt': 1746705600, 'main': {'temp': 295.67, 'feels_like': 295.88, 'pressure': 1018, 'humidity': 73, 'temp_min': 295.67, 'temp_max': 296.94}, 'wind': {'speed': 2.06, 'deg': 80}, 'clouds': {'all': 0}, 'weather': [{'id': 800, 'main': 'Clear', 'description': 'clear sky', 'icon': '01d'}]}, {'dt': 1746709200, 'main': {'temp': 297.67, 'feels_like': 297.98, 'pressure': 1020, 'humidity': 69, 'temp_min': 297.67, 'temp_max': 299.17}, 'wind': {'speed': 2.06, 'deg': 80}, 'clouds': {'all': 0}, 'weather': [{'id': 800, 'main': 'Clear', 'description': 'clear sky', 'icon': '01d'}]}, {'dt': 1746712800, 'main': {'temp': 298.67, 'feels_like': 298.97, 'pressure': 1019, 'humidity': 65, 'temp_min': 298.67, 'temp_max': 300.28}, 'wind': {'speed': 2.57, 'deg': 40}, 'clouds': {'all': 0}, 'weather': [{'id': 800, 'main': 'Clear', 'description': 'clear sky', 'icon': '01d'}]}, {'dt': 1746716400, 'main': {'temp': 301.67, 'feels_like': 303.01, 'pressure': 1018, 'humidity': 57, 'temp_min': 301.67, 'temp_max': 301.94}, 'wind': {'speed': 3.09, 'deg': 10}, 'clouds': {'all': 0}, 'weather': [{'id': 800, 'main': 'Clear', 'description': 'clear sky', 'icon': '01d'}]}, {'dt': 1746720000, 'main': {'temp': 302.67, 'feels_like': 304.1, 'pressure': 1017, 'humidity': 54, 'temp_min': 302.67, 'temp_max': 303.05}, 'wind': {'speed': 4.12, 'deg': 360}, 'clouds': {'all': 0}, 'weather': [{'id': 800, 'main': 'Clear', 'description': 'clear sky', 'icon': '01d'}]}, {'dt': 1746723600, 'main': {'temp': 303.67, 'feels_like': 305.17, 'pressure': 1016, 'humidity': 51, 'temp_min': 303.61, 'temp_max': 303.67}, 'wind': {'speed': 4.63, 'deg': 340}, 'clouds': {'all': 20}, 'weather': [{'id': 801, 'main': 'Clouds', 'description': 'few clouds', 'icon': '02d'}]}, {'dt': 1746727200, 'main': {'temp': 304.67, 'feels_like': 305.63, 'pressure': 1014, 'humidity': 45, 'temp_min': 303.61, 'temp_max': 304.67}, 'wind': {'speed': 2.57, 'deg': 330}, 'clouds': {'all': 20}, 'weather': [{'id': 801, 'main': 'Clouds', 'description': 'few clouds', 'icon': '02d'}]}, {'dt': 1746730800, 'main': {'temp': 304.67, 'feels_like': 305.63, 'pressure': 1015, 'humidity': 45, 'temp_min': 303.05, 'temp_max': 304.67}, 'wind': {'speed': 2.57, 'deg': 40}, 'clouds': {'all': 20}, 'weather': [{'id': 801, 'main': 'Clouds', 'description': 'few clouds', 'icon': '02d'}]}, {'dt': 1746734400, 'main': {'temp': 304.67, 'feels_like': 306.23, 'pressure': 1015, 'humidity': 48, 'temp_min': 302.5, 'temp_max': 304.67}, 'wind': {'speed': 2.57, 'deg': 20}, 'clouds': {'all': 20}, 'weather': [{'id': 801, 'main': 'Clouds', 'description': 'few clouds', 'icon': '02d'}]}, {'dt': 1746738000, 'main': {'temp': 304.67, 'feels_like': 306.23, 'pressure': 1016, 'humidity': 48, 'temp_min': 304.67, 'temp_max': 304.67}, 'wind': {'speed': 2.57, 'deg': 310}, 'clouds': {'all': 20}, 'weather': [{'id': 801, 'main': 'Clouds', 'description': 'few clouds', 'icon': '02n'}]}, {'dt': 1746741600, 'main': {'temp': 303.67, 'feels_like': 304.65, 'pressure': 1016, 'humidity': 48, 'temp_min': 298.05, 'temp_max': 303.67}, 'wind': {'speed': 2.57, 'deg': 330}, 'clouds': {'all': 0}, 'weather': [{'id': 800, 'main': 'Clear', 'description': 'clear sky', 'icon': '01n'}]}, {'dt': 1746745200, 'main': {'temp': 302.67, 'feels_like': 304.1, 'pressure': 1017, 'humidity': 54, 'temp_min': 298.05, 'temp_max': 302.67}, 'wind': {'speed': 1.03, 'deg': 340}, 'clouds': {'all': 0}, 'weather': [{'id': 800, 'main': 'Clear', 'description': 'clear sky', 'icon': '01n'}]}, {'dt': 1746748800, 'main': {'temp': 301.67, 'feels_like': 302.65, 'pressure': 1016, 'humidity': 54, 'temp_min': 301.67, 'temp_max': 301.67}, 'wind': {'speed': 0.51, 'deg': 350}, 'clouds': {'all': 0}, 'weather': [{'id': 800, 'main': 'Clear', 'description': 'clear sky', 'icon': '01n'}]}, {'dt': 1746752400, 'main': {'temp': 301.67, 'feels_like': 303.01, 'pressure': 1017, 'humidity': 57, 'temp_min': 301.67, 'temp_max': 301.67}, 'wind': {'speed': 1.03, 'deg': 360}, 'clouds': {'all': 0}, 'weather': [{'id': 800, 'main': 'Clear', 'description': 'clear sky', 'icon': '01n'}]}, {'dt': 1746756000, 'main': {'temp': 300.67, 'feels_like': 302.01, 'pressure': 1017, 'humidity': 61, 'temp_min': 300.67, 'temp_max': 300.67}, 'wind': {'speed': 1.03, 'deg': 40}, 'clouds': {'all': 0}, 'weather': [{'id': 800, 'main': 'Clear', 'description': 'clear sky', 'icon': '01n'}]}, {'dt': 1746759600, 'main': {'temp': 299.67, 'feels_like': 299.67, 'pressure': 1016, 'humidity': 61, 'temp_min': 299.67, 'temp_max': 299.67}, 'wind': {'speed': 2.06, 'deg': 40}, 'clouds': {'all': 0}, 'weather': [{'id': 800, 'main': 'Clear', 'description': 'clear sky', 'icon': '01n'}]}, {'dt': 1746763200, 'main': {'temp': 294.48, 'feels_like': 294.5, 'pressure': 1015, 'humidity': 70, 'temp_min': 294.48, 'temp_max': 294.48}, 'wind': {'speed': 1.08, 'deg': 101, 'gust': 1.07}, 'clouds': {'all': 8}, 'weather': [{'id': 800, 'main': 'Clear', 'description': 'clear sky', 'icon': '01n'}]}, {'dt': 1746766800, 'main': {'temp': 293.81, 'feels_like': 293.81, 'pressure': 1015, 'humidity': 72, 'temp_min': 293.81, 'temp_max': 293.81}, 'wind': {'speed': 2.01, 'deg': 58, 'gust': 1.85}, 'clouds': {'all': 7}, 'weather': [{'id': 800, 'main': 'Clear', 'description': 'clear sky', 'icon': '01n'}]}, {'dt': 1746770400, 'main': {'temp': 293.39, 'feels_like': 293.4, 'pressure': 1014, 'humidity': 74, 'temp_min': 293.39, 'temp_max': 293.39}, 'wind': {'speed': 1.58, 'deg': 47, 'gust': 1.56}, 'clouds': {'all': 6}, 'weather': [{'id': 800, 'main': 'Clear', 'description': 'clear sky', 'icon': '01n'}]}]}\n"
     ]
    }
   ],
   "source": [
    "print(request)"
   ]
  },
  {
   "cell_type": "markdown",
   "id": "358d1463-8a80-4307-876b-a4e4252f7f76",
   "metadata": {},
   "source": [
    "# **DATA CLEANING, PROCESSING, AND CONSOLIDATION**"
   ]
  },
  {
   "cell_type": "markdown",
   "id": "cb1e3601-dfcb-49b6-90f8-2613ac575f15",
   "metadata": {},
   "source": [
    "## **DEALING WITH MISSING DATA**"
   ]
  },
  {
   "cell_type": "code",
   "execution_count": null,
   "id": "765ac8d8-cf95-4026-9334-bfc10e1ab890",
   "metadata": {},
   "outputs": [],
   "source": [
    "df.isna().sum()"
   ]
  },
  {
   "cell_type": "code",
   "execution_count": null,
   "id": "c43ebdaa-4ced-4fb7-83a2-d1ed7c3353ff",
   "metadata": {},
   "outputs": [],
   "source": [
    "df[df.duplicated(subset=['transaction_id', 'product_id', 'quantity'], keep=False)].sort_values(by = 'transaction_id')"
   ]
  },
  {
   "cell_type": "markdown",
   "id": "95dca78a-be42-446c-bd82-940f23400631",
   "metadata": {},
   "source": [
    "## **OUTLIERS**"
   ]
  },
  {
   "cell_type": "code",
   "execution_count": null,
   "id": "d7fea362-2921-41aa-ad4f-ad82f2ac07df",
   "metadata": {},
   "outputs": [],
   "source": [
    "df[['product']].value_counts()"
   ]
  },
  {
   "cell_type": "markdown",
   "id": "99caac47-d746-42ff-bfe5-8dd763b67f32",
   "metadata": {},
   "source": [
    "# **SAVING PROCESSED DATASET**"
   ]
  },
  {
   "cell_type": "code",
   "execution_count": null,
   "id": "075efda3-d1e5-4e63-8cbc-a4c4aa00751d",
   "metadata": {},
   "outputs": [],
   "source": [
    "df.to_csv('../data/processed/01_Data_Cleaning.csv', index = False)"
   ]
  },
  {
   "cell_type": "code",
   "execution_count": null,
   "id": "3b31ef70-d080-493f-a3ed-162c3e8fdcc9",
   "metadata": {},
   "outputs": [],
   "source": []
  }
 ],
 "metadata": {
  "kernelspec": {
   "display_name": "Python [conda env:base] *",
   "language": "python",
   "name": "conda-base-py"
  },
  "language_info": {
   "codemirror_mode": {
    "name": "ipython",
    "version": 3
   },
   "file_extension": ".py",
   "mimetype": "text/x-python",
   "name": "python",
   "nbconvert_exporter": "python",
   "pygments_lexer": "ipython3",
   "version": "3.12.8"
  }
 },
 "nbformat": 4,
 "nbformat_minor": 5
}
