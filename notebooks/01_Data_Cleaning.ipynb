{
 "cells": [
  {
   "cell_type": "code",
   "execution_count": 94,
   "id": "945651d9-0b7d-421b-868f-4840c18d9924",
   "metadata": {},
   "outputs": [],
   "source": [
    "import pandas as pd\n",
    "import numpy as np\n",
    "from datetime import datetime\n",
    "import requests\n",
    "import matplotlib.pyplot as plt\n",
    "import seaborn as sns\n",
    "\n",
    "!pip install -q holidays\n",
    "import holidays\n",
    "\n",
    "!pip install -q meteostat\n",
    "from meteostat import Point, Daily"
   ]
  },
  {
   "cell_type": "code",
   "execution_count": 95,
   "id": "ac045622-d9d0-49cb-85bd-3f4b9f89a593",
   "metadata": {},
   "outputs": [],
   "source": [
    "def warn(*args, **kwargs):\n",
    "    pass\n",
    "import warnings\n",
    "warnings.warn = warn"
   ]
  },
  {
   "cell_type": "markdown",
   "id": "886b9cd6-e88d-4799-b79f-d969a8aa3a11",
   "metadata": {},
   "source": [
    "# **FUNCTIONS**"
   ]
  },
  {
   "cell_type": "markdown",
   "id": "89fcba1c-99e4-41df-a171-d1ec32a1648e",
   "metadata": {},
   "source": [
    "## **Set Plot Style**"
   ]
  },
  {
   "cell_type": "code",
   "execution_count": 98,
   "id": "1072588d-2402-4500-9304-009c42730982",
   "metadata": {},
   "outputs": [],
   "source": [
    "corDefault = \"#6688AA\"\n",
    "corViridis = ['#440154', '#414487', '#2a788e', '#22a884', '#7ad151']\n",
    "\n",
    "def set_plot_style():\n",
    "    # Background colors\n",
    "    plt.figure().patch.set_facecolor(\"0.85\")\n",
    "    plt.axes().set(facecolor=\"0.85\")\n",
    "    \n",
    "    # Hiding grid\n",
    "    plt.grid(False)\n",
    "    \n",
    "    # Setting only left and bottom spines as visible\n",
    "    ax = plt.gca()\n",
    "    ax.spines['bottom'].set_visible(True)\n",
    "    ax.spines['left'].set_visible(True)\n",
    "    ax.spines['top'].set_visible(False)\n",
    "    ax.spines['right'].set_visible(False)\n",
    "    \n",
    "    # Spines color\n",
    "    ax.spines['bottom'].set_color(\"black\")\n",
    "    ax.spines['left'].set_color(\"black\")\n",
    "    \n",
    "    # Plot size\n",
    "    plt.gcf().set_size_inches(6, 5)\n",
    "\n",
    "    # Plot Style\n",
    "    plt.style.use('seaborn-v0_8-colorblind')"
   ]
  },
  {
   "cell_type": "markdown",
   "id": "754deaef-c2a0-4ca2-bb1f-3bb67b2452ea",
   "metadata": {
    "jp-MarkdownHeadingCollapsed": true
   },
   "source": [
    "## **Scatter Plot**"
   ]
  },
  {
   "cell_type": "code",
   "execution_count": 100,
   "id": "7043d2a3-e177-4589-ab36-bc7928e3832a",
   "metadata": {},
   "outputs": [],
   "source": [
    "def PlotScatter(x, y, title, xunit, yunit, x_size, lim):\n",
    "    set_plot_style()\n",
    "    \n",
    "    plt.title(title)\n",
    "    plt.scatter(x, y, alpha=0.7)\n",
    "\n",
    "    plt.gca().set_xlabel(xunit, fontsize = 10)\n",
    "    plt.gca().xaxis.set_label_coords(1.05, -0.025)\n",
    "    plt.gca().set_ylabel(yunit, fontsize = 10)\n",
    "    plt.gca().yaxis.set_label_coords(-0.16, .98)\n",
    "\n",
    "    if (x_size == 0):\n",
    "        plt.gcf().set_size_inches(6, 5)\n",
    "    else:\n",
    "        plt.gcf().set_size_inches(x_size, 5)\n",
    "\n",
    "    if (lim == \"x\"):\n",
    "        plt.xlim(0,)\n",
    "    elif (lim == \"y\"):\n",
    "        plt.ylim(0,)\n",
    "    elif (lim == \"xy\"):\n",
    "        plt.xlim(0,)\n",
    "        plt.ylim(0,)\n",
    "\n",
    "    \n",
    "    plt.show()\n",
    "    plt.close()"
   ]
  },
  {
   "cell_type": "markdown",
   "id": "b8033d38-d2d8-4440-86a0-9ee05eb6bae8",
   "metadata": {
    "jp-MarkdownHeadingCollapsed": true
   },
   "source": [
    "## **Box Plot**"
   ]
  },
  {
   "cell_type": "code",
   "execution_count": 102,
   "id": "94390922-d1a1-48fd-a693-a8245056a6e2",
   "metadata": {},
   "outputs": [],
   "source": [
    "def PlotBoxPlotV3(df_x, df_y, title, size_x, size_y, save):\n",
    "    set_plot_style()\n",
    "\n",
    "    plt.title(title)\n",
    "    sns.boxplot(x = df_x, y = df_y, palette = \"mako\")\n",
    "\n",
    "    plt.xlabel(\"\")\n",
    "    plt.ylabel(\"\")\n",
    "\n",
    "    plt.gcf().set_size_inches(size_x, size_y)\n",
    "\n",
    "    if (save != \"\"):\n",
    "        plt.savefig(save)\n",
    "\n",
    "    plt.show()\n",
    "    plt.close()"
   ]
  },
  {
   "cell_type": "code",
   "execution_count": 103,
   "id": "8ba13504-afdf-4882-a117-524187773293",
   "metadata": {},
   "outputs": [],
   "source": [
    "def PlotBoxPlotV3_y(df_y, title, size_x, size_y, save):\n",
    "    set_plot_style()\n",
    "\n",
    "    plt.title(title)\n",
    "    sns.boxplot(y = df_y, palette = \"mako\")\n",
    "\n",
    "    plt.xlabel(\"\")\n",
    "    plt.ylabel(\"\")\n",
    "\n",
    "    plt.gcf().set_size_inches(size_x, size_y)\n",
    "\n",
    "    #plt.ylim(0,)\n",
    "\n",
    "    if (save != \"\"):\n",
    "        plt.savefig(save)\n",
    "\n",
    "    plt.show()\n",
    "    plt.close()"
   ]
  },
  {
   "cell_type": "markdown",
   "id": "99bb0c5f-c7d3-455b-bacf-552f5d6a555d",
   "metadata": {
    "jp-MarkdownHeadingCollapsed": true
   },
   "source": [
    "## **IQR Outlier Method**"
   ]
  },
  {
   "cell_type": "code",
   "execution_count": 105,
   "id": "799fd981-6d9f-4a47-a0a7-26eec395532b",
   "metadata": {},
   "outputs": [],
   "source": [
    "def IQR_Method(df, column):\n",
    "    Q1 = df[column].quantile(0.25)\n",
    "    Q3 = df[column].quantile(0.75)\n",
    "    \n",
    "    IQR = Q3 - Q1\n",
    "    \n",
    "    lower_limit = Q1 - 1.5 * IQR\n",
    "    upper_limit = Q3 + 1.5 * IQR\n",
    "    \n",
    "    return df[(df[column] >= lower_limit) & (df[column] <= upper_limit)]"
   ]
  },
  {
   "cell_type": "markdown",
   "id": "1b39f6d6-ffb8-44b7-b776-c24b44bbf4ea",
   "metadata": {
    "jp-MarkdownHeadingCollapsed": true
   },
   "source": [
    "## **Regression Plot**"
   ]
  },
  {
   "cell_type": "code",
   "execution_count": 107,
   "id": "3871634b-a45e-4ce9-b020-32a690a91f51",
   "metadata": {},
   "outputs": [],
   "source": [
    "def PlotRegPlot(df_x, df_y, title, xunit, yunit):\n",
    "    set_plot_style()\n",
    "\n",
    "    plt.title(title)\n",
    "    sns.regplot(x = df_x, y = df_y, line_kws={\"color\": \"#31273F\"})\n",
    "\n",
    "    plt.gca().set_ylabel(yunit, fontsize = 10)\n",
    "    plt.gca().yaxis.set_label_coords(-0.07, .98)\n",
    "\n",
    "    plt.gca().set_xlabel(xunit, fontsize = 10)\n",
    "    plt.gca().xaxis.set_label_coords(1.05, -0.025)\n",
    "\n",
    "    plt.gca().set_yticklabels(['{:,.0f}'.format(x) for x in plt.gca().get_yticks()])\n",
    "    #plt.gca().set_xticklabels(['{:,.0f}'.format(x) for x in plt.gca().get_xticks()])\n",
    "\n",
    "    plt.show()\n",
    "    plt.close()"
   ]
  },
  {
   "cell_type": "markdown",
   "id": "c37c5a8a-d15d-4f8a-855b-acad18fb996c",
   "metadata": {},
   "source": [
    "## **Line Plot**"
   ]
  },
  {
   "cell_type": "code",
   "execution_count": 109,
   "id": "855054b6-6282-4854-9450-ce68e0f1561d",
   "metadata": {},
   "outputs": [],
   "source": [
    "def PlotLine(x, y, title, yunit, x_size, y_size):\n",
    "  set_plot_style()\n",
    "\n",
    "  plt.title(title)\n",
    "  plt.plot(x, y)\n",
    "\n",
    "  plt.gca().set_xlabel(\"\", fontsize = 0)\n",
    "  #plt.gca().xaxis.set_label_coords(1.05, -0.025)\n",
    "  plt.gca().set_ylabel(yunit, fontsize = 10)\n",
    "  plt.gca().yaxis.set_label_coords(-0.16, .98)\n",
    "\n",
    "  #plt.gca().set_yticklabels(['{:,.0f}'.format(x) for x in plt.gca().get_yticks()])\n",
    "\n",
    "  plt.gcf().set_size_inches(x_size, y_size)\n",
    "\n",
    "  plt.show()\n",
    "  plt.close()"
   ]
  },
  {
   "cell_type": "markdown",
   "id": "66305d45-d17d-4301-b595-198f2f1f088f",
   "metadata": {
    "jp-MarkdownHeadingCollapsed": true
   },
   "source": [
    "# **DATASET LOADING**"
   ]
  },
  {
   "cell_type": "markdown",
   "id": "7819bdfd-51ba-427f-bd89-e7835af28fb4",
   "metadata": {},
   "source": [
    "For this project, we will import three datasets extracted from the company's database:\n",
    "- `sell_df`: contains records of all sales transactions for the product;\n",
    "- `buy_df`: contains records of product purchase transactions;\n",
    "- `stock_countcount_df`: contains inventory count records over time."
   ]
  },
  {
   "cell_type": "code",
   "execution_count": 112,
   "id": "4883b84a-fd10-4975-af7e-7b75b25534a8",
   "metadata": {},
   "outputs": [
    {
     "data": {
      "text/html": [
       "<div>\n",
       "<style scoped>\n",
       "    .dataframe tbody tr th:only-of-type {\n",
       "        vertical-align: middle;\n",
       "    }\n",
       "\n",
       "    .dataframe tbody tr th {\n",
       "        vertical-align: top;\n",
       "    }\n",
       "\n",
       "    .dataframe thead th {\n",
       "        text-align: right;\n",
       "    }\n",
       "</style>\n",
       "<table border=\"1\" class=\"dataframe\">\n",
       "  <thead>\n",
       "    <tr style=\"text-align: right;\">\n",
       "      <th></th>\n",
       "      <th>date</th>\n",
       "      <th>sell_quantity</th>\n",
       "      <th>sell_value</th>\n",
       "      <th>sell_final_value</th>\n",
       "    </tr>\n",
       "  </thead>\n",
       "  <tbody>\n",
       "    <tr>\n",
       "      <th>0</th>\n",
       "      <td>2024-01-02</td>\n",
       "      <td>163.0</td>\n",
       "      <td>32.10</td>\n",
       "      <td>34.27</td>\n",
       "    </tr>\n",
       "    <tr>\n",
       "      <th>1</th>\n",
       "      <td>2024-01-03</td>\n",
       "      <td>215.0</td>\n",
       "      <td>31.13</td>\n",
       "      <td>33.23</td>\n",
       "    </tr>\n",
       "    <tr>\n",
       "      <th>2</th>\n",
       "      <td>2024-01-04</td>\n",
       "      <td>2953.0</td>\n",
       "      <td>34.30</td>\n",
       "      <td>36.61</td>\n",
       "    </tr>\n",
       "    <tr>\n",
       "      <th>3</th>\n",
       "      <td>2024-01-05</td>\n",
       "      <td>55.0</td>\n",
       "      <td>35.50</td>\n",
       "      <td>37.90</td>\n",
       "    </tr>\n",
       "    <tr>\n",
       "      <th>4</th>\n",
       "      <td>2024-01-06</td>\n",
       "      <td>2.0</td>\n",
       "      <td>33.50</td>\n",
       "      <td>35.76</td>\n",
       "    </tr>\n",
       "    <tr>\n",
       "      <th>...</th>\n",
       "      <td>...</td>\n",
       "      <td>...</td>\n",
       "      <td>...</td>\n",
       "      <td>...</td>\n",
       "    </tr>\n",
       "    <tr>\n",
       "      <th>380</th>\n",
       "      <td>2025-04-24</td>\n",
       "      <td>60.0</td>\n",
       "      <td>34.94</td>\n",
       "      <td>37.30</td>\n",
       "    </tr>\n",
       "    <tr>\n",
       "      <th>381</th>\n",
       "      <td>2025-04-25</td>\n",
       "      <td>142.0</td>\n",
       "      <td>34.92</td>\n",
       "      <td>37.28</td>\n",
       "    </tr>\n",
       "    <tr>\n",
       "      <th>382</th>\n",
       "      <td>2025-04-28</td>\n",
       "      <td>39.0</td>\n",
       "      <td>35.17</td>\n",
       "      <td>37.56</td>\n",
       "    </tr>\n",
       "    <tr>\n",
       "      <th>383</th>\n",
       "      <td>2025-04-29</td>\n",
       "      <td>107.0</td>\n",
       "      <td>34.71</td>\n",
       "      <td>37.06</td>\n",
       "    </tr>\n",
       "    <tr>\n",
       "      <th>384</th>\n",
       "      <td>2025-04-30</td>\n",
       "      <td>11.0</td>\n",
       "      <td>35.20</td>\n",
       "      <td>37.58</td>\n",
       "    </tr>\n",
       "  </tbody>\n",
       "</table>\n",
       "<p>385 rows × 4 columns</p>\n",
       "</div>"
      ],
      "text/plain": [
       "          date  sell_quantity  sell_value  sell_final_value\n",
       "0   2024-01-02          163.0       32.10             34.27\n",
       "1   2024-01-03          215.0       31.13             33.23\n",
       "2   2024-01-04         2953.0       34.30             36.61\n",
       "3   2024-01-05           55.0       35.50             37.90\n",
       "4   2024-01-06            2.0       33.50             35.76\n",
       "..         ...            ...         ...               ...\n",
       "380 2025-04-24           60.0       34.94             37.30\n",
       "381 2025-04-25          142.0       34.92             37.28\n",
       "382 2025-04-28           39.0       35.17             37.56\n",
       "383 2025-04-29          107.0       34.71             37.06\n",
       "384 2025-04-30           11.0       35.20             37.58\n",
       "\n",
       "[385 rows x 4 columns]"
      ]
     },
     "execution_count": 112,
     "metadata": {},
     "output_type": "execute_result"
    }
   ],
   "source": [
    "sell_df = pd.read_csv(\"../data/raw/Dataset_sell.csv\")\n",
    "sell_df['sell_date'] = pd.to_datetime(sell_df['sell_date']).dt.normalize()\n",
    "sell_df = sell_df[sell_df['sell_date'] < datetime(2025, 5, 1)]\n",
    "sell_df = sell_df.rename(columns = {'sell_date': 'date'})\n",
    "\n",
    "sell_df = sell_df.groupby('date').agg({'sell_quantity': 'sum', 'sell_value': 'mean', 'sell_final_value': 'mean'}).reset_index()\n",
    "sell_df['sell_value'] = np.round(sell_df['sell_value'], 2)\n",
    "sell_df['sell_final_value'] = np.round(sell_df['sell_final_value'], 2)\n",
    "\n",
    "sell_df"
   ]
  },
  {
   "cell_type": "code",
   "execution_count": 113,
   "id": "73291783-1bf6-4811-8120-214eef55173f",
   "metadata": {
    "scrolled": true
   },
   "outputs": [
    {
     "data": {
      "text/html": [
       "<div>\n",
       "<style scoped>\n",
       "    .dataframe tbody tr th:only-of-type {\n",
       "        vertical-align: middle;\n",
       "    }\n",
       "\n",
       "    .dataframe tbody tr th {\n",
       "        vertical-align: top;\n",
       "    }\n",
       "\n",
       "    .dataframe thead th {\n",
       "        text-align: right;\n",
       "    }\n",
       "</style>\n",
       "<table border=\"1\" class=\"dataframe\">\n",
       "  <thead>\n",
       "    <tr style=\"text-align: right;\">\n",
       "      <th></th>\n",
       "      <th>date</th>\n",
       "      <th>buy_quantity</th>\n",
       "      <th>buy_value</th>\n",
       "    </tr>\n",
       "  </thead>\n",
       "  <tbody>\n",
       "    <tr>\n",
       "      <th>0</th>\n",
       "      <td>2024-01-02</td>\n",
       "      <td>280.0</td>\n",
       "      <td>28.97</td>\n",
       "    </tr>\n",
       "    <tr>\n",
       "      <th>1</th>\n",
       "      <td>2024-01-04</td>\n",
       "      <td>240.0</td>\n",
       "      <td>28.43</td>\n",
       "    </tr>\n",
       "    <tr>\n",
       "      <th>2</th>\n",
       "      <td>2024-01-05</td>\n",
       "      <td>240.0</td>\n",
       "      <td>28.43</td>\n",
       "    </tr>\n",
       "    <tr>\n",
       "      <th>3</th>\n",
       "      <td>2024-01-09</td>\n",
       "      <td>240.0</td>\n",
       "      <td>28.43</td>\n",
       "    </tr>\n",
       "    <tr>\n",
       "      <th>4</th>\n",
       "      <td>2024-01-11</td>\n",
       "      <td>240.0</td>\n",
       "      <td>28.43</td>\n",
       "    </tr>\n",
       "    <tr>\n",
       "      <th>...</th>\n",
       "      <td>...</td>\n",
       "      <td>...</td>\n",
       "      <td>...</td>\n",
       "    </tr>\n",
       "    <tr>\n",
       "      <th>159</th>\n",
       "      <td>2025-04-14</td>\n",
       "      <td>200.0</td>\n",
       "      <td>30.49</td>\n",
       "    </tr>\n",
       "    <tr>\n",
       "      <th>160</th>\n",
       "      <td>2025-04-15</td>\n",
       "      <td>220.0</td>\n",
       "      <td>30.49</td>\n",
       "    </tr>\n",
       "    <tr>\n",
       "      <th>161</th>\n",
       "      <td>2025-04-16</td>\n",
       "      <td>200.0</td>\n",
       "      <td>30.49</td>\n",
       "    </tr>\n",
       "    <tr>\n",
       "      <th>162</th>\n",
       "      <td>2025-04-22</td>\n",
       "      <td>200.0</td>\n",
       "      <td>30.49</td>\n",
       "    </tr>\n",
       "    <tr>\n",
       "      <th>163</th>\n",
       "      <td>2025-04-25</td>\n",
       "      <td>450.0</td>\n",
       "      <td>30.22</td>\n",
       "    </tr>\n",
       "  </tbody>\n",
       "</table>\n",
       "<p>164 rows × 3 columns</p>\n",
       "</div>"
      ],
      "text/plain": [
       "          date  buy_quantity  buy_value\n",
       "0   2024-01-02         280.0      28.97\n",
       "1   2024-01-04         240.0      28.43\n",
       "2   2024-01-05         240.0      28.43\n",
       "3   2024-01-09         240.0      28.43\n",
       "4   2024-01-11         240.0      28.43\n",
       "..         ...           ...        ...\n",
       "159 2025-04-14         200.0      30.49\n",
       "160 2025-04-15         220.0      30.49\n",
       "161 2025-04-16         200.0      30.49\n",
       "162 2025-04-22         200.0      30.49\n",
       "163 2025-04-25         450.0      30.22\n",
       "\n",
       "[164 rows x 3 columns]"
      ]
     },
     "execution_count": 113,
     "metadata": {},
     "output_type": "execute_result"
    }
   ],
   "source": [
    "buy_df = pd.read_csv(\"../data/raw/Dataset_buy.csv\")\n",
    "buy_df['buy_date'] = pd.to_datetime(buy_df['buy_date']).dt.normalize()\n",
    "buy_df = buy_df[buy_df['buy_date'] < datetime(2025, 5, 1)]\n",
    "buy_df = buy_df.rename(columns = {'buy_date': 'date'})\n",
    "\n",
    "buy_df = buy_df.groupby('date').agg({'buy_quantity': 'sum', 'buy_value': 'mean'}).reset_index()\n",
    "buy_df['buy_value'] = np.round(buy_df['buy_value'], 2)\n",
    "\n",
    "buy_df"
   ]
  },
  {
   "cell_type": "code",
   "execution_count": 114,
   "id": "b2f568b9-8437-404d-81ad-45e93cc9bee4",
   "metadata": {},
   "outputs": [
    {
     "data": {
      "text/html": [
       "<div>\n",
       "<style scoped>\n",
       "    .dataframe tbody tr th:only-of-type {\n",
       "        vertical-align: middle;\n",
       "    }\n",
       "\n",
       "    .dataframe tbody tr th {\n",
       "        vertical-align: top;\n",
       "    }\n",
       "\n",
       "    .dataframe thead th {\n",
       "        text-align: right;\n",
       "    }\n",
       "</style>\n",
       "<table border=\"1\" class=\"dataframe\">\n",
       "  <thead>\n",
       "    <tr style=\"text-align: right;\">\n",
       "      <th></th>\n",
       "      <th>date</th>\n",
       "      <th>stock_count</th>\n",
       "    </tr>\n",
       "  </thead>\n",
       "  <tbody>\n",
       "    <tr>\n",
       "      <th>0</th>\n",
       "      <td>2024-01-01</td>\n",
       "      <td>175.0</td>\n",
       "    </tr>\n",
       "    <tr>\n",
       "      <th>1</th>\n",
       "      <td>2024-01-02</td>\n",
       "      <td>0.0</td>\n",
       "    </tr>\n",
       "    <tr>\n",
       "      <th>2</th>\n",
       "      <td>2024-01-03</td>\n",
       "      <td>0.0</td>\n",
       "    </tr>\n",
       "    <tr>\n",
       "      <th>3</th>\n",
       "      <td>2024-01-04</td>\n",
       "      <td>0.0</td>\n",
       "    </tr>\n",
       "    <tr>\n",
       "      <th>4</th>\n",
       "      <td>2024-01-05</td>\n",
       "      <td>0.0</td>\n",
       "    </tr>\n",
       "    <tr>\n",
       "      <th>...</th>\n",
       "      <td>...</td>\n",
       "      <td>...</td>\n",
       "    </tr>\n",
       "    <tr>\n",
       "      <th>481</th>\n",
       "      <td>2025-04-26</td>\n",
       "      <td>0.0</td>\n",
       "    </tr>\n",
       "    <tr>\n",
       "      <th>482</th>\n",
       "      <td>2025-04-27</td>\n",
       "      <td>0.0</td>\n",
       "    </tr>\n",
       "    <tr>\n",
       "      <th>483</th>\n",
       "      <td>2025-04-28</td>\n",
       "      <td>0.0</td>\n",
       "    </tr>\n",
       "    <tr>\n",
       "      <th>484</th>\n",
       "      <td>2025-04-29</td>\n",
       "      <td>0.0</td>\n",
       "    </tr>\n",
       "    <tr>\n",
       "      <th>485</th>\n",
       "      <td>2025-04-30</td>\n",
       "      <td>0.0</td>\n",
       "    </tr>\n",
       "  </tbody>\n",
       "</table>\n",
       "<p>486 rows × 2 columns</p>\n",
       "</div>"
      ],
      "text/plain": [
       "          date  stock_count\n",
       "0   2024-01-01        175.0\n",
       "1   2024-01-02          0.0\n",
       "2   2024-01-03          0.0\n",
       "3   2024-01-04          0.0\n",
       "4   2024-01-05          0.0\n",
       "..         ...          ...\n",
       "481 2025-04-26          0.0\n",
       "482 2025-04-27          0.0\n",
       "483 2025-04-28          0.0\n",
       "484 2025-04-29          0.0\n",
       "485 2025-04-30          0.0\n",
       "\n",
       "[486 rows x 2 columns]"
      ]
     },
     "execution_count": 114,
     "metadata": {},
     "output_type": "execute_result"
    }
   ],
   "source": [
    "inventory_df = pd.read_csv(\"../data/raw/Dataset_inventory.csv\")\n",
    "\n",
    "inventory_df = inventory_df.rename(columns = {'inventory': 'stock_count'})\n",
    "\n",
    "inventory_df.loc[0, 'date_inventory'] = '2024-01-01'\n",
    "i = pd.DataFrame([[\"2025-04-30\", 0]], columns = ['date_inventory', 'stock_count'])\n",
    "inventory_df = pd.concat([inventory_df, i], ignore_index=True)\n",
    "\n",
    "inventory_df['date_inventory'] = pd.to_datetime(inventory_df['date_inventory'])\n",
    "inventory_df = inventory_df.set_index('date_inventory')\n",
    "inventory_df = inventory_df.asfreq('D', fill_value = 0)\n",
    "\n",
    "inventory_df = inventory_df.rename_axis('date').reset_index()\n",
    "\n",
    "inventory_df"
   ]
  },
  {
   "cell_type": "markdown",
   "id": "7d49d6fe-ac96-4ac6-8eda-325a8ed8418a",
   "metadata": {
    "jp-MarkdownHeadingCollapsed": true
   },
   "source": [
    "# **APIs LOADING**"
   ]
  },
  {
   "cell_type": "markdown",
   "id": "57e2362e-8dd2-4b62-84a2-6b06bff9fecc",
   "metadata": {
    "jp-MarkdownHeadingCollapsed": true
   },
   "source": [
    "## **OPEN WEATHER**"
   ]
  },
  {
   "cell_type": "code",
   "execution_count": 117,
   "id": "b90df9ff-bf4b-45e7-b83f-92dee494d298",
   "metadata": {},
   "outputs": [],
   "source": [
    "city = Point(-22.31553, -49.070822)\n",
    "city.radius = 120000\n",
    "start_date = datetime(2024, 1, 1)\n",
    "end_date = datetime(2025, 5, 8)\n",
    "\n",
    "weather_df = Daily(city, start_date, end_date)\n",
    "weather_df = weather_df.fetch()[['tavg', 'prcp']]\n",
    "weather_df = weather_df.rename_axis('date').reset_index()\n",
    "weather_df = weather_df.rename(columns = {'tavg': 'avg_temperature', 'prcp': 'precipitation'})\n",
    "weather_df = weather_df[weather_df['date'] < datetime(2025, 5, 1)]"
   ]
  },
  {
   "cell_type": "code",
   "execution_count": 118,
   "id": "53492ee2-b2d0-4e96-964c-38a15be0d196",
   "metadata": {},
   "outputs": [
    {
     "data": {
      "text/html": [
       "<div>\n",
       "<style scoped>\n",
       "    .dataframe tbody tr th:only-of-type {\n",
       "        vertical-align: middle;\n",
       "    }\n",
       "\n",
       "    .dataframe tbody tr th {\n",
       "        vertical-align: top;\n",
       "    }\n",
       "\n",
       "    .dataframe thead th {\n",
       "        text-align: right;\n",
       "    }\n",
       "</style>\n",
       "<table border=\"1\" class=\"dataframe\">\n",
       "  <thead>\n",
       "    <tr style=\"text-align: right;\">\n",
       "      <th></th>\n",
       "      <th>date</th>\n",
       "      <th>avg_temperature</th>\n",
       "      <th>precipitation</th>\n",
       "    </tr>\n",
       "  </thead>\n",
       "  <tbody>\n",
       "    <tr>\n",
       "      <th>0</th>\n",
       "      <td>2024-01-01</td>\n",
       "      <td>24.9</td>\n",
       "      <td>0.1</td>\n",
       "    </tr>\n",
       "    <tr>\n",
       "      <th>1</th>\n",
       "      <td>2024-01-02</td>\n",
       "      <td>25.0</td>\n",
       "      <td>0.2</td>\n",
       "    </tr>\n",
       "    <tr>\n",
       "      <th>2</th>\n",
       "      <td>2024-01-03</td>\n",
       "      <td>24.8</td>\n",
       "      <td>4.9</td>\n",
       "    </tr>\n",
       "    <tr>\n",
       "      <th>3</th>\n",
       "      <td>2024-01-04</td>\n",
       "      <td>24.8</td>\n",
       "      <td>0.0</td>\n",
       "    </tr>\n",
       "    <tr>\n",
       "      <th>4</th>\n",
       "      <td>2024-01-05</td>\n",
       "      <td>25.1</td>\n",
       "      <td>0.0</td>\n",
       "    </tr>\n",
       "    <tr>\n",
       "      <th>...</th>\n",
       "      <td>...</td>\n",
       "      <td>...</td>\n",
       "      <td>...</td>\n",
       "    </tr>\n",
       "    <tr>\n",
       "      <th>481</th>\n",
       "      <td>2025-04-26</td>\n",
       "      <td>21.6</td>\n",
       "      <td>1.6</td>\n",
       "    </tr>\n",
       "    <tr>\n",
       "      <th>482</th>\n",
       "      <td>2025-04-27</td>\n",
       "      <td>22.3</td>\n",
       "      <td>0.1</td>\n",
       "    </tr>\n",
       "    <tr>\n",
       "      <th>483</th>\n",
       "      <td>2025-04-28</td>\n",
       "      <td>21.7</td>\n",
       "      <td>7.6</td>\n",
       "    </tr>\n",
       "    <tr>\n",
       "      <th>484</th>\n",
       "      <td>2025-04-29</td>\n",
       "      <td>21.0</td>\n",
       "      <td>0.3</td>\n",
       "    </tr>\n",
       "    <tr>\n",
       "      <th>485</th>\n",
       "      <td>2025-04-30</td>\n",
       "      <td>19.4</td>\n",
       "      <td>0.0</td>\n",
       "    </tr>\n",
       "  </tbody>\n",
       "</table>\n",
       "<p>486 rows × 3 columns</p>\n",
       "</div>"
      ],
      "text/plain": [
       "          date  avg_temperature  precipitation\n",
       "0   2024-01-01             24.9            0.1\n",
       "1   2024-01-02             25.0            0.2\n",
       "2   2024-01-03             24.8            4.9\n",
       "3   2024-01-04             24.8            0.0\n",
       "4   2024-01-05             25.1            0.0\n",
       "..         ...              ...            ...\n",
       "481 2025-04-26             21.6            1.6\n",
       "482 2025-04-27             22.3            0.1\n",
       "483 2025-04-28             21.7            7.6\n",
       "484 2025-04-29             21.0            0.3\n",
       "485 2025-04-30             19.4            0.0\n",
       "\n",
       "[486 rows x 3 columns]"
      ]
     },
     "execution_count": 118,
     "metadata": {},
     "output_type": "execute_result"
    }
   ],
   "source": [
    "weather_df"
   ]
  },
  {
   "cell_type": "code",
   "execution_count": 119,
   "id": "8c9ca53d-db93-4e6b-877f-563ee7fbee3b",
   "metadata": {},
   "outputs": [],
   "source": [
    "weather_df.to_csv('../data/raw/weather_data.csv')"
   ]
  },
  {
   "cell_type": "markdown",
   "id": "2dad9691-34ec-4292-862f-b5d1f5e233b5",
   "metadata": {
    "jp-MarkdownHeadingCollapsed": true
   },
   "source": [
    "## **HOLIDAYS**"
   ]
  },
  {
   "cell_type": "code",
   "execution_count": 121,
   "id": "ca050b80-ef54-4e74-bce2-5d5cfd286143",
   "metadata": {},
   "outputs": [],
   "source": [
    "holidays_df = weather_df[['date']].copy()\n",
    "\n",
    "holidays_df['is_holiday'] = holidays_df['date'].apply(lambda x: 1 if x in holidays.Brazil(state='SP') else 0)\n",
    "holidays_df['holiday_name'] = holidays_df['date'].apply(lambda x: holidays.Brazil(state='SP').get(x) if x in holidays.Brazil(state='SP') else 'None')\n",
    "\n",
    "holidays_df = holidays_df[holidays_df['date'] < datetime(2025, 5, 1)]"
   ]
  },
  {
   "cell_type": "code",
   "execution_count": 122,
   "id": "e199299e-f7a5-4520-b510-845df135e0d7",
   "metadata": {},
   "outputs": [
    {
     "data": {
      "text/html": [
       "<div>\n",
       "<style scoped>\n",
       "    .dataframe tbody tr th:only-of-type {\n",
       "        vertical-align: middle;\n",
       "    }\n",
       "\n",
       "    .dataframe tbody tr th {\n",
       "        vertical-align: top;\n",
       "    }\n",
       "\n",
       "    .dataframe thead th {\n",
       "        text-align: right;\n",
       "    }\n",
       "</style>\n",
       "<table border=\"1\" class=\"dataframe\">\n",
       "  <thead>\n",
       "    <tr style=\"text-align: right;\">\n",
       "      <th></th>\n",
       "      <th>date</th>\n",
       "      <th>is_holiday</th>\n",
       "      <th>holiday_name</th>\n",
       "    </tr>\n",
       "  </thead>\n",
       "  <tbody>\n",
       "    <tr>\n",
       "      <th>0</th>\n",
       "      <td>2024-01-01</td>\n",
       "      <td>1</td>\n",
       "      <td>Confraternização Universal</td>\n",
       "    </tr>\n",
       "    <tr>\n",
       "      <th>1</th>\n",
       "      <td>2024-01-02</td>\n",
       "      <td>0</td>\n",
       "      <td>None</td>\n",
       "    </tr>\n",
       "    <tr>\n",
       "      <th>2</th>\n",
       "      <td>2024-01-03</td>\n",
       "      <td>0</td>\n",
       "      <td>None</td>\n",
       "    </tr>\n",
       "    <tr>\n",
       "      <th>3</th>\n",
       "      <td>2024-01-04</td>\n",
       "      <td>0</td>\n",
       "      <td>None</td>\n",
       "    </tr>\n",
       "    <tr>\n",
       "      <th>4</th>\n",
       "      <td>2024-01-05</td>\n",
       "      <td>0</td>\n",
       "      <td>None</td>\n",
       "    </tr>\n",
       "    <tr>\n",
       "      <th>...</th>\n",
       "      <td>...</td>\n",
       "      <td>...</td>\n",
       "      <td>...</td>\n",
       "    </tr>\n",
       "    <tr>\n",
       "      <th>481</th>\n",
       "      <td>2025-04-26</td>\n",
       "      <td>0</td>\n",
       "      <td>None</td>\n",
       "    </tr>\n",
       "    <tr>\n",
       "      <th>482</th>\n",
       "      <td>2025-04-27</td>\n",
       "      <td>0</td>\n",
       "      <td>None</td>\n",
       "    </tr>\n",
       "    <tr>\n",
       "      <th>483</th>\n",
       "      <td>2025-04-28</td>\n",
       "      <td>0</td>\n",
       "      <td>None</td>\n",
       "    </tr>\n",
       "    <tr>\n",
       "      <th>484</th>\n",
       "      <td>2025-04-29</td>\n",
       "      <td>0</td>\n",
       "      <td>None</td>\n",
       "    </tr>\n",
       "    <tr>\n",
       "      <th>485</th>\n",
       "      <td>2025-04-30</td>\n",
       "      <td>0</td>\n",
       "      <td>None</td>\n",
       "    </tr>\n",
       "  </tbody>\n",
       "</table>\n",
       "<p>486 rows × 3 columns</p>\n",
       "</div>"
      ],
      "text/plain": [
       "          date  is_holiday                holiday_name\n",
       "0   2024-01-01           1  Confraternização Universal\n",
       "1   2024-01-02           0                        None\n",
       "2   2024-01-03           0                        None\n",
       "3   2024-01-04           0                        None\n",
       "4   2024-01-05           0                        None\n",
       "..         ...         ...                         ...\n",
       "481 2025-04-26           0                        None\n",
       "482 2025-04-27           0                        None\n",
       "483 2025-04-28           0                        None\n",
       "484 2025-04-29           0                        None\n",
       "485 2025-04-30           0                        None\n",
       "\n",
       "[486 rows x 3 columns]"
      ]
     },
     "execution_count": 122,
     "metadata": {},
     "output_type": "execute_result"
    }
   ],
   "source": [
    "holidays_df"
   ]
  },
  {
   "cell_type": "code",
   "execution_count": 123,
   "id": "fd09547a-660f-47f3-bf98-aa7ebcd4df35",
   "metadata": {},
   "outputs": [],
   "source": [
    "holidays_df.to_csv('../data/raw/holidays_data.csv')"
   ]
  },
  {
   "cell_type": "markdown",
   "id": "028a1459-3036-43be-8849-b59a8add6e86",
   "metadata": {
    "jp-MarkdownHeadingCollapsed": true
   },
   "source": [
    "## **INFLATION**"
   ]
  },
  {
   "cell_type": "code",
   "execution_count": 125,
   "id": "db5d8555-3a2c-483f-8232-68164d3aabd9",
   "metadata": {},
   "outputs": [],
   "source": [
    "url = \"https://api.bcb.gov.br/dados/serie/bcdata.sgs.433/dados?formato=json\"\n",
    "inflation_df = pd.DataFrame(requests.get(url).json())\n",
    "\n",
    "inflation_df = inflation_df.rename(columns = {'data': 'date', 'valor': 'ipca'})\n",
    "\n",
    "i = pd.DataFrame([[\"01/05/2025\", np.nan]], columns = ['date', 'ipca'])\n",
    "inflation_df = pd.concat([inflation_df, i], ignore_index=True)\n",
    "inflation_df['date'] = pd.to_datetime(inflation_df['date'], dayfirst = True)\n",
    "inflation_df = inflation_df[inflation_df['date'] >= datetime(2024, 1, 1)].copy()\n",
    "inflation_df = inflation_df.set_index('date')\n",
    "\n",
    "inflation_df = inflation_df.asfreq('D', method='ffill')\n",
    "inflation_df = inflation_df.rename_axis('date').reset_index()\n",
    "inflation_df = inflation_df[inflation_df['date'] < datetime(2025, 5, 1)].copy()"
   ]
  },
  {
   "cell_type": "code",
   "execution_count": 126,
   "id": "0ad45e6a-8d3a-43d8-b62a-c596a1d1c527",
   "metadata": {},
   "outputs": [
    {
     "data": {
      "text/html": [
       "<div>\n",
       "<style scoped>\n",
       "    .dataframe tbody tr th:only-of-type {\n",
       "        vertical-align: middle;\n",
       "    }\n",
       "\n",
       "    .dataframe tbody tr th {\n",
       "        vertical-align: top;\n",
       "    }\n",
       "\n",
       "    .dataframe thead th {\n",
       "        text-align: right;\n",
       "    }\n",
       "</style>\n",
       "<table border=\"1\" class=\"dataframe\">\n",
       "  <thead>\n",
       "    <tr style=\"text-align: right;\">\n",
       "      <th></th>\n",
       "      <th>date</th>\n",
       "      <th>ipca</th>\n",
       "    </tr>\n",
       "  </thead>\n",
       "  <tbody>\n",
       "    <tr>\n",
       "      <th>0</th>\n",
       "      <td>2024-01-01</td>\n",
       "      <td>0.42</td>\n",
       "    </tr>\n",
       "    <tr>\n",
       "      <th>1</th>\n",
       "      <td>2024-01-02</td>\n",
       "      <td>0.42</td>\n",
       "    </tr>\n",
       "    <tr>\n",
       "      <th>2</th>\n",
       "      <td>2024-01-03</td>\n",
       "      <td>0.42</td>\n",
       "    </tr>\n",
       "    <tr>\n",
       "      <th>3</th>\n",
       "      <td>2024-01-04</td>\n",
       "      <td>0.42</td>\n",
       "    </tr>\n",
       "    <tr>\n",
       "      <th>4</th>\n",
       "      <td>2024-01-05</td>\n",
       "      <td>0.42</td>\n",
       "    </tr>\n",
       "    <tr>\n",
       "      <th>...</th>\n",
       "      <td>...</td>\n",
       "      <td>...</td>\n",
       "    </tr>\n",
       "    <tr>\n",
       "      <th>481</th>\n",
       "      <td>2025-04-26</td>\n",
       "      <td>0.43</td>\n",
       "    </tr>\n",
       "    <tr>\n",
       "      <th>482</th>\n",
       "      <td>2025-04-27</td>\n",
       "      <td>0.43</td>\n",
       "    </tr>\n",
       "    <tr>\n",
       "      <th>483</th>\n",
       "      <td>2025-04-28</td>\n",
       "      <td>0.43</td>\n",
       "    </tr>\n",
       "    <tr>\n",
       "      <th>484</th>\n",
       "      <td>2025-04-29</td>\n",
       "      <td>0.43</td>\n",
       "    </tr>\n",
       "    <tr>\n",
       "      <th>485</th>\n",
       "      <td>2025-04-30</td>\n",
       "      <td>0.43</td>\n",
       "    </tr>\n",
       "  </tbody>\n",
       "</table>\n",
       "<p>486 rows × 2 columns</p>\n",
       "</div>"
      ],
      "text/plain": [
       "          date  ipca\n",
       "0   2024-01-01  0.42\n",
       "1   2024-01-02  0.42\n",
       "2   2024-01-03  0.42\n",
       "3   2024-01-04  0.42\n",
       "4   2024-01-05  0.42\n",
       "..         ...   ...\n",
       "481 2025-04-26  0.43\n",
       "482 2025-04-27  0.43\n",
       "483 2025-04-28  0.43\n",
       "484 2025-04-29  0.43\n",
       "485 2025-04-30  0.43\n",
       "\n",
       "[486 rows x 2 columns]"
      ]
     },
     "execution_count": 126,
     "metadata": {},
     "output_type": "execute_result"
    }
   ],
   "source": [
    "inflation_df"
   ]
  },
  {
   "cell_type": "code",
   "execution_count": 127,
   "id": "355ae233-f828-4f15-abeb-e9910346f1ba",
   "metadata": {},
   "outputs": [],
   "source": [
    "inflation_df.to_csv('../data/raw/inflation_data.csv')"
   ]
  },
  {
   "cell_type": "markdown",
   "id": "358d1463-8a80-4307-876b-a4e4252f7f76",
   "metadata": {},
   "source": [
    "# **DATA CLEANING, PROCESSING, AND CONSOLIDATION**"
   ]
  },
  {
   "cell_type": "markdown",
   "id": "cb1e3601-dfcb-49b6-90f8-2613ac575f15",
   "metadata": {
    "jp-MarkdownHeadingCollapsed": true
   },
   "source": [
    "## **DEALING WITH MISSING DATA**"
   ]
  },
  {
   "cell_type": "code",
   "execution_count": 130,
   "id": "765ac8d8-cf95-4026-9334-bfc10e1ab890",
   "metadata": {},
   "outputs": [
    {
     "data": {
      "text/plain": [
       "date                0\n",
       "sell_quantity       0\n",
       "sell_value          0\n",
       "sell_final_value    0\n",
       "dtype: int64"
      ]
     },
     "execution_count": 130,
     "metadata": {},
     "output_type": "execute_result"
    }
   ],
   "source": [
    "sell_df.isna().sum()"
   ]
  },
  {
   "cell_type": "code",
   "execution_count": 131,
   "id": "559108d5-dd67-4a2e-a1de-e8524b18801a",
   "metadata": {},
   "outputs": [
    {
     "data": {
      "text/plain": [
       "date            0\n",
       "buy_quantity    0\n",
       "buy_value       0\n",
       "dtype: int64"
      ]
     },
     "execution_count": 131,
     "metadata": {},
     "output_type": "execute_result"
    }
   ],
   "source": [
    "buy_df.isna().sum()"
   ]
  },
  {
   "cell_type": "code",
   "execution_count": 132,
   "id": "06d98035-5acf-474c-9199-8cfb8122a5ae",
   "metadata": {},
   "outputs": [
    {
     "data": {
      "text/plain": [
       "date           0\n",
       "stock_count    0\n",
       "dtype: int64"
      ]
     },
     "execution_count": 132,
     "metadata": {},
     "output_type": "execute_result"
    }
   ],
   "source": [
    "inventory_df.isna().sum()"
   ]
  },
  {
   "cell_type": "code",
   "execution_count": 133,
   "id": "156ca15a-8ff2-4b7d-abbe-c4f676a0563b",
   "metadata": {},
   "outputs": [
    {
     "data": {
      "text/plain": [
       "date                0\n",
       "avg_temperature     0\n",
       "precipitation      25\n",
       "dtype: int64"
      ]
     },
     "execution_count": 133,
     "metadata": {},
     "output_type": "execute_result"
    }
   ],
   "source": [
    "weather_df.isna().sum()"
   ]
  },
  {
   "cell_type": "code",
   "execution_count": 134,
   "id": "e680e6c1-9878-4acb-9448-9eb36e8ce3b4",
   "metadata": {},
   "outputs": [
    {
     "data": {
      "text/html": [
       "<div>\n",
       "<style scoped>\n",
       "    .dataframe tbody tr th:only-of-type {\n",
       "        vertical-align: middle;\n",
       "    }\n",
       "\n",
       "    .dataframe tbody tr th {\n",
       "        vertical-align: top;\n",
       "    }\n",
       "\n",
       "    .dataframe thead th {\n",
       "        text-align: right;\n",
       "    }\n",
       "</style>\n",
       "<table border=\"1\" class=\"dataframe\">\n",
       "  <thead>\n",
       "    <tr style=\"text-align: right;\">\n",
       "      <th></th>\n",
       "      <th>date</th>\n",
       "      <th>avg_temperature</th>\n",
       "      <th>precipitation</th>\n",
       "    </tr>\n",
       "  </thead>\n",
       "  <tbody>\n",
       "    <tr>\n",
       "      <th>239</th>\n",
       "      <td>2024-08-27</td>\n",
       "      <td>15.4</td>\n",
       "      <td>NaN</td>\n",
       "    </tr>\n",
       "    <tr>\n",
       "      <th>240</th>\n",
       "      <td>2024-08-28</td>\n",
       "      <td>17.8</td>\n",
       "      <td>NaN</td>\n",
       "    </tr>\n",
       "    <tr>\n",
       "      <th>241</th>\n",
       "      <td>2024-08-29</td>\n",
       "      <td>21.6</td>\n",
       "      <td>NaN</td>\n",
       "    </tr>\n",
       "    <tr>\n",
       "      <th>242</th>\n",
       "      <td>2024-08-30</td>\n",
       "      <td>24.5</td>\n",
       "      <td>NaN</td>\n",
       "    </tr>\n",
       "    <tr>\n",
       "      <th>243</th>\n",
       "      <td>2024-08-31</td>\n",
       "      <td>24.7</td>\n",
       "      <td>NaN</td>\n",
       "    </tr>\n",
       "    <tr>\n",
       "      <th>244</th>\n",
       "      <td>2024-09-01</td>\n",
       "      <td>25.9</td>\n",
       "      <td>NaN</td>\n",
       "    </tr>\n",
       "    <tr>\n",
       "      <th>245</th>\n",
       "      <td>2024-09-02</td>\n",
       "      <td>25.9</td>\n",
       "      <td>NaN</td>\n",
       "    </tr>\n",
       "    <tr>\n",
       "      <th>246</th>\n",
       "      <td>2024-09-03</td>\n",
       "      <td>26.8</td>\n",
       "      <td>NaN</td>\n",
       "    </tr>\n",
       "    <tr>\n",
       "      <th>344</th>\n",
       "      <td>2024-12-10</td>\n",
       "      <td>23.8</td>\n",
       "      <td>NaN</td>\n",
       "    </tr>\n",
       "    <tr>\n",
       "      <th>345</th>\n",
       "      <td>2024-12-11</td>\n",
       "      <td>23.0</td>\n",
       "      <td>NaN</td>\n",
       "    </tr>\n",
       "    <tr>\n",
       "      <th>346</th>\n",
       "      <td>2024-12-12</td>\n",
       "      <td>23.5</td>\n",
       "      <td>NaN</td>\n",
       "    </tr>\n",
       "    <tr>\n",
       "      <th>347</th>\n",
       "      <td>2024-12-13</td>\n",
       "      <td>24.0</td>\n",
       "      <td>NaN</td>\n",
       "    </tr>\n",
       "    <tr>\n",
       "      <th>439</th>\n",
       "      <td>2025-03-15</td>\n",
       "      <td>25.8</td>\n",
       "      <td>NaN</td>\n",
       "    </tr>\n",
       "    <tr>\n",
       "      <th>440</th>\n",
       "      <td>2025-03-16</td>\n",
       "      <td>24.6</td>\n",
       "      <td>NaN</td>\n",
       "    </tr>\n",
       "    <tr>\n",
       "      <th>441</th>\n",
       "      <td>2025-03-17</td>\n",
       "      <td>24.0</td>\n",
       "      <td>NaN</td>\n",
       "    </tr>\n",
       "    <tr>\n",
       "      <th>442</th>\n",
       "      <td>2025-03-18</td>\n",
       "      <td>24.2</td>\n",
       "      <td>NaN</td>\n",
       "    </tr>\n",
       "    <tr>\n",
       "      <th>443</th>\n",
       "      <td>2025-03-19</td>\n",
       "      <td>22.8</td>\n",
       "      <td>NaN</td>\n",
       "    </tr>\n",
       "    <tr>\n",
       "      <th>444</th>\n",
       "      <td>2025-03-20</td>\n",
       "      <td>22.8</td>\n",
       "      <td>NaN</td>\n",
       "    </tr>\n",
       "    <tr>\n",
       "      <th>445</th>\n",
       "      <td>2025-03-21</td>\n",
       "      <td>22.6</td>\n",
       "      <td>NaN</td>\n",
       "    </tr>\n",
       "    <tr>\n",
       "      <th>472</th>\n",
       "      <td>2025-04-17</td>\n",
       "      <td>23.0</td>\n",
       "      <td>NaN</td>\n",
       "    </tr>\n",
       "    <tr>\n",
       "      <th>473</th>\n",
       "      <td>2025-04-18</td>\n",
       "      <td>22.8</td>\n",
       "      <td>NaN</td>\n",
       "    </tr>\n",
       "    <tr>\n",
       "      <th>474</th>\n",
       "      <td>2025-04-19</td>\n",
       "      <td>22.6</td>\n",
       "      <td>NaN</td>\n",
       "    </tr>\n",
       "    <tr>\n",
       "      <th>475</th>\n",
       "      <td>2025-04-20</td>\n",
       "      <td>22.4</td>\n",
       "      <td>NaN</td>\n",
       "    </tr>\n",
       "    <tr>\n",
       "      <th>476</th>\n",
       "      <td>2025-04-21</td>\n",
       "      <td>21.6</td>\n",
       "      <td>NaN</td>\n",
       "    </tr>\n",
       "    <tr>\n",
       "      <th>477</th>\n",
       "      <td>2025-04-22</td>\n",
       "      <td>20.6</td>\n",
       "      <td>NaN</td>\n",
       "    </tr>\n",
       "  </tbody>\n",
       "</table>\n",
       "</div>"
      ],
      "text/plain": [
       "          date  avg_temperature  precipitation\n",
       "239 2024-08-27             15.4            NaN\n",
       "240 2024-08-28             17.8            NaN\n",
       "241 2024-08-29             21.6            NaN\n",
       "242 2024-08-30             24.5            NaN\n",
       "243 2024-08-31             24.7            NaN\n",
       "244 2024-09-01             25.9            NaN\n",
       "245 2024-09-02             25.9            NaN\n",
       "246 2024-09-03             26.8            NaN\n",
       "344 2024-12-10             23.8            NaN\n",
       "345 2024-12-11             23.0            NaN\n",
       "346 2024-12-12             23.5            NaN\n",
       "347 2024-12-13             24.0            NaN\n",
       "439 2025-03-15             25.8            NaN\n",
       "440 2025-03-16             24.6            NaN\n",
       "441 2025-03-17             24.0            NaN\n",
       "442 2025-03-18             24.2            NaN\n",
       "443 2025-03-19             22.8            NaN\n",
       "444 2025-03-20             22.8            NaN\n",
       "445 2025-03-21             22.6            NaN\n",
       "472 2025-04-17             23.0            NaN\n",
       "473 2025-04-18             22.8            NaN\n",
       "474 2025-04-19             22.6            NaN\n",
       "475 2025-04-20             22.4            NaN\n",
       "476 2025-04-21             21.6            NaN\n",
       "477 2025-04-22             20.6            NaN"
      ]
     },
     "execution_count": 134,
     "metadata": {},
     "output_type": "execute_result"
    }
   ],
   "source": [
    "weather_df[weather_df['precipitation'].isna()]"
   ]
  },
  {
   "cell_type": "code",
   "execution_count": 135,
   "id": "fbc69906-2a13-4bd3-a27b-c100dc79092f",
   "metadata": {},
   "outputs": [],
   "source": [
    "weather_df = weather_df.fillna(0)"
   ]
  },
  {
   "cell_type": "code",
   "execution_count": 136,
   "id": "9a3a75d7-1ce4-4b2f-bc87-5e35f5a7cf10",
   "metadata": {},
   "outputs": [
    {
     "data": {
      "text/plain": [
       "date               0\n",
       "avg_temperature    0\n",
       "precipitation      0\n",
       "dtype: int64"
      ]
     },
     "execution_count": 136,
     "metadata": {},
     "output_type": "execute_result"
    }
   ],
   "source": [
    "weather_df.isna().sum()"
   ]
  },
  {
   "cell_type": "code",
   "execution_count": 137,
   "id": "3b294dc7-efc0-4c99-a75b-252f4b764288",
   "metadata": {},
   "outputs": [
    {
     "data": {
      "text/plain": [
       "date            0\n",
       "is_holiday      0\n",
       "holiday_name    0\n",
       "dtype: int64"
      ]
     },
     "execution_count": 137,
     "metadata": {},
     "output_type": "execute_result"
    }
   ],
   "source": [
    "holidays_df.isna().sum()"
   ]
  },
  {
   "cell_type": "code",
   "execution_count": 138,
   "id": "1e9b21db-8a73-4694-ac0b-f68f1bddbb14",
   "metadata": {},
   "outputs": [
    {
     "data": {
      "text/plain": [
       "date    0\n",
       "ipca    0\n",
       "dtype: int64"
      ]
     },
     "execution_count": 138,
     "metadata": {},
     "output_type": "execute_result"
    }
   ],
   "source": [
    "inflation_df.isna().sum()"
   ]
  },
  {
   "cell_type": "markdown",
   "id": "95dca78a-be42-446c-bd82-940f23400631",
   "metadata": {
    "jp-MarkdownHeadingCollapsed": true
   },
   "source": [
    "## **OUTLIERS**"
   ]
  },
  {
   "cell_type": "markdown",
   "id": "7c2320ce-66ff-47bc-8221-afdf505aa934",
   "metadata": {
    "jp-MarkdownHeadingCollapsed": true
   },
   "source": [
    "### **1. SELL_DF**"
   ]
  },
  {
   "cell_type": "code",
   "execution_count": 141,
   "id": "d7fea362-2921-41aa-ad4f-ad82f2ac07df",
   "metadata": {},
   "outputs": [
    {
     "data": {
      "text/html": [
       "<div>\n",
       "<style scoped>\n",
       "    .dataframe tbody tr th:only-of-type {\n",
       "        vertical-align: middle;\n",
       "    }\n",
       "\n",
       "    .dataframe tbody tr th {\n",
       "        vertical-align: top;\n",
       "    }\n",
       "\n",
       "    .dataframe thead th {\n",
       "        text-align: right;\n",
       "    }\n",
       "</style>\n",
       "<table border=\"1\" class=\"dataframe\">\n",
       "  <thead>\n",
       "    <tr style=\"text-align: right;\">\n",
       "      <th></th>\n",
       "      <th>sell_quantity</th>\n",
       "      <th>sell_value</th>\n",
       "      <th>sell_final_value</th>\n",
       "    </tr>\n",
       "  </thead>\n",
       "  <tbody>\n",
       "    <tr>\n",
       "      <th>count</th>\n",
       "      <td>385.000000</td>\n",
       "      <td>385.000000</td>\n",
       "      <td>385.000000</td>\n",
       "    </tr>\n",
       "    <tr>\n",
       "      <th>mean</th>\n",
       "      <td>148.049351</td>\n",
       "      <td>34.893013</td>\n",
       "      <td>37.251506</td>\n",
       "    </tr>\n",
       "    <tr>\n",
       "      <th>std</th>\n",
       "      <td>346.805203</td>\n",
       "      <td>3.092864</td>\n",
       "      <td>3.301607</td>\n",
       "    </tr>\n",
       "    <tr>\n",
       "      <th>min</th>\n",
       "      <td>1.000000</td>\n",
       "      <td>4.550000</td>\n",
       "      <td>4.860000</td>\n",
       "    </tr>\n",
       "    <tr>\n",
       "      <th>25%</th>\n",
       "      <td>53.000000</td>\n",
       "      <td>34.240000</td>\n",
       "      <td>36.560000</td>\n",
       "    </tr>\n",
       "    <tr>\n",
       "      <th>50%</th>\n",
       "      <td>105.000000</td>\n",
       "      <td>35.330000</td>\n",
       "      <td>37.720000</td>\n",
       "    </tr>\n",
       "    <tr>\n",
       "      <th>75%</th>\n",
       "      <td>164.000000</td>\n",
       "      <td>36.000000</td>\n",
       "      <td>38.430000</td>\n",
       "    </tr>\n",
       "    <tr>\n",
       "      <th>max</th>\n",
       "      <td>4869.000000</td>\n",
       "      <td>41.600000</td>\n",
       "      <td>44.410000</td>\n",
       "    </tr>\n",
       "  </tbody>\n",
       "</table>\n",
       "</div>"
      ],
      "text/plain": [
       "       sell_quantity  sell_value  sell_final_value\n",
       "count     385.000000  385.000000        385.000000\n",
       "mean      148.049351   34.893013         37.251506\n",
       "std       346.805203    3.092864          3.301607\n",
       "min         1.000000    4.550000          4.860000\n",
       "25%        53.000000   34.240000         36.560000\n",
       "50%       105.000000   35.330000         37.720000\n",
       "75%       164.000000   36.000000         38.430000\n",
       "max      4869.000000   41.600000         44.410000"
      ]
     },
     "execution_count": 141,
     "metadata": {},
     "output_type": "execute_result"
    }
   ],
   "source": [
    "sell_df.describe(include = ['float', 'int'])"
   ]
  },
  {
   "cell_type": "markdown",
   "id": "e0fe0ba8-99cd-4b63-a8ec-3a3a5ef25721",
   "metadata": {
    "jp-MarkdownHeadingCollapsed": true
   },
   "source": [
    "#### **1.1 Sell Quantity**"
   ]
  },
  {
   "cell_type": "markdown",
   "id": "422aa01c-992b-473f-9b10-6713bac2a692",
   "metadata": {},
   "source": [
    "The initial box plot and scatter plot revealed extreme outliers in `sell_quantity`, some of which were linked to implausibly low unit values.\n",
    "\n",
    "Upon further inspection, it became clear that these records did not reflect valid business behavior. For instance, some sales had a unit price below R$15.00, which is not realistic for cement.\n",
    "\n",
    "To address this, we applied a filter to remove records with:\n",
    "- `sell_value` below R$25.00.\n",
    "\n",
    "After this cleaning step, the distribution of sold quantities became much more consistent and representative of typical sale patterns."
   ]
  },
  {
   "cell_type": "code",
   "execution_count": 144,
   "id": "80986785-2287-4049-b9a6-02f785314b24",
   "metadata": {},
   "outputs": [
    {
     "data": {
      "text/html": [
       "<div>\n",
       "<style scoped>\n",
       "    .dataframe tbody tr th:only-of-type {\n",
       "        vertical-align: middle;\n",
       "    }\n",
       "\n",
       "    .dataframe tbody tr th {\n",
       "        vertical-align: top;\n",
       "    }\n",
       "\n",
       "    .dataframe thead th {\n",
       "        text-align: right;\n",
       "    }\n",
       "</style>\n",
       "<table border=\"1\" class=\"dataframe\">\n",
       "  <thead>\n",
       "    <tr style=\"text-align: right;\">\n",
       "      <th></th>\n",
       "      <th>sell_quantity</th>\n",
       "    </tr>\n",
       "  </thead>\n",
       "  <tbody>\n",
       "    <tr>\n",
       "      <th>count</th>\n",
       "      <td>385.000000</td>\n",
       "    </tr>\n",
       "    <tr>\n",
       "      <th>mean</th>\n",
       "      <td>148.049351</td>\n",
       "    </tr>\n",
       "    <tr>\n",
       "      <th>std</th>\n",
       "      <td>346.805203</td>\n",
       "    </tr>\n",
       "    <tr>\n",
       "      <th>min</th>\n",
       "      <td>1.000000</td>\n",
       "    </tr>\n",
       "    <tr>\n",
       "      <th>25%</th>\n",
       "      <td>53.000000</td>\n",
       "    </tr>\n",
       "    <tr>\n",
       "      <th>50%</th>\n",
       "      <td>105.000000</td>\n",
       "    </tr>\n",
       "    <tr>\n",
       "      <th>75%</th>\n",
       "      <td>164.000000</td>\n",
       "    </tr>\n",
       "    <tr>\n",
       "      <th>max</th>\n",
       "      <td>4869.000000</td>\n",
       "    </tr>\n",
       "  </tbody>\n",
       "</table>\n",
       "</div>"
      ],
      "text/plain": [
       "       sell_quantity\n",
       "count     385.000000\n",
       "mean      148.049351\n",
       "std       346.805203\n",
       "min         1.000000\n",
       "25%        53.000000\n",
       "50%       105.000000\n",
       "75%       164.000000\n",
       "max      4869.000000"
      ]
     },
     "execution_count": 144,
     "metadata": {},
     "output_type": "execute_result"
    }
   ],
   "source": [
    "sell_df.describe(include = ['float', 'int'])[['sell_quantity']]"
   ]
  },
  {
   "cell_type": "code",
   "execution_count": 145,
   "id": "c5057b6e-c9cb-4835-b4e6-3ef4676343c8",
   "metadata": {},
   "outputs": [
    {
     "data": {
      "image/png": "[encoded data removed]",
      "text/plain": [
       "<Figure size 600x500 with 1 Axes>"
      ]
     },
     "metadata": {},
     "output_type": "display_data"
    }
   ],
   "source": [
    "PlotBoxPlotV3_y(sell_df['sell_quantity'], \"Sell Quantity Box Plot\", 6, 5, \"\")"
   ]
  },
  {
   "cell_type": "code",
   "execution_count": 146,
   "id": "dc3619c9-eeb5-4871-b278-fc443b07da3e",
   "metadata": {},
   "outputs": [
    {
     "data": {
      "image/png": "[encoded data removed]",
      "text/plain": [
       "<Figure size 900x500 with 1 Axes>"
      ]
     },
     "metadata": {},
     "output_type": "display_data"
    }
   ],
   "source": [
    "PlotScatter(sell_df['sell_value'], sell_df['sell_quantity'], \"Quantity Sold by Value\", \"R$\", \"\", 9, \"xy\")"
   ]
  },
  {
   "cell_type": "code",
   "execution_count": 147,
   "id": "a474e2a7-a5c4-40fd-ad53-9e7d0d12283a",
   "metadata": {},
   "outputs": [],
   "source": [
    "sell_df = sell_df[sell_df['sell_value'] > 25]"
   ]
  },
  {
   "cell_type": "code",
   "execution_count": 148,
   "id": "a5beb4f4-40f6-4dfd-b7b6-ac65dc19f1ff",
   "metadata": {},
   "outputs": [
    {
     "data": {
      "image/png": "[encoded data removed]",
      "text/plain": [
       "<Figure size 600x500 with 1 Axes>"
      ]
     },
     "metadata": {},
     "output_type": "display_data"
    }
   ],
   "source": [
    "PlotBoxPlotV3_y(sell_df['sell_quantity'], \"Sell Quantity Box Plot\", 6, 5, \"\")"
   ]
  },
  {
   "cell_type": "markdown",
   "id": "9d3929ef-32ea-41b2-bf0b-1981c8ab82f9",
   "metadata": {
    "jp-MarkdownHeadingCollapsed": true
   },
   "source": [
    "#### **1.2 Sell Value**"
   ]
  },
  {
   "cell_type": "code",
   "execution_count": 150,
   "id": "5f2d63ab-72f4-43ee-8e14-f1cfc6635945",
   "metadata": {},
   "outputs": [
    {
     "data": {
      "text/html": [
       "<div>\n",
       "<style scoped>\n",
       "    .dataframe tbody tr th:only-of-type {\n",
       "        vertical-align: middle;\n",
       "    }\n",
       "\n",
       "    .dataframe tbody tr th {\n",
       "        vertical-align: top;\n",
       "    }\n",
       "\n",
       "    .dataframe thead th {\n",
       "        text-align: right;\n",
       "    }\n",
       "</style>\n",
       "<table border=\"1\" class=\"dataframe\">\n",
       "  <thead>\n",
       "    <tr style=\"text-align: right;\">\n",
       "      <th></th>\n",
       "      <th>sell_value</th>\n",
       "    </tr>\n",
       "  </thead>\n",
       "  <tbody>\n",
       "    <tr>\n",
       "      <th>count</th>\n",
       "      <td>381.000000</td>\n",
       "    </tr>\n",
       "    <tr>\n",
       "      <th>mean</th>\n",
       "      <td>35.164173</td>\n",
       "    </tr>\n",
       "    <tr>\n",
       "      <th>std</th>\n",
       "      <td>1.569592</td>\n",
       "    </tr>\n",
       "    <tr>\n",
       "      <th>min</th>\n",
       "      <td>28.430000</td>\n",
       "    </tr>\n",
       "    <tr>\n",
       "      <th>25%</th>\n",
       "      <td>34.290000</td>\n",
       "    </tr>\n",
       "    <tr>\n",
       "      <th>50%</th>\n",
       "      <td>35.350000</td>\n",
       "    </tr>\n",
       "    <tr>\n",
       "      <th>75%</th>\n",
       "      <td>36.020000</td>\n",
       "    </tr>\n",
       "    <tr>\n",
       "      <th>max</th>\n",
       "      <td>41.600000</td>\n",
       "    </tr>\n",
       "  </tbody>\n",
       "</table>\n",
       "</div>"
      ],
      "text/plain": [
       "       sell_value\n",
       "count  381.000000\n",
       "mean    35.164173\n",
       "std      1.569592\n",
       "min     28.430000\n",
       "25%     34.290000\n",
       "50%     35.350000\n",
       "75%     36.020000\n",
       "max     41.600000"
      ]
     },
     "execution_count": 150,
     "metadata": {},
     "output_type": "execute_result"
    }
   ],
   "source": [
    "sell_df.describe(include = ['float', 'int'])[['sell_value']]"
   ]
  },
  {
   "cell_type": "code",
   "execution_count": 151,
   "id": "ace46f21-73fa-4080-a3f1-8a8bafdf08cd",
   "metadata": {},
   "outputs": [
    {
     "data": {
      "image/png": "[encoded data removed]",
      "text/plain": [
       "<Figure size 600x500 with 1 Axes>"
      ]
     },
     "metadata": {},
     "output_type": "display_data"
    }
   ],
   "source": [
    "PlotBoxPlotV3_y(sell_df['sell_value'], \"Sell Value Box Plot\", 6, 5, \"\")"
   ]
  },
  {
   "cell_type": "markdown",
   "id": "677d9004-7105-4688-aa64-6a52d48f1a83",
   "metadata": {},
   "source": [
    "Although a few data points fall outside the interquartile range, the low standard deviation and the overall consistency of values suggest that no outlier treatment is required at this stage."
   ]
  },
  {
   "cell_type": "markdown",
   "id": "76ebdded-bb03-4f2d-b196-4e56cbc9d0ee",
   "metadata": {
    "jp-MarkdownHeadingCollapsed": true
   },
   "source": [
    "### **2. BUY_DF**"
   ]
  },
  {
   "cell_type": "code",
   "execution_count": 154,
   "id": "c3ef73fe-3b13-4b59-83c2-540da24e7085",
   "metadata": {},
   "outputs": [
    {
     "data": {
      "text/html": [
       "<div>\n",
       "<style scoped>\n",
       "    .dataframe tbody tr th:only-of-type {\n",
       "        vertical-align: middle;\n",
       "    }\n",
       "\n",
       "    .dataframe tbody tr th {\n",
       "        vertical-align: top;\n",
       "    }\n",
       "\n",
       "    .dataframe thead th {\n",
       "        text-align: right;\n",
       "    }\n",
       "</style>\n",
       "<table border=\"1\" class=\"dataframe\">\n",
       "  <thead>\n",
       "    <tr style=\"text-align: right;\">\n",
       "      <th></th>\n",
       "      <th>buy_quantity</th>\n",
       "      <th>buy_value</th>\n",
       "    </tr>\n",
       "  </thead>\n",
       "  <tbody>\n",
       "    <tr>\n",
       "      <th>count</th>\n",
       "      <td>164.000000</td>\n",
       "      <td>164.000000</td>\n",
       "    </tr>\n",
       "    <tr>\n",
       "      <th>mean</th>\n",
       "      <td>278.231707</td>\n",
       "      <td>28.384390</td>\n",
       "    </tr>\n",
       "    <tr>\n",
       "      <th>std</th>\n",
       "      <td>93.273830</td>\n",
       "      <td>1.410195</td>\n",
       "    </tr>\n",
       "    <tr>\n",
       "      <th>min</th>\n",
       "      <td>54.000000</td>\n",
       "      <td>23.430000</td>\n",
       "    </tr>\n",
       "    <tr>\n",
       "      <th>25%</th>\n",
       "      <td>240.000000</td>\n",
       "      <td>27.790000</td>\n",
       "    </tr>\n",
       "    <tr>\n",
       "      <th>50%</th>\n",
       "      <td>280.000000</td>\n",
       "      <td>28.300000</td>\n",
       "    </tr>\n",
       "    <tr>\n",
       "      <th>75%</th>\n",
       "      <td>280.000000</td>\n",
       "      <td>28.950000</td>\n",
       "    </tr>\n",
       "    <tr>\n",
       "      <th>max</th>\n",
       "      <td>640.000000</td>\n",
       "      <td>32.100000</td>\n",
       "    </tr>\n",
       "  </tbody>\n",
       "</table>\n",
       "</div>"
      ],
      "text/plain": [
       "       buy_quantity   buy_value\n",
       "count    164.000000  164.000000\n",
       "mean     278.231707   28.384390\n",
       "std       93.273830    1.410195\n",
       "min       54.000000   23.430000\n",
       "25%      240.000000   27.790000\n",
       "50%      280.000000   28.300000\n",
       "75%      280.000000   28.950000\n",
       "max      640.000000   32.100000"
      ]
     },
     "execution_count": 154,
     "metadata": {},
     "output_type": "execute_result"
    }
   ],
   "source": [
    "buy_df.describe(include = ['float', 'int'])"
   ]
  },
  {
   "cell_type": "code",
   "execution_count": 155,
   "id": "a1609778-6e35-4f3e-af82-638cd1b7f620",
   "metadata": {},
   "outputs": [
    {
     "data": {
      "image/png": "[encoded data removed]",
      "text/plain": [
       "<Figure size 600x500 with 1 Axes>"
      ]
     },
     "metadata": {},
     "output_type": "display_data"
    }
   ],
   "source": [
    "PlotBoxPlotV3_y(buy_df['buy_quantity'], \"Buy Quantity Box Plot\", 6, 5, \"\")"
   ]
  },
  {
   "cell_type": "code",
   "execution_count": 156,
   "id": "fe25dbde-3ae8-4bb3-a656-2b7efd73fc56",
   "metadata": {},
   "outputs": [
    {
     "data": {
      "image/png": "[encoded data removed]",
      "text/plain": [
       "<Figure size 900x500 with 1 Axes>"
      ]
     },
     "metadata": {},
     "output_type": "display_data"
    }
   ],
   "source": [
    "PlotScatter(buy_df['buy_value'], buy_df['buy_quantity'], \"Quantity Bought by Value\", \"R$\", \"\", 9, \"xy\")"
   ]
  },
  {
   "cell_type": "markdown",
   "id": "70cc7b39-9302-42d9-a05b-434438a63e8f",
   "metadata": {},
   "source": [
    "An outlier analysis on `buy_quantity` revealed several points outside the interquartile range.<br>\n",
    "However, when cross-referenced with the purchase price (`buy_value`), these higher quantities are clearly associated with lower prices, a plausible and strategic behavior in bulk purchasing.\n",
    "\n",
    "As a result, no outliers were removed from this feature, in order to preserve patterns relevant for modeling price-volume relationships."
   ]
  },
  {
   "cell_type": "markdown",
   "id": "09a22077-f052-416c-97f9-7133a32f0ec4",
   "metadata": {
    "jp-MarkdownHeadingCollapsed": true
   },
   "source": [
    "### **3. INVENTORY_DF**"
   ]
  },
  {
   "cell_type": "code",
   "execution_count": 159,
   "id": "ca709d61-08d6-4130-9250-2ae3e14d4245",
   "metadata": {},
   "outputs": [],
   "source": [
    "initial_inv = inventory_df.loc[0, 'stock_count']"
   ]
  },
  {
   "cell_type": "code",
   "execution_count": 160,
   "id": "c1e6a160-61b6-4cee-b055-2a0a6bdf03be",
   "metadata": {},
   "outputs": [
    {
     "data": {
      "text/html": [
       "<div>\n",
       "<style scoped>\n",
       "    .dataframe tbody tr th:only-of-type {\n",
       "        vertical-align: middle;\n",
       "    }\n",
       "\n",
       "    .dataframe tbody tr th {\n",
       "        vertical-align: top;\n",
       "    }\n",
       "\n",
       "    .dataframe thead th {\n",
       "        text-align: right;\n",
       "    }\n",
       "</style>\n",
       "<table border=\"1\" class=\"dataframe\">\n",
       "  <thead>\n",
       "    <tr style=\"text-align: right;\">\n",
       "      <th></th>\n",
       "      <th>date</th>\n",
       "      <th>stock_count</th>\n",
       "      <th>sell_quantity</th>\n",
       "      <th>buy_quantity</th>\n",
       "      <th>daily_balance</th>\n",
       "      <th>inventory</th>\n",
       "      <th>inv_correction</th>\n",
       "    </tr>\n",
       "  </thead>\n",
       "  <tbody>\n",
       "    <tr>\n",
       "      <th>0</th>\n",
       "      <td>2024-01-01</td>\n",
       "      <td>175.0</td>\n",
       "      <td>0.0</td>\n",
       "      <td>0.0</td>\n",
       "      <td>0.0</td>\n",
       "      <td>175.0</td>\n",
       "      <td>0.0</td>\n",
       "    </tr>\n",
       "    <tr>\n",
       "      <th>1</th>\n",
       "      <td>2024-01-02</td>\n",
       "      <td>0.0</td>\n",
       "      <td>163.0</td>\n",
       "      <td>280.0</td>\n",
       "      <td>117.0</td>\n",
       "      <td>292.0</td>\n",
       "      <td>0.0</td>\n",
       "    </tr>\n",
       "    <tr>\n",
       "      <th>2</th>\n",
       "      <td>2024-01-03</td>\n",
       "      <td>0.0</td>\n",
       "      <td>215.0</td>\n",
       "      <td>0.0</td>\n",
       "      <td>-215.0</td>\n",
       "      <td>77.0</td>\n",
       "      <td>0.0</td>\n",
       "    </tr>\n",
       "    <tr>\n",
       "      <th>3</th>\n",
       "      <td>2024-01-04</td>\n",
       "      <td>0.0</td>\n",
       "      <td>2953.0</td>\n",
       "      <td>240.0</td>\n",
       "      <td>-2713.0</td>\n",
       "      <td>-2636.0</td>\n",
       "      <td>0.0</td>\n",
       "    </tr>\n",
       "    <tr>\n",
       "      <th>4</th>\n",
       "      <td>2024-01-05</td>\n",
       "      <td>0.0</td>\n",
       "      <td>55.0</td>\n",
       "      <td>240.0</td>\n",
       "      <td>185.0</td>\n",
       "      <td>-2451.0</td>\n",
       "      <td>0.0</td>\n",
       "    </tr>\n",
       "    <tr>\n",
       "      <th>...</th>\n",
       "      <td>...</td>\n",
       "      <td>...</td>\n",
       "      <td>...</td>\n",
       "      <td>...</td>\n",
       "      <td>...</td>\n",
       "      <td>...</td>\n",
       "      <td>...</td>\n",
       "    </tr>\n",
       "    <tr>\n",
       "      <th>481</th>\n",
       "      <td>2025-04-26</td>\n",
       "      <td>0.0</td>\n",
       "      <td>0.0</td>\n",
       "      <td>0.0</td>\n",
       "      <td>0.0</td>\n",
       "      <td>475.0</td>\n",
       "      <td>0.0</td>\n",
       "    </tr>\n",
       "    <tr>\n",
       "      <th>482</th>\n",
       "      <td>2025-04-27</td>\n",
       "      <td>0.0</td>\n",
       "      <td>0.0</td>\n",
       "      <td>0.0</td>\n",
       "      <td>0.0</td>\n",
       "      <td>475.0</td>\n",
       "      <td>0.0</td>\n",
       "    </tr>\n",
       "    <tr>\n",
       "      <th>483</th>\n",
       "      <td>2025-04-28</td>\n",
       "      <td>0.0</td>\n",
       "      <td>39.0</td>\n",
       "      <td>0.0</td>\n",
       "      <td>-39.0</td>\n",
       "      <td>436.0</td>\n",
       "      <td>0.0</td>\n",
       "    </tr>\n",
       "    <tr>\n",
       "      <th>484</th>\n",
       "      <td>2025-04-29</td>\n",
       "      <td>0.0</td>\n",
       "      <td>107.0</td>\n",
       "      <td>0.0</td>\n",
       "      <td>-107.0</td>\n",
       "      <td>329.0</td>\n",
       "      <td>0.0</td>\n",
       "    </tr>\n",
       "    <tr>\n",
       "      <th>485</th>\n",
       "      <td>2025-04-30</td>\n",
       "      <td>0.0</td>\n",
       "      <td>11.0</td>\n",
       "      <td>0.0</td>\n",
       "      <td>-11.0</td>\n",
       "      <td>318.0</td>\n",
       "      <td>0.0</td>\n",
       "    </tr>\n",
       "  </tbody>\n",
       "</table>\n",
       "<p>486 rows × 7 columns</p>\n",
       "</div>"
      ],
      "text/plain": [
       "          date  stock_count  sell_quantity  buy_quantity  daily_balance  \\\n",
       "0   2024-01-01        175.0            0.0           0.0            0.0   \n",
       "1   2024-01-02          0.0          163.0         280.0          117.0   \n",
       "2   2024-01-03          0.0          215.0           0.0         -215.0   \n",
       "3   2024-01-04          0.0         2953.0         240.0        -2713.0   \n",
       "4   2024-01-05          0.0           55.0         240.0          185.0   \n",
       "..         ...          ...            ...           ...            ...   \n",
       "481 2025-04-26          0.0            0.0           0.0            0.0   \n",
       "482 2025-04-27          0.0            0.0           0.0            0.0   \n",
       "483 2025-04-28          0.0           39.0           0.0          -39.0   \n",
       "484 2025-04-29          0.0          107.0           0.0         -107.0   \n",
       "485 2025-04-30          0.0           11.0           0.0          -11.0   \n",
       "\n",
       "     inventory  inv_correction  \n",
       "0        175.0             0.0  \n",
       "1        292.0             0.0  \n",
       "2         77.0             0.0  \n",
       "3      -2636.0             0.0  \n",
       "4      -2451.0             0.0  \n",
       "..         ...             ...  \n",
       "481      475.0             0.0  \n",
       "482      475.0             0.0  \n",
       "483      436.0             0.0  \n",
       "484      329.0             0.0  \n",
       "485      318.0             0.0  \n",
       "\n",
       "[486 rows x 7 columns]"
      ]
     },
     "execution_count": 160,
     "metadata": {},
     "output_type": "execute_result"
    }
   ],
   "source": [
    "inventory_df = inventory_df.merge(sell_df[['date', 'sell_quantity']], on = 'date', how = 'left').fillna(0)\n",
    "inventory_df = inventory_df.merge(buy_df[['date', 'buy_quantity']], on = 'date', how = 'left').fillna(0)\n",
    "\n",
    "inventory_df['daily_balance'] = inventory_df['buy_quantity'] - inventory_df['sell_quantity']\n",
    "inventory_df.loc[0, 'inventory'] = initial_inv\n",
    "\n",
    "for i in range(1, len(inventory_df)):\n",
    "    if (inventory_df.loc[i, 'stock_count'] == 0):\n",
    "        inventory_df.loc[i, 'inventory'] = inventory_df.loc[i-1, 'inventory'] + inventory_df.loc[i, 'daily_balance']\n",
    "    else:\n",
    "        inventory_df.loc[i, 'inv_correction'] = inventory_df.loc[i-1, 'inventory'] + inventory_df.loc[i, 'daily_balance'] - inventory_df.loc[i, 'stock_count']\n",
    "        inventory_df.loc[i, 'inventory'] = inventory_df.loc[i, 'stock_count']\n",
    "    \n",
    "inventory_df['inv_correction'] = inventory_df['inv_correction'].fillna(0)\n",
    "\n",
    "inventory_df"
   ]
  },
  {
   "cell_type": "markdown",
   "id": "ccaf258e-425c-4417-b21e-9347a8799ebe",
   "metadata": {},
   "source": [
    "The inventory position was consolidated after the outlier analysis and treatment on purchase and sales datasets. This ensures that the input and output quantities used in the inventory calculation reflect realistic business behavior, avoiding distortions caused by anomalous or erroneous records."
   ]
  },
  {
   "cell_type": "code",
   "execution_count": 162,
   "id": "c5bb3eb7-ca2d-4b5b-b838-558495138bcb",
   "metadata": {},
   "outputs": [
    {
     "data": {
      "text/html": [
       "<div>\n",
       "<style scoped>\n",
       "    .dataframe tbody tr th:only-of-type {\n",
       "        vertical-align: middle;\n",
       "    }\n",
       "\n",
       "    .dataframe tbody tr th {\n",
       "        vertical-align: top;\n",
       "    }\n",
       "\n",
       "    .dataframe thead th {\n",
       "        text-align: right;\n",
       "    }\n",
       "</style>\n",
       "<table border=\"1\" class=\"dataframe\">\n",
       "  <thead>\n",
       "    <tr style=\"text-align: right;\">\n",
       "      <th></th>\n",
       "      <th>stock_count</th>\n",
       "      <th>daily_balance</th>\n",
       "      <th>inventory</th>\n",
       "    </tr>\n",
       "  </thead>\n",
       "  <tbody>\n",
       "    <tr>\n",
       "      <th>count</th>\n",
       "      <td>486.000000</td>\n",
       "      <td>486.000000</td>\n",
       "      <td>486.000000</td>\n",
       "    </tr>\n",
       "    <tr>\n",
       "      <th>mean</th>\n",
       "      <td>5.051440</td>\n",
       "      <td>-2.997942</td>\n",
       "      <td>214.763374</td>\n",
       "    </tr>\n",
       "    <tr>\n",
       "      <th>std</th>\n",
       "      <td>64.516628</td>\n",
       "      <td>190.382821</td>\n",
       "      <td>1420.814590</td>\n",
       "    </tr>\n",
       "    <tr>\n",
       "      <th>min</th>\n",
       "      <td>0.000000</td>\n",
       "      <td>-2713.000000</td>\n",
       "      <td>-3044.000000</td>\n",
       "    </tr>\n",
       "    <tr>\n",
       "      <th>25%</th>\n",
       "      <td>0.000000</td>\n",
       "      <td>-78.750000</td>\n",
       "      <td>108.000000</td>\n",
       "    </tr>\n",
       "    <tr>\n",
       "      <th>50%</th>\n",
       "      <td>0.000000</td>\n",
       "      <td>0.000000</td>\n",
       "      <td>431.500000</td>\n",
       "    </tr>\n",
       "    <tr>\n",
       "      <th>75%</th>\n",
       "      <td>0.000000</td>\n",
       "      <td>75.750000</td>\n",
       "      <td>1230.000000</td>\n",
       "    </tr>\n",
       "    <tr>\n",
       "      <th>max</th>\n",
       "      <td>1330.000000</td>\n",
       "      <td>585.000000</td>\n",
       "      <td>2104.000000</td>\n",
       "    </tr>\n",
       "  </tbody>\n",
       "</table>\n",
       "</div>"
      ],
      "text/plain": [
       "       stock_count  daily_balance    inventory\n",
       "count   486.000000     486.000000   486.000000\n",
       "mean      5.051440      -2.997942   214.763374\n",
       "std      64.516628     190.382821  1420.814590\n",
       "min       0.000000   -2713.000000 -3044.000000\n",
       "25%       0.000000     -78.750000   108.000000\n",
       "50%       0.000000       0.000000   431.500000\n",
       "75%       0.000000      75.750000  1230.000000\n",
       "max    1330.000000     585.000000  2104.000000"
      ]
     },
     "execution_count": 162,
     "metadata": {},
     "output_type": "execute_result"
    }
   ],
   "source": [
    "inventory_df.describe(include = ['float', 'int'])[['stock_count', 'daily_balance', 'inventory']]"
   ]
  },
  {
   "cell_type": "code",
   "execution_count": 163,
   "id": "a66cbb71-3272-4c0d-b847-41f5ac17740c",
   "metadata": {},
   "outputs": [
    {
     "data": {
      "image/png": "[encoded data removed]",
      "text/plain": [
       "<Figure size 800x550 with 1 Axes>"
      ]
     },
     "metadata": {},
     "output_type": "display_data"
    }
   ],
   "source": [
    "def PBInv(df):\n",
    "    set_plot_style()\n",
    "\n",
    "    df = df.rename(columns = {'daily_balance': 'Daily Balance', 'inventory': 'Inventory'})\n",
    "    df = df.melt(var_name = 'Feature', value_name = 'Value')\n",
    "               \n",
    "    sns.boxplot(x = 'Feature', y = 'Value', data = df, palette = {'Daily Balance': corViridis[0], 'Inventory': corViridis[1]})\n",
    "\n",
    "    plt.title(\"Daily Balance and Inventory Box Plot\")\n",
    "    plt.xlabel(\"\")\n",
    "    plt.ylabel(\"\")\n",
    "                    \n",
    "    plt.gcf().set_size_inches(8, 5.5)\n",
    "                    \n",
    "    plt.show()\n",
    "    plt.close()\n",
    "\n",
    "PBInv(inventory_df[['daily_balance', 'inventory']])"
   ]
  },
  {
   "cell_type": "markdown",
   "id": "8401d85a-a3bb-4374-bcc1-0fc5649fcfcb",
   "metadata": {},
   "source": [
    "The `daily_balance` and `inventory` variables present extremely low minimum values when compared to their respective interquartile ranges and standard deviations. These anomalies may indicate data entry issues or propagation of previous errors, and therefore warrant further investigation before proceeding."
   ]
  },
  {
   "cell_type": "code",
   "execution_count": 165,
   "id": "afa94ddc-cba0-42d4-b59a-62cca2786132",
   "metadata": {},
   "outputs": [
    {
     "data": {
      "image/png": "[encoded data removed]",
      "text/plain": [
       "<Figure size 1500x600 with 1 Axes>"
      ]
     },
     "metadata": {},
     "output_type": "display_data"
    }
   ],
   "source": [
    "def PlotBSI(buy_df, sell_df, inventory_df):\n",
    "    set_plot_style()\n",
    "               \n",
    "    plt.plot(buy_df['date'], buy_df['buy_quantity'], label = \"Bought\", color = corViridis[0])\n",
    "    plt.plot(sell_df['date'], sell_df['sell_quantity'], label = \"Sold\", color = corViridis[1])\n",
    "    plt.plot(inventory_df['date'], inventory_df['inventory'], label = \"Inventory\", color = corViridis[2])\n",
    "\n",
    "    plt.title(\"Bought Quantity x Sold Quantity x Inventory\")\n",
    "\n",
    "    legend = plt.legend(loc = \"upper right\")\n",
    "    legend.get_frame().set_facecolor('0.85')\n",
    "    legend.get_frame().set_edgecolor('0.85')\n",
    "                    \n",
    "    plt.gcf().set_size_inches(15, 6)\n",
    "                    \n",
    "    plt.show()\n",
    "    plt.close()\n",
    "\n",
    "PlotBSI(buy_df, sell_df, inventory_df)"
   ]
  },
  {
   "cell_type": "markdown",
   "id": "798223da-42aa-4854-80c5-36facfc83305",
   "metadata": {},
   "source": [
    "Two extreme outliers in the `sell_quantity` feature are negatively impacting the inventory position, creating unrealistic negative values.\n",
    "\n",
    "To correct this, let's apply a simple filter to exclude extreme cases:\n",
    "- `sell_quantity` < 1000"
   ]
  },
  {
   "cell_type": "code",
   "execution_count": 167,
   "id": "08eccc1b-b173-42be-92f8-0b060bb86564",
   "metadata": {},
   "outputs": [],
   "source": [
    "sell_df = sell_df[sell_df['sell_quantity'] < 1000]"
   ]
  },
  {
   "cell_type": "code",
   "execution_count": 168,
   "id": "0e716ae8-16c5-48a1-ba6f-385dc9cc31a0",
   "metadata": {},
   "outputs": [
    {
     "data": {
      "image/png": "[encoded data removed]",
      "text/plain": [
       "<Figure size 1500x600 with 1 Axes>"
      ]
     },
     "metadata": {},
     "output_type": "display_data"
    }
   ],
   "source": [
    "inventory_df = inventory_df.drop(columns = {'inventory', 'daily_balance', 'sell_quantity', 'buy_quantity'}, axis = 1)\n",
    "\n",
    "inventory_df = inventory_df.merge(sell_df[['date', 'sell_quantity']], on = 'date', how = 'left').fillna(0)\n",
    "inventory_df = inventory_df.merge(buy_df[['date', 'buy_quantity']], on = 'date', how = 'left').fillna(0)\n",
    "inventory_df['daily_balance'] = inventory_df['buy_quantity'] - inventory_df['sell_quantity']\n",
    "\n",
    "inventory_df.loc[0, 'inventory'] = initial_inv\n",
    "inventory_df = inventory_df.drop('inv_correction', axis = 1)\n",
    "\n",
    "for i in range(1, len(inventory_df)):\n",
    "    if (inventory_df.loc[i, 'stock_count'] == 0):\n",
    "        inventory_df.loc[i, 'inventory'] = inventory_df.loc[i-1, 'inventory'] + inventory_df.loc[i, 'daily_balance']\n",
    "    else:\n",
    "        inventory_df.loc[i, 'inv_correction'] = inventory_df.loc[i-1, 'inventory'] + inventory_df.loc[i, 'daily_balance'] - inventory_df.loc[i, 'stock_count']\n",
    "        inventory_df.loc[i, 'inventory'] = inventory_df.loc[i, 'stock_count']\n",
    "    \n",
    "inventory_df['inv_correction'] = inventory_df['inv_correction'].fillna(0)\n",
    "\n",
    "inventory_df = inventory_df.drop(columns = {'sell_quantity', 'buy_quantity'}, axis = 1)\n",
    "\n",
    "PlotBSI(buy_df, sell_df, inventory_df)"
   ]
  },
  {
   "cell_type": "code",
   "execution_count": 169,
   "id": "f222be3c-4660-4d99-851c-282191131add",
   "metadata": {},
   "outputs": [
    {
     "data": {
      "image/png": "[encoded data removed]",
      "text/plain": [
       "<Figure size 800x550 with 1 Axes>"
      ]
     },
     "metadata": {},
     "output_type": "display_data"
    }
   ],
   "source": [
    "PBInv(inventory_df[['daily_balance', 'inventory']])"
   ]
  },
  {
   "cell_type": "markdown",
   "id": "9ddbaf94-320e-42d7-a8c5-1b371966895c",
   "metadata": {},
   "source": [
    "## **DATA CONSOLIDATION**"
   ]
  },
  {
   "cell_type": "code",
   "execution_count": 231,
   "id": "f7d7f0cf-eb1d-4fed-a018-fb41941401ae",
   "metadata": {},
   "outputs": [
    {
     "data": {
      "text/html": [
       "<div>\n",
       "<style scoped>\n",
       "    .dataframe tbody tr th:only-of-type {\n",
       "        vertical-align: middle;\n",
       "    }\n",
       "\n",
       "    .dataframe tbody tr th {\n",
       "        vertical-align: top;\n",
       "    }\n",
       "\n",
       "    .dataframe thead th {\n",
       "        text-align: right;\n",
       "    }\n",
       "</style>\n",
       "<table border=\"1\" class=\"dataframe\">\n",
       "  <thead>\n",
       "    <tr style=\"text-align: right;\">\n",
       "      <th></th>\n",
       "      <th>date</th>\n",
       "      <th>sell_quantity</th>\n",
       "      <th>sell_value</th>\n",
       "      <th>sell_final_value</th>\n",
       "      <th>buy_quantity</th>\n",
       "      <th>buy_value</th>\n",
       "      <th>daily_balance</th>\n",
       "      <th>inventory</th>\n",
       "      <th>inv_correction</th>\n",
       "      <th>avg_temperature</th>\n",
       "      <th>precipitation</th>\n",
       "      <th>ipca</th>\n",
       "      <th>is_holiday</th>\n",
       "      <th>holiday_name</th>\n",
       "    </tr>\n",
       "  </thead>\n",
       "  <tbody>\n",
       "    <tr>\n",
       "      <th>0</th>\n",
       "      <td>2024-01-01</td>\n",
       "      <td>0.0</td>\n",
       "      <td>0.00</td>\n",
       "      <td>0.00</td>\n",
       "      <td>0.0</td>\n",
       "      <td>0.00</td>\n",
       "      <td>0.0</td>\n",
       "      <td>175.0</td>\n",
       "      <td>0.0</td>\n",
       "      <td>24.9</td>\n",
       "      <td>0.1</td>\n",
       "      <td>0.42</td>\n",
       "      <td>1</td>\n",
       "      <td>Confraternização Universal</td>\n",
       "    </tr>\n",
       "    <tr>\n",
       "      <th>1</th>\n",
       "      <td>2024-01-02</td>\n",
       "      <td>163.0</td>\n",
       "      <td>32.10</td>\n",
       "      <td>34.27</td>\n",
       "      <td>280.0</td>\n",
       "      <td>28.97</td>\n",
       "      <td>117.0</td>\n",
       "      <td>292.0</td>\n",
       "      <td>0.0</td>\n",
       "      <td>25.0</td>\n",
       "      <td>0.2</td>\n",
       "      <td>0.42</td>\n",
       "      <td>0</td>\n",
       "      <td>None</td>\n",
       "    </tr>\n",
       "    <tr>\n",
       "      <th>2</th>\n",
       "      <td>2024-01-03</td>\n",
       "      <td>215.0</td>\n",
       "      <td>31.13</td>\n",
       "      <td>33.23</td>\n",
       "      <td>0.0</td>\n",
       "      <td>0.00</td>\n",
       "      <td>-215.0</td>\n",
       "      <td>77.0</td>\n",
       "      <td>0.0</td>\n",
       "      <td>24.8</td>\n",
       "      <td>4.9</td>\n",
       "      <td>0.42</td>\n",
       "      <td>0</td>\n",
       "      <td>None</td>\n",
       "    </tr>\n",
       "    <tr>\n",
       "      <th>3</th>\n",
       "      <td>2024-01-04</td>\n",
       "      <td>0.0</td>\n",
       "      <td>0.00</td>\n",
       "      <td>0.00</td>\n",
       "      <td>240.0</td>\n",
       "      <td>28.43</td>\n",
       "      <td>240.0</td>\n",
       "      <td>317.0</td>\n",
       "      <td>0.0</td>\n",
       "      <td>24.8</td>\n",
       "      <td>0.0</td>\n",
       "      <td>0.42</td>\n",
       "      <td>0</td>\n",
       "      <td>None</td>\n",
       "    </tr>\n",
       "    <tr>\n",
       "      <th>4</th>\n",
       "      <td>2024-01-05</td>\n",
       "      <td>55.0</td>\n",
       "      <td>35.50</td>\n",
       "      <td>37.90</td>\n",
       "      <td>240.0</td>\n",
       "      <td>28.43</td>\n",
       "      <td>185.0</td>\n",
       "      <td>502.0</td>\n",
       "      <td>0.0</td>\n",
       "      <td>25.1</td>\n",
       "      <td>0.0</td>\n",
       "      <td>0.42</td>\n",
       "      <td>0</td>\n",
       "      <td>None</td>\n",
       "    </tr>\n",
       "  </tbody>\n",
       "</table>\n",
       "</div>"
      ],
      "text/plain": [
       "        date  sell_quantity  sell_value  sell_final_value  buy_quantity  \\\n",
       "0 2024-01-01            0.0        0.00              0.00           0.0   \n",
       "1 2024-01-02          163.0       32.10             34.27         280.0   \n",
       "2 2024-01-03          215.0       31.13             33.23           0.0   \n",
       "3 2024-01-04            0.0        0.00              0.00         240.0   \n",
       "4 2024-01-05           55.0       35.50             37.90         240.0   \n",
       "\n",
       "   buy_value  daily_balance  inventory  inv_correction  avg_temperature  \\\n",
       "0       0.00            0.0      175.0             0.0             24.9   \n",
       "1      28.97          117.0      292.0             0.0             25.0   \n",
       "2       0.00         -215.0       77.0             0.0             24.8   \n",
       "3      28.43          240.0      317.0             0.0             24.8   \n",
       "4      28.43          185.0      502.0             0.0             25.1   \n",
       "\n",
       "   precipitation  ipca  is_holiday                holiday_name  \n",
       "0            0.1  0.42           1  Confraternização Universal  \n",
       "1            0.2  0.42           0                        None  \n",
       "2            4.9  0.42           0                        None  \n",
       "3            0.0  0.42           0                        None  \n",
       "4            0.0  0.42           0                        None  "
      ]
     },
     "execution_count": 231,
     "metadata": {},
     "output_type": "execute_result"
    }
   ],
   "source": [
    "df = pd.date_range(start = '2024-01-01', end = '2025-04-30', freq = 'D')\n",
    "df = pd.DataFrame({'date': df})\n",
    "\n",
    "df = df.merge(sell_df, on = 'date', how = 'left') \\\n",
    "        .merge(buy_df, on = 'date', how = 'left') \\\n",
    "        .merge(inventory_df, on = 'date', how = 'left') \\\n",
    "        .merge(weather_df, on = 'date', how = 'left') \\\n",
    "        .merge(inflation_df, on = 'date', how = 'left') \\\n",
    "        .merge(holidays_df, on = 'date', how = 'left')\n",
    "\n",
    "df = df.fillna(0)\n",
    "\n",
    "df = df.drop('stock_count', axis = 1)\n",
    "\n",
    "df.head()"
   ]
  },
  {
   "cell_type": "code",
   "execution_count": 233,
   "id": "2de263e5-b641-46ed-928c-1a7e22a290ad",
   "metadata": {},
   "outputs": [
    {
     "name": "stdout",
     "output_type": "stream",
     "text": [
      "<class 'pandas.core.frame.DataFrame'>\n",
      "RangeIndex: 486 entries, 0 to 485\n",
      "Data columns (total 14 columns):\n",
      " #   Column            Non-Null Count  Dtype         \n",
      "---  ------            --------------  -----         \n",
      " 0   date              486 non-null    datetime64[ns]\n",
      " 1   sell_quantity     486 non-null    float64       \n",
      " 2   sell_value        486 non-null    float64       \n",
      " 3   sell_final_value  486 non-null    float64       \n",
      " 4   buy_quantity      486 non-null    float64       \n",
      " 5   buy_value         486 non-null    float64       \n",
      " 6   daily_balance     486 non-null    float64       \n",
      " 7   inventory         486 non-null    float64       \n",
      " 8   inv_correction    486 non-null    float64       \n",
      " 9   avg_temperature   486 non-null    float64       \n",
      " 10  precipitation     486 non-null    float64       \n",
      " 11  ipca              486 non-null    object        \n",
      " 12  is_holiday        486 non-null    int64         \n",
      " 13  holiday_name      486 non-null    object        \n",
      "dtypes: datetime64[ns](1), float64(10), int64(1), object(2)\n",
      "memory usage: 53.3+ KB\n"
     ]
    }
   ],
   "source": [
    "df.info()"
   ]
  },
  {
   "cell_type": "code",
   "execution_count": 237,
   "id": "720771ab-332b-4bf2-b383-2214995a16d7",
   "metadata": {},
   "outputs": [
    {
     "name": "stdout",
     "output_type": "stream",
     "text": [
      "<class 'pandas.core.frame.DataFrame'>\n",
      "RangeIndex: 486 entries, 0 to 485\n",
      "Data columns (total 14 columns):\n",
      " #   Column            Non-Null Count  Dtype         \n",
      "---  ------            --------------  -----         \n",
      " 0   date              486 non-null    datetime64[ns]\n",
      " 1   sell_quantity     486 non-null    int64         \n",
      " 2   sell_value        486 non-null    float64       \n",
      " 3   sell_final_value  486 non-null    float64       \n",
      " 4   buy_quantity      486 non-null    int64         \n",
      " 5   buy_value         486 non-null    float64       \n",
      " 6   daily_balance     486 non-null    int64         \n",
      " 7   inventory         486 non-null    int64         \n",
      " 8   inv_correction    486 non-null    int64         \n",
      " 9   avg_temperature   486 non-null    float64       \n",
      " 10  precipitation     486 non-null    float64       \n",
      " 11  ipca              486 non-null    float64       \n",
      " 12  is_holiday        486 non-null    int64         \n",
      " 13  holiday_name      486 non-null    object        \n",
      "dtypes: datetime64[ns](1), float64(6), int64(6), object(1)\n",
      "memory usage: 53.3+ KB\n"
     ]
    }
   ],
   "source": [
    "df = df.astype({'sell_quantity': 'int64', 'buy_quantity': 'int64', 'daily_balance': 'int64', 'inventory': 'int64',\n",
    "                'inv_correction': 'int64', 'ipca': 'float64'})\n",
    "df.info()"
   ]
  },
  {
   "cell_type": "markdown",
   "id": "99caac47-d746-42ff-bfe5-8dd763b67f32",
   "metadata": {},
   "source": [
    "# **SAVING PROCESSED DATASET**"
   ]
  },
  {
   "cell_type": "code",
   "execution_count": 239,
   "id": "075efda3-d1e5-4e63-8cbc-a4c4aa00751d",
   "metadata": {},
   "outputs": [],
   "source": [
    "df.to_csv('../data/processed/01_Data_Cleaning.csv', index = False)"
   ]
  }
 ],
 "metadata": {
  "kernelspec": {
   "display_name": "Python [conda env:base] *",
   "language": "python",
   "name": "conda-base-py"
  },
  "language_info": {
   "codemirror_mode": {
    "name": "ipython",
    "version": 3
   },
   "file_extension": ".py",
   "mimetype": "text/x-python",
   "name": "python",
   "nbconvert_exporter": "python",
   "pygments_lexer": "ipython3",
   "version": "3.12.7"
  }
 },
 "nbformat": 4,
 "nbformat_minor": 5
}
