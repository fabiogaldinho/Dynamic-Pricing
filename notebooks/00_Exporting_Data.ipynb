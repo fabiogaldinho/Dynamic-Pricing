{
 "cells": [
  {
   "cell_type": "code",
   "execution_count": 1,
   "id": "450042c3-fccd-4424-976f-4abc1ce5e5d2",
   "metadata": {},
   "outputs": [],
   "source": [
    "import pandas as pd\n",
    "\n",
    "from pyodbc import connect"
   ]
  },
  {
   "cell_type": "code",
   "execution_count": 2,
   "id": "848f204d-9aa9-4f48-a16e-8297698f67ea",
   "metadata": {},
   "outputs": [],
   "source": [
    "def warn(*args, **kwargs):\n",
    "    pass\n",
    "import warnings\n",
    "warnings.warn = warn"
   ]
  },
  {
   "cell_type": "code",
   "execution_count": 3,
   "id": "d57ea77d-55e1-4c19-9572-52c73eb5bed1",
   "metadata": {},
   "outputs": [],
   "source": [
    "conn = connect(\n",
    "    \"DRIVER={SQL Server Native Client 11.0};\"\n",
    "    \"SERVER=server;\"\n",
    "    \"DATABASE=winloja;\"\n",
    "    \"UID=fabio;\"\n",
    "    \"PWD=fabio@2025\"\n",
    ")"
   ]
  },
  {
   "cell_type": "code",
   "execution_count": 4,
   "id": "7cb317be-3ea8-42d9-82e8-44f457b10389",
   "metadata": {},
   "outputs": [],
   "source": [
    "query = \"SELECT VWS.sellout_timestamp as 'date', VWSI.quantity, VWSI.unit_value as value, VWSI.description as product \\\n",
    "            FROM VW_Sellout as VWS, VW_SelloutItem as VWSI \\\n",
    "            WHERE VWS.id = VWSI.id \\\n",
    "                \tAND VWSI.code = 40 \\\n",
    "                \tAND VWS.sellout_timestamp > '2024-01-01T00:00:00' \\\n",
    "                \tAND operation = 'S' \\\n",
    "            ORDER BY VWS.sellout_timestamp\""
   ]
  },
  {
   "cell_type": "code",
   "execution_count": 5,
   "id": "af1bb2a6-10d4-45a5-9523-cb8211b4721f",
   "metadata": {},
   "outputs": [
    {
     "data": {
      "text/html": [
       "<div>\n",
       "<style scoped>\n",
       "    .dataframe tbody tr th:only-of-type {\n",
       "        vertical-align: middle;\n",
       "    }\n",
       "\n",
       "    .dataframe tbody tr th {\n",
       "        vertical-align: top;\n",
       "    }\n",
       "\n",
       "    .dataframe thead th {\n",
       "        text-align: right;\n",
       "    }\n",
       "</style>\n",
       "<table border=\"1\" class=\"dataframe\">\n",
       "  <thead>\n",
       "    <tr style=\"text-align: right;\">\n",
       "      <th></th>\n",
       "      <th>date</th>\n",
       "      <th>quantity</th>\n",
       "      <th>value</th>\n",
       "      <th>product</th>\n",
       "    </tr>\n",
       "  </thead>\n",
       "  <tbody>\n",
       "    <tr>\n",
       "      <th>0</th>\n",
       "      <td>2024-01-02T07:48:00</td>\n",
       "      <td>30.0</td>\n",
       "      <td>34.5</td>\n",
       "      <td>CIMENTO VOTORAN TODAS OBRAS 50 KG</td>\n",
       "    </tr>\n",
       "    <tr>\n",
       "      <th>1</th>\n",
       "      <td>2024-01-02T07:52:00</td>\n",
       "      <td>4.0</td>\n",
       "      <td>40.6</td>\n",
       "      <td>CIMENTO VOTORAN TODAS OBRAS 50 KG</td>\n",
       "    </tr>\n",
       "    <tr>\n",
       "      <th>2</th>\n",
       "      <td>2024-01-02T09:09:00</td>\n",
       "      <td>2.0</td>\n",
       "      <td>34.9</td>\n",
       "      <td>CIMENTO VOTORAN TODAS OBRAS 50 KG</td>\n",
       "    </tr>\n",
       "    <tr>\n",
       "      <th>3</th>\n",
       "      <td>2024-01-02T09:22:00</td>\n",
       "      <td>10.0</td>\n",
       "      <td>34.9</td>\n",
       "      <td>CIMENTO VOTORAN TODAS OBRAS 50 KG</td>\n",
       "    </tr>\n",
       "    <tr>\n",
       "      <th>4</th>\n",
       "      <td>2024-01-02T09:50:00</td>\n",
       "      <td>15.0</td>\n",
       "      <td>34.5</td>\n",
       "      <td>CIMENTO VOTORAN TODAS OBRAS 50 KG</td>\n",
       "    </tr>\n",
       "  </tbody>\n",
       "</table>\n",
       "</div>"
      ],
      "text/plain": [
       "                  date  quantity  value                            product\n",
       "0  2024-01-02T07:48:00      30.0   34.5  CIMENTO VOTORAN TODAS OBRAS 50 KG\n",
       "1  2024-01-02T07:52:00       4.0   40.6  CIMENTO VOTORAN TODAS OBRAS 50 KG\n",
       "2  2024-01-02T09:09:00       2.0   34.9  CIMENTO VOTORAN TODAS OBRAS 50 KG\n",
       "3  2024-01-02T09:22:00      10.0   34.9  CIMENTO VOTORAN TODAS OBRAS 50 KG\n",
       "4  2024-01-02T09:50:00      15.0   34.5  CIMENTO VOTORAN TODAS OBRAS 50 KG"
      ]
     },
     "execution_count": 5,
     "metadata": {},
     "output_type": "execute_result"
    }
   ],
   "source": [
    "df = pd.read_sql(query, conn)\n",
    "df.head()"
   ]
  },
  {
   "cell_type": "code",
   "execution_count": 8,
   "id": "13750090-6a62-4173-83cb-486f5ede9396",
   "metadata": {},
   "outputs": [],
   "source": [
    "df.to_csv('../data/raw/ProductSold.csv', index = False)"
   ]
  },
  {
   "cell_type": "code",
   "execution_count": 10,
   "id": "379c513f-4fff-4cf0-a9ae-4bcbf7b6791b",
   "metadata": {},
   "outputs": [],
   "source": [
    "query = \"SELECT VWC.sellin_timestamp as 'date', VWCI.quantity, VWCI.unit_value as value, VWCI.description as product \\\n",
    "            FROM VW_Sellin as VWC, VW_SellinItem as VWCI \\\n",
    "            WHERE VWC.id = VWCI.id \\\n",
    "                \tAND VWCI.code = 40 \\\n",
    "                \tAND VWC.sellin_timestamp > '2024-01-01T00:00:00' \\\n",
    "            ORDER BY VWC.sellin_timestamp\""
   ]
  },
  {
   "cell_type": "code",
   "execution_count": 12,
   "id": "fcd7aa85-dd14-465d-a9b1-df1ae934839a",
   "metadata": {},
   "outputs": [
    {
     "data": {
      "text/html": [
       "<div>\n",
       "<style scoped>\n",
       "    .dataframe tbody tr th:only-of-type {\n",
       "        vertical-align: middle;\n",
       "    }\n",
       "\n",
       "    .dataframe tbody tr th {\n",
       "        vertical-align: top;\n",
       "    }\n",
       "\n",
       "    .dataframe thead th {\n",
       "        text-align: right;\n",
       "    }\n",
       "</style>\n",
       "<table border=\"1\" class=\"dataframe\">\n",
       "  <thead>\n",
       "    <tr style=\"text-align: right;\">\n",
       "      <th></th>\n",
       "      <th>date</th>\n",
       "      <th>quantity</th>\n",
       "      <th>value</th>\n",
       "      <th>product</th>\n",
       "    </tr>\n",
       "  </thead>\n",
       "  <tbody>\n",
       "    <tr>\n",
       "      <th>0</th>\n",
       "      <td>2024-01-02T08:03:00</td>\n",
       "      <td>280.0</td>\n",
       "      <td>28.97</td>\n",
       "      <td>CIMENTO VOTORAN TODAS OBRAS 50 KG</td>\n",
       "    </tr>\n",
       "    <tr>\n",
       "      <th>1</th>\n",
       "      <td>2024-01-04T08:05:00</td>\n",
       "      <td>240.0</td>\n",
       "      <td>28.43</td>\n",
       "      <td>CIMENTO VOTORAN TODAS OBRAS 50 KG</td>\n",
       "    </tr>\n",
       "    <tr>\n",
       "      <th>2</th>\n",
       "      <td>2024-01-05T07:37:00</td>\n",
       "      <td>240.0</td>\n",
       "      <td>28.43</td>\n",
       "      <td>CIMENTO VOTORAN TODAS OBRAS 50 KG</td>\n",
       "    </tr>\n",
       "    <tr>\n",
       "      <th>3</th>\n",
       "      <td>2024-01-09T16:03:00</td>\n",
       "      <td>240.0</td>\n",
       "      <td>28.43</td>\n",
       "      <td>CIMENTO VOTORAN TODAS OBRAS 50 KG</td>\n",
       "    </tr>\n",
       "    <tr>\n",
       "      <th>4</th>\n",
       "      <td>2024-01-11T16:47:00</td>\n",
       "      <td>240.0</td>\n",
       "      <td>28.43</td>\n",
       "      <td>CIMENTO VOTORAN TODAS OBRAS 50 KG</td>\n",
       "    </tr>\n",
       "  </tbody>\n",
       "</table>\n",
       "</div>"
      ],
      "text/plain": [
       "                  date  quantity  value                            product\n",
       "0  2024-01-02T08:03:00     280.0  28.97  CIMENTO VOTORAN TODAS OBRAS 50 KG\n",
       "1  2024-01-04T08:05:00     240.0  28.43  CIMENTO VOTORAN TODAS OBRAS 50 KG\n",
       "2  2024-01-05T07:37:00     240.0  28.43  CIMENTO VOTORAN TODAS OBRAS 50 KG\n",
       "3  2024-01-09T16:03:00     240.0  28.43  CIMENTO VOTORAN TODAS OBRAS 50 KG\n",
       "4  2024-01-11T16:47:00     240.0  28.43  CIMENTO VOTORAN TODAS OBRAS 50 KG"
      ]
     },
     "execution_count": 12,
     "metadata": {},
     "output_type": "execute_result"
    }
   ],
   "source": [
    "df = pd.read_sql(query, conn)\n",
    "df.head()"
   ]
  },
  {
   "cell_type": "code",
   "execution_count": 14,
   "id": "02cecac3-24fb-4b50-9cd4-ce16979e7066",
   "metadata": {},
   "outputs": [],
   "source": [
    "df.to_csv('../data/raw/ProductBought.csv', index = False)"
   ]
  }
 ],
 "metadata": {
  "kernelspec": {
   "display_name": "Python [conda env:base] *",
   "language": "python",
   "name": "conda-base-py"
  },
  "language_info": {
   "codemirror_mode": {
    "name": "ipython",
    "version": 3
   },
   "file_extension": ".py",
   "mimetype": "text/x-python",
   "name": "python",
   "nbconvert_exporter": "python",
   "pygments_lexer": "ipython3",
   "version": "3.12.7"
  }
 },
 "nbformat": 4,
 "nbformat_minor": 5
}
