{
 "cells": [
  {
   "cell_type": "code",
   "execution_count": 14,
   "id": "b20b6325-cb81-4169-b33b-8b927a64fe1d",
   "metadata": {},
   "outputs": [],
   "source": [
    "import pandas as pd\n",
    "import numpy as np\n",
    "import matplotlib.pyplot as plt\n",
    "import seaborn as sns\n",
    "\n",
    "import os\n",
    "import json\n",
    "import copy\n",
    "\n",
    "!pip install -q joblib\n",
    "import joblib"
   ]
  },
  {
   "cell_type": "code",
   "execution_count": 19,
   "id": "a510344a-bc49-429a-9985-522757230fbd",
   "metadata": {},
   "outputs": [],
   "source": [
    "def warn(*args, **kwargs):\n",
    "    pass\n",
    "import warnings\n",
    "warnings.warn = warn"
   ]
  },
  {
   "cell_type": "code",
   "execution_count": 15,
   "id": "020a34f4-b100-481e-a6ae-a993161fe5fe",
   "metadata": {},
   "outputs": [],
   "source": [
    "corDefault = \"#6688AA\"\n",
    "corViridis = ['#440154', '#414487', '#2a788e', '#22a884', '#7ad151']\n",
    "colorss = ['#b2c3d4', '#414487', '#B01756']\n",
    "\n",
    "def set_plot_style():\n",
    "    # Background colors\n",
    "    plt.figure().patch.set_facecolor(\"0.85\")\n",
    "    plt.axes().set(facecolor=\"0.85\")\n",
    "    \n",
    "    # Hiding grid\n",
    "    plt.grid(False)\n",
    "    \n",
    "    # Setting only left and bottom spines as visible\n",
    "    ax = plt.gca()\n",
    "    ax.spines['bottom'].set_visible(True)\n",
    "    ax.spines['left'].set_visible(True)\n",
    "    ax.spines['top'].set_visible(False)\n",
    "    ax.spines['right'].set_visible(False)\n",
    "    \n",
    "    # Spines color\n",
    "    ax.spines['bottom'].set_color(\"black\")\n",
    "    ax.spines['left'].set_color(\"black\")\n",
    "    \n",
    "    # Plot size\n",
    "    plt.gcf().set_size_inches(6, 5)\n",
    "\n",
    "    # Plot Style\n",
    "    plt.style.use('seaborn-v0_8-colorblind')"
   ]
  },
  {
   "cell_type": "markdown",
   "id": "4f6a8123-b30c-4b13-81a6-cdc5c40e073d",
   "metadata": {},
   "source": [
    "# **LOADING MODEL**"
   ]
  },
  {
   "cell_type": "code",
   "execution_count": 23,
   "id": "9021755b-dc6f-4487-82b7-3249bee17417",
   "metadata": {},
   "outputs": [],
   "source": [
    "model = joblib.load(\"../models/model_v2.pkl\")"
   ]
  },
  {
   "cell_type": "markdown",
   "id": "bc340caa-8e15-4769-902b-d353922efe34",
   "metadata": {},
   "source": [
    "# **FETCHING CONTEXT FEATURES**"
   ]
  },
  {
   "cell_type": "code",
   "execution_count": 7,
   "id": "b31ea2f0-0029-4f07-9dee-579d8b44f1ac",
   "metadata": {},
   "outputs": [],
   "source": [
    "date = '2025-05-21'"
   ]
  },
  {
   "cell_type": "code",
   "execution_count": null,
   "id": "2bcf884b-e4d6-4b47-9395-e92b0e3883bc",
   "metadata": {},
   "outputs": [],
   "source": []
  }
 ],
 "metadata": {
  "kernelspec": {
   "display_name": "Python [conda env:base] *",
   "language": "python",
   "name": "conda-base-py"
  },
  "language_info": {
   "codemirror_mode": {
    "name": "ipython",
    "version": 3
   },
   "file_extension": ".py",
   "mimetype": "text/x-python",
   "name": "python",
   "nbconvert_exporter": "python",
   "pygments_lexer": "ipython3",
   "version": "3.12.7"
  }
 },
 "nbformat": 4,
 "nbformat_minor": 5
}
